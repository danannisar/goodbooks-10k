{
 "cells": [
  {
   "cell_type": "markdown",
   "metadata": {},
   "source": [
    "## Book Recommendations\n",
    "\n",
    "### Problem Description\n",
    "- An online-based book platform (Goodreads) was experiencing the problem of losing potential revenue due to a 20% decrease in user activity.\n",
    "- After conducting research, the Goodreads team found that users felt confused and lost when trying to choose the books they wanted to read on Goodreads, which has nearly ~10,000 books. In addition, users also experience a decrease in interest in reading because they no longer find book preferences that match their interests.\n",
    "\n",
    "### Business Objective\n",
    "- Improve user experience and interest in reading while using the platform by solving the problem of confusion when choosing books.\n",
    "\n",
    "### Solution\n",
    "Create book recommendations to help users choose books easily and eliminate user difficulties in using the Goodreads platform.\n",
    "\n",
    "The recommendation approach that will be carried out is:\n",
    "1. Non-personalized: popularity-based recommendation\n",
    "2. Personalized: collaborative filtering\n",
    "\n",
    "Approaches in personalized recommender systems can be divided based on the presence of interaction data (implicit/explicit):\n",
    "1. Implicit data is taken from indirect user behavior such as book clicks, time spent scrolling through book pages, purchasing items, or adding books to the reading list.\n",
    "2. Explicit data is derived from direct user assessments such as book ratings, book reviews or feedback on user opinions of certain books.\n",
    "\n",
    "Related to this problem, there is direct interaction by the user in the form of rating data. So that the approach to be taken is to use *collaborative filtering*.\n"
   ]
  },
  {
   "cell_type": "markdown",
   "metadata": {},
   "source": [
    "### Steps for Building Book Recommender System\n",
    "\n",
    "1. **Load the dataset and preparation**\n",
    "    <br> a. change data type id to string\n",
    "    <br> b. clean duplicated data in each dataset\n",
    "    <br> c. cek baris yg kosong\n",
    "    <br>\n",
    "2. **EDA**\n",
    "    <br> a. Distribusi user melakukan rating\n",
    "    <br> b. Top rating dan most popular book (top rating dilihat dari average rating, sedangkan popular book dilihat dari ratings count)\n",
    "    <br> c. What influenced book ratings, mungkin semacam pearson correlation\n",
    "    <br>\n",
    "3. Melakukan non personalized recommendations (top K)\n",
    "<br>\n",
    "4. Melakukan personalized recommendations based on genre (top K each genre)"
   ]
  },
  {
   "cell_type": "markdown",
   "metadata": {},
   "source": [
    "## 1. Load the dataset and preparation\n",
    "\n",
    "### Data Description\n",
    "- The data comes from [Goodbooks dataset](https://github.com/zygmuntz/goodbooks-10k).\n",
    "- The dataset contains 10,000 books and 5,976,479 ratings."
   ]
  },
  {
   "cell_type": "code",
   "execution_count": 2,
   "metadata": {
    "execution": {
     "iopub.execute_input": "2023-08-27T01:37:43.595863Z",
     "iopub.status.busy": "2023-08-27T01:37:43.595503Z",
     "iopub.status.idle": "2023-08-27T01:37:45.699871Z",
     "shell.execute_reply": "2023-08-27T01:37:45.699241Z",
     "shell.execute_reply.started": "2023-08-27T01:37:43.595838Z"
    },
    "tags": []
   },
   "outputs": [],
   "source": [
    "import numpy as np \n",
    "import pandas as pd\n",
    "import matplotlib.pyplot as plt\n",
    "import pickle"
   ]
  },
  {
   "cell_type": "code",
   "execution_count": 27,
   "metadata": {
    "execution": {
     "iopub.execute_input": "2023-08-27T01:58:28.776095Z",
     "iopub.status.busy": "2023-08-27T01:58:28.775746Z",
     "iopub.status.idle": "2023-08-27T01:58:30.270323Z",
     "shell.execute_reply": "2023-08-27T01:58:30.269728Z",
     "shell.execute_reply.started": "2023-08-27T01:58:28.776066Z"
    },
    "tags": []
   },
   "outputs": [],
   "source": [
    "ratings = pd.read_csv('data/ratings.csv')\n",
    "books = pd.read_csv('data/books.csv')\n",
    "to_read = pd.read_csv('data/to_read.csv')\n",
    "book_tags = pd.read_csv('data/book_tags.csv')\n",
    "tags = pd.read_csv('data/tags.csv')"
   ]
  },
  {
   "cell_type": "code",
   "execution_count": 28,
   "metadata": {
    "execution": {
     "iopub.execute_input": "2023-08-27T01:58:30.271725Z",
     "iopub.status.busy": "2023-08-27T01:58:30.271444Z",
     "iopub.status.idle": "2023-08-27T01:58:35.731884Z",
     "shell.execute_reply": "2023-08-27T01:58:35.731290Z",
     "shell.execute_reply.started": "2023-08-27T01:58:30.271705Z"
    },
    "tags": []
   },
   "outputs": [],
   "source": [
    "# a. Change data type for IDs columns to string\n",
    "ratings[['user_id', 'book_id']] = ratings[['user_id', 'book_id']].astype(str)\n",
    "books[['book_id', 'goodreads_book_id', 'best_book_id', 'work_id']] = books[['book_id', 'goodreads_book_id', 'best_book_id', 'work_id']].astype(str)\n",
    "to_read[['user_id', 'book_id']] = to_read[['user_id', 'book_id']].astype(str)\n",
    "book_tags[['goodreads_book_id', 'tag_id']] = book_tags[['goodreads_book_id', 'tag_id']].astype(str)\n",
    "tags['tag_id'] = tags['tag_id'].astype(str)"
   ]
  },
  {
   "cell_type": "code",
   "execution_count": 29,
   "metadata": {
    "execution": {
     "iopub.execute_input": "2023-08-27T01:58:35.733161Z",
     "iopub.status.busy": "2023-08-27T01:58:35.732723Z",
     "iopub.status.idle": "2023-08-27T01:58:38.198977Z",
     "shell.execute_reply": "2023-08-27T01:58:38.198376Z",
     "shell.execute_reply.started": "2023-08-27T01:58:35.733140Z"
    },
    "tags": []
   },
   "outputs": [
    {
     "name": "stdout",
     "output_type": "stream",
     "text": [
      "Books shape before drop dup:  (10000, 23)\n",
      "Ratings shape before drop dup:  (5976479, 3)\n",
      "To-read shape before drop dup:  (912705, 2)\n",
      "Books shape after drop dup:  (10000, 23)\n",
      "Ratings shape after drop dup:  (5976479, 3)\n",
      "To-read shape after drop dup:  (912705, 2)\n"
     ]
    }
   ],
   "source": [
    "## b. drop duplicated rows\n",
    "print(\"Books shape before drop dup: \", books.shape)\n",
    "print(\"Ratings shape before drop dup: \", ratings.shape)\n",
    "print(\"To-read shape before drop dup: \", to_read.shape)\n",
    "books.drop_duplicates(subset = ['book_id', 'goodreads_book_id'], inplace = True)\n",
    "ratings.drop_duplicates(subset=['user_id','book_id'], inplace = True)\n",
    "to_read.drop_duplicates(subset=['user_id','book_id'], inplace = True)\n",
    "print(\"Books shape after drop dup: \", books.shape)\n",
    "print(\"Ratings shape after drop dup: \", ratings.shape)\n",
    "print(\"To-read shape after drop dup: \", to_read.shape)"
   ]
  },
  {
   "cell_type": "code",
   "execution_count": 30,
   "metadata": {
    "execution": {
     "iopub.execute_input": "2023-08-27T01:58:38.200884Z",
     "iopub.status.busy": "2023-08-27T01:58:38.200420Z",
     "iopub.status.idle": "2023-08-27T01:58:39.578320Z",
     "shell.execute_reply": "2023-08-27T01:58:39.577484Z",
     "shell.execute_reply.started": "2023-08-27T01:58:38.200863Z"
    },
    "tags": []
   },
   "outputs": [
    {
     "name": "stdout",
     "output_type": "stream",
     "text": [
      "Missing values on Ratings Data: \n",
      " user_id    0\n",
      "book_id    0\n",
      "rating     0\n",
      "dtype: int64\n"
     ]
    }
   ],
   "source": [
    "## c. clean duplicated data in each dataset\n",
    "\n",
    "#check the total number of null values in rating_data\n",
    "print(\"Missing values on Ratings Data: \\n\", ratings.isnull().sum())"
   ]
  },
  {
   "cell_type": "code",
   "execution_count": 31,
   "metadata": {
    "execution": {
     "iopub.execute_input": "2023-08-27T01:58:39.579685Z",
     "iopub.status.busy": "2023-08-27T01:58:39.579254Z",
     "iopub.status.idle": "2023-08-27T01:58:39.597194Z",
     "shell.execute_reply": "2023-08-27T01:58:39.596612Z",
     "shell.execute_reply.started": "2023-08-27T01:58:39.579663Z"
    },
    "tags": []
   },
   "outputs": [
    {
     "name": "stdout",
     "output_type": "stream",
     "text": [
      "Missing values on Books Data: \n",
      " book_id                         0\n",
      "goodreads_book_id               0\n",
      "best_book_id                    0\n",
      "work_id                         0\n",
      "books_count                     0\n",
      "isbn                          700\n",
      "isbn13                        585\n",
      "authors                         0\n",
      "original_publication_year      21\n",
      "original_title                585\n",
      "title                           0\n",
      "language_code                1084\n",
      "average_rating                  0\n",
      "ratings_count                   0\n",
      "work_ratings_count              0\n",
      "work_text_reviews_count         0\n",
      "ratings_1                       0\n",
      "ratings_2                       0\n",
      "ratings_3                       0\n",
      "ratings_4                       0\n",
      "ratings_5                       0\n",
      "image_url                       0\n",
      "small_image_url                 0\n",
      "dtype: int64\n"
     ]
    }
   ],
   "source": [
    "# Books have many missing data but not really useful for this analysis so we will fill it with 'unknown' or NA\n",
    "print(\"Missing values on Books Data: \\n\", books.isnull().sum())"
   ]
  },
  {
   "cell_type": "code",
   "execution_count": 65,
   "metadata": {
    "execution": {
     "iopub.execute_input": "2023-08-27T03:58:49.463993Z",
     "iopub.status.busy": "2023-08-27T03:58:49.463637Z",
     "iopub.status.idle": "2023-08-27T03:58:49.497018Z",
     "shell.execute_reply": "2023-08-27T03:58:49.496272Z",
     "shell.execute_reply.started": "2023-08-27T03:58:49.463969Z"
    },
    "tags": []
   },
   "outputs": [
    {
     "data": {
      "text/html": [
       "<div>\n",
       "<style scoped>\n",
       "    .dataframe tbody tr th:only-of-type {\n",
       "        vertical-align: middle;\n",
       "    }\n",
       "\n",
       "    .dataframe tbody tr th {\n",
       "        vertical-align: top;\n",
       "    }\n",
       "\n",
       "    .dataframe thead th {\n",
       "        text-align: right;\n",
       "    }\n",
       "</style>\n",
       "<table border=\"1\" class=\"dataframe\">\n",
       "  <thead>\n",
       "    <tr style=\"text-align: right;\">\n",
       "      <th></th>\n",
       "      <th>tag_id</th>\n",
       "      <th>tag_name</th>\n",
       "      <th>tag_name_lower</th>\n",
       "    </tr>\n",
       "  </thead>\n",
       "  <tbody>\n",
       "    <tr>\n",
       "      <th>2938</th>\n",
       "      <td>2938</td>\n",
       "      <td>art</td>\n",
       "      <td>art</td>\n",
       "    </tr>\n",
       "    <tr>\n",
       "      <th>4605</th>\n",
       "      <td>4605</td>\n",
       "      <td>biography</td>\n",
       "      <td>biography</td>\n",
       "    </tr>\n",
       "    <tr>\n",
       "      <th>5951</th>\n",
       "      <td>5951</td>\n",
       "      <td>business</td>\n",
       "      <td>business</td>\n",
       "    </tr>\n",
       "    <tr>\n",
       "      <th>7077</th>\n",
       "      <td>7077</td>\n",
       "      <td>christian</td>\n",
       "      <td>christian</td>\n",
       "    </tr>\n",
       "    <tr>\n",
       "      <th>7457</th>\n",
       "      <td>7457</td>\n",
       "      <td>classics</td>\n",
       "      <td>classics</td>\n",
       "    </tr>\n",
       "  </tbody>\n",
       "</table>\n",
       "</div>"
      ],
      "text/plain": [
       "     tag_id   tag_name tag_name_lower\n",
       "2938   2938        art            art\n",
       "4605   4605  biography      biography\n",
       "5951   5951   business       business\n",
       "7077   7077  christian      christian\n",
       "7457   7457   classics       classics"
      ]
     },
     "execution_count": 65,
     "metadata": {},
     "output_type": "execute_result"
    }
   ],
   "source": [
    "# d. Memisahkan Genre\n",
    "\n",
    "genres = [\"Art\", \"Biography\", \"Business\", \"Chick Lit\", \"Children's\", \"Christian\", \"Classics\",\n",
    "          \"Comics\", \"Contemporary\", \"Cookbooks\", \"Crime\", \"Ebooks\", \"Fantasy\", \"Fiction\",\n",
    "          \"Gay and Lesbian\", \"Graphic Novels\", \"Historical Fiction\", \"History\", \"Horror\",\n",
    "          \"Humor and Comedy\", \"Manga\", \"Memoir\", \"Music\", \"Mystery\", \"Nonfiction\", \"Paranormal\",\n",
    "          \"Philosophy\", \"Poetry\", \"Psychology\", \"Religion\", \"Romance\", \"Science\", \"Science Fiction\", \n",
    "          \"Self Help\", \"Suspense\", \"Spirituality\", \"Sports\", \"Thriller\", \"Travel\", \"Young Adult\"]\n",
    "genres = list(map(str.lower, genres))\n",
    "\n",
    "tags['tag_name_lower'] = tags['tag_name'].str.lower()\n",
    "available_genres = tags.loc[tags.tag_name_lower.str.lower().isin(genres)]\n",
    "available_genres.head()"
   ]
  },
  {
   "cell_type": "code",
   "execution_count": 84,
   "metadata": {
    "execution": {
     "iopub.execute_input": "2023-08-27T05:41:19.707642Z",
     "iopub.status.busy": "2023-08-27T05:41:19.707278Z",
     "iopub.status.idle": "2023-08-27T05:41:20.109413Z",
     "shell.execute_reply": "2023-08-27T05:41:20.108787Z",
     "shell.execute_reply.started": "2023-08-27T05:41:19.707618Z"
    },
    "tags": []
   },
   "outputs": [],
   "source": [
    "tags['genre_list'] = [[]] * tags.shape[0]\n",
    "\n",
    "def create_genre_list(tag):\n",
    "    \n",
    "    genre_list = []\n",
    "    string_tag = str(tag)\n",
    "    for genre in genres:\n",
    "        if (genre in string_tag) & ('non' not in string_tag):\n",
    "            genre_list.append(genre)\n",
    "        else:\n",
    "            pass\n",
    "    return genre_list\n",
    "            \n",
    "\n",
    "# Add tags\n",
    "tags['genre_list'] = tags.apply(lambda row: create_genre_list(row['tag_name_lower']), axis = 1)"
   ]
  },
  {
   "cell_type": "code",
   "execution_count": 85,
   "metadata": {
    "execution": {
     "iopub.execute_input": "2023-08-27T05:41:22.317504Z",
     "iopub.status.busy": "2023-08-27T05:41:22.317126Z",
     "iopub.status.idle": "2023-08-27T05:41:22.343177Z",
     "shell.execute_reply": "2023-08-27T05:41:22.342524Z",
     "shell.execute_reply.started": "2023-08-27T05:41:22.317479Z"
    },
    "tags": []
   },
   "outputs": [
    {
     "data": {
      "text/html": [
       "<div>\n",
       "<style scoped>\n",
       "    .dataframe tbody tr th:only-of-type {\n",
       "        vertical-align: middle;\n",
       "    }\n",
       "\n",
       "    .dataframe tbody tr th {\n",
       "        vertical-align: top;\n",
       "    }\n",
       "\n",
       "    .dataframe thead th {\n",
       "        text-align: right;\n",
       "    }\n",
       "</style>\n",
       "<table border=\"1\" class=\"dataframe\">\n",
       "  <thead>\n",
       "    <tr style=\"text-align: right;\">\n",
       "      <th></th>\n",
       "      <th>tag_id</th>\n",
       "      <th>tag_name</th>\n",
       "      <th>tag_name_lower</th>\n",
       "      <th>genre_list</th>\n",
       "    </tr>\n",
       "  </thead>\n",
       "  <tbody>\n",
       "    <tr>\n",
       "      <th>786</th>\n",
       "      <td>786</td>\n",
       "      <td>2015-rmangas-comics</td>\n",
       "      <td>2015-rmangas-comics</td>\n",
       "      <td>[comics, manga]</td>\n",
       "    </tr>\n",
       "    <tr>\n",
       "      <th>1000</th>\n",
       "      <td>1000</td>\n",
       "      <td>3-mystery-thrillers</td>\n",
       "      <td>3-mystery-thrillers</td>\n",
       "      <td>[mystery, thriller]</td>\n",
       "    </tr>\n",
       "    <tr>\n",
       "      <th>1183</th>\n",
       "      <td>1183</td>\n",
       "      <td>6-travel-fiction-series</td>\n",
       "      <td>6-travel-fiction-series</td>\n",
       "      <td>[fiction, travel]</td>\n",
       "    </tr>\n",
       "    <tr>\n",
       "      <th>1476</th>\n",
       "      <td>1476</td>\n",
       "      <td>about-to-read-mystery-thriller</td>\n",
       "      <td>about-to-read-mystery-thriller</td>\n",
       "      <td>[mystery, thriller]</td>\n",
       "    </tr>\n",
       "    <tr>\n",
       "      <th>1553</th>\n",
       "      <td>1553</td>\n",
       "      <td>action-suspense-thriller</td>\n",
       "      <td>action-suspense-thriller</td>\n",
       "      <td>[suspense, thriller]</td>\n",
       "    </tr>\n",
       "    <tr>\n",
       "      <th>...</th>\n",
       "      <td>...</td>\n",
       "      <td>...</td>\n",
       "      <td>...</td>\n",
       "      <td>...</td>\n",
       "    </tr>\n",
       "    <tr>\n",
       "      <th>33005</th>\n",
       "      <td>33005</td>\n",
       "      <td>ya-contemporary-romance</td>\n",
       "      <td>ya-contemporary-romance</td>\n",
       "      <td>[contemporary, romance]</td>\n",
       "    </tr>\n",
       "    <tr>\n",
       "      <th>33036</th>\n",
       "      <td>33036</td>\n",
       "      <td>ya-paranormal-romance</td>\n",
       "      <td>ya-paranormal-romance</td>\n",
       "      <td>[paranormal, romance]</td>\n",
       "    </tr>\n",
       "    <tr>\n",
       "      <th>33037</th>\n",
       "      <td>33037</td>\n",
       "      <td>ya-paranormal-romance-fantasy</td>\n",
       "      <td>ya-paranormal-romance-fantasy</td>\n",
       "      <td>[fantasy, paranormal, romance]</td>\n",
       "    </tr>\n",
       "    <tr>\n",
       "      <th>33047</th>\n",
       "      <td>33047</td>\n",
       "      <td>ya-science-fiction</td>\n",
       "      <td>ya-science-fiction</td>\n",
       "      <td>[fiction, science]</td>\n",
       "    </tr>\n",
       "    <tr>\n",
       "      <th>33131</th>\n",
       "      <td>33131</td>\n",
       "      <td>young-adult-paranormal-romance</td>\n",
       "      <td>young-adult-paranormal-romance</td>\n",
       "      <td>[paranormal, romance]</td>\n",
       "    </tr>\n",
       "  </tbody>\n",
       "</table>\n",
       "<p>506 rows × 4 columns</p>\n",
       "</div>"
      ],
      "text/plain": [
       "      tag_id                        tag_name                  tag_name_lower  \\\n",
       "786      786             2015-rmangas-comics             2015-rmangas-comics   \n",
       "1000    1000             3-mystery-thrillers             3-mystery-thrillers   \n",
       "1183    1183         6-travel-fiction-series         6-travel-fiction-series   \n",
       "1476    1476  about-to-read-mystery-thriller  about-to-read-mystery-thriller   \n",
       "1553    1553        action-suspense-thriller        action-suspense-thriller   \n",
       "...      ...                             ...                             ...   \n",
       "33005  33005         ya-contemporary-romance         ya-contemporary-romance   \n",
       "33036  33036           ya-paranormal-romance           ya-paranormal-romance   \n",
       "33037  33037   ya-paranormal-romance-fantasy   ya-paranormal-romance-fantasy   \n",
       "33047  33047              ya-science-fiction              ya-science-fiction   \n",
       "33131  33131  young-adult-paranormal-romance  young-adult-paranormal-romance   \n",
       "\n",
       "                           genre_list  \n",
       "786                   [comics, manga]  \n",
       "1000              [mystery, thriller]  \n",
       "1183                [fiction, travel]  \n",
       "1476              [mystery, thriller]  \n",
       "1553             [suspense, thriller]  \n",
       "...                               ...  \n",
       "33005         [contemporary, romance]  \n",
       "33036           [paranormal, romance]  \n",
       "33037  [fantasy, paranormal, romance]  \n",
       "33047              [fiction, science]  \n",
       "33131           [paranormal, romance]  \n",
       "\n",
       "[506 rows x 4 columns]"
      ]
     },
     "execution_count": 85,
     "metadata": {},
     "output_type": "execute_result"
    }
   ],
   "source": [
    "tags[ tags.genre_list.str.len() > 1 ]"
   ]
  },
  {
   "cell_type": "code",
   "execution_count": null,
   "metadata": {},
   "outputs": [],
   "source": [
    "# join with books\n",
    "books_with_genre = book_tags.copy()"
   ]
  },
  {
   "cell_type": "markdown",
   "metadata": {},
   "source": [
    "## 2. EDA\n",
    "    a. Distribusi user melakukan rating"
   ]
  },
  {
   "cell_type": "code",
   "execution_count": 39,
   "metadata": {
    "execution": {
     "iopub.execute_input": "2023-08-27T02:00:54.466194Z",
     "iopub.status.busy": "2023-08-27T02:00:54.465835Z",
     "iopub.status.idle": "2023-08-27T02:00:54.938173Z",
     "shell.execute_reply": "2023-08-27T02:00:54.937567Z",
     "shell.execute_reply.started": "2023-08-27T02:00:54.466170Z"
    },
    "tags": []
   },
   "outputs": [],
   "source": [
    "user_counts = pd.DataFrame(ratings['user_id'].value_counts())\n",
    "user_counts.reset_index(drop = False, inplace=True)\n",
    "user_counts.columns = ['user_id', 'rated_books']\n",
    "\n",
    "user_counts_v2 = pd.DataFrame(user_counts['rated_books'].value_counts()).reset_index(drop = False)\n",
    "user_counts_v2.columns = ['rated_books','user_counts']\n",
    "user_counts_v2.sort_values(by = 'rated_books', inplace=True)\n",
    "user_counts_v2.reset_index(drop = True, inplace= True)"
   ]
  },
  {
   "cell_type": "code",
   "execution_count": 48,
   "metadata": {
    "execution": {
     "iopub.execute_input": "2023-08-27T02:05:24.270112Z",
     "iopub.status.busy": "2023-08-27T02:05:24.269751Z",
     "iopub.status.idle": "2023-08-27T02:05:24.295975Z",
     "shell.execute_reply": "2023-08-27T02:05:24.295326Z",
     "shell.execute_reply.started": "2023-08-27T02:05:24.270088Z"
    },
    "tags": []
   },
   "outputs": [
    {
     "name": "stdout",
     "output_type": "stream",
     "text": [
      "User yang melakukan rating:  53424\n",
      "Range banyaknya buku yg dirating user:  19  sampai  200\n",
      "Mean banyaknya buku yg dirating user:  109\n",
      "Median banyaknya buku yg dirating user:  109\n"
     ]
    }
   ],
   "source": [
    "mean_floor = int(np.floor(user_counts_v2.rated_books.mean()))\n",
    "median_floor = int(np.floor(user_counts_v2.rated_books.median()))\n",
    "\n",
    "print(\"User yang melakukan rating: \", user_counts.user_id.nunique())\n",
    "print(\"Range banyaknya buku yg dirating user: \", user_counts_v2.rated_books.min(), \" sampai \", user_counts_v2.rated_books.max())\n",
    "print(\"Mean banyaknya buku yg dirating user: \", mean_floor)\n",
    "print(\"Median banyaknya buku yg dirating user: \", median_floor)"
   ]
  },
  {
   "cell_type": "code",
   "execution_count": 55,
   "metadata": {
    "execution": {
     "iopub.execute_input": "2023-08-27T02:07:53.472148Z",
     "iopub.status.busy": "2023-08-27T02:07:53.471784Z",
     "iopub.status.idle": "2023-08-27T02:07:53.926841Z",
     "shell.execute_reply": "2023-08-27T02:07:53.926073Z",
     "shell.execute_reply.started": "2023-08-27T02:07:53.472124Z"
    },
    "tags": []
   },
   "outputs": [
    {
     "data": {
      "text/plain": [
       "<matplotlib.legend.Legend at 0x7f925ec4e610>"
      ]
     },
     "execution_count": 55,
     "metadata": {},
     "output_type": "execute_result"
    },
    {
     "data": {
      "image/png": "[encoded data removed]",
      "text/plain": [
       "<Figure size 1600x800 with 1 Axes>"
      ]
     },
     "metadata": {},
     "output_type": "display_data"
    }
   ],
   "source": [
    "plt.figure(figsize=(16,8))\n",
    "plt.title(\"Number of Books Rated\", weight='bold')\n",
    "plt.bar(x=user_counts_v2.rated_books,height='user_counts', data=user_counts_v2)\n",
    "plt.axvline(x=mean_floor, color = 'red', label = 'mean')\n",
    "plt.axvline(x=median_floor, color = 'green', label = 'median')\n",
    "plt.xlabel(\"Number Books Rated\")\n",
    "plt.ylabel(\"Users Count\")\n",
    "plt.legend(loc=\"upper right\")"
   ]
  },
  {
   "cell_type": "markdown",
   "metadata": {},
   "source": [
    "Sebanyak 53424 user melakukan rating dengan range dari 20 buku hingga 200an buku. Rata-rata user melakukan meaning 109 buku."
   ]
  },
  {
   "cell_type": "markdown",
   "metadata": {},
   "source": [
    "## 2. Non-Personalized (Popularity-based Recommendations)\n",
    "\n",
    "We already have `average_rating` column."
   ]
  },
  {
   "cell_type": "code",
   "execution_count": 10,
   "metadata": {
    "execution": {
     "iopub.execute_input": "2023-08-24T18:11:27.948874Z",
     "iopub.status.busy": "2023-08-24T18:11:27.948579Z",
     "iopub.status.idle": "2023-08-24T18:11:29.710023Z",
     "shell.execute_reply": "2023-08-24T18:11:29.709465Z",
     "shell.execute_reply.started": "2023-08-24T18:11:27.948852Z"
    },
    "tags": []
   },
   "outputs": [
    {
     "data": {
      "text/html": [
       "<div>\n",
       "<style scoped>\n",
       "    .dataframe tbody tr th:only-of-type {\n",
       "        vertical-align: middle;\n",
       "    }\n",
       "\n",
       "    .dataframe tbody tr th {\n",
       "        vertical-align: top;\n",
       "    }\n",
       "\n",
       "    .dataframe thead th {\n",
       "        text-align: right;\n",
       "    }\n",
       "</style>\n",
       "<table border=\"1\" class=\"dataframe\">\n",
       "  <thead>\n",
       "    <tr style=\"text-align: right;\">\n",
       "      <th></th>\n",
       "      <th>book_id</th>\n",
       "      <th>rating_count</th>\n",
       "      <th>average_rating</th>\n",
       "      <th>mean_rating</th>\n",
       "      <th>authors</th>\n",
       "      <th>original_publication_year</th>\n",
       "      <th>original_title</th>\n",
       "      <th>image_url</th>\n",
       "    </tr>\n",
       "  </thead>\n",
       "  <tbody>\n",
       "    <tr>\n",
       "      <th>0</th>\n",
       "      <td>1</td>\n",
       "      <td>22806</td>\n",
       "      <td>4.34</td>\n",
       "      <td>4.28</td>\n",
       "      <td>Suzanne Collins</td>\n",
       "      <td>2008.0</td>\n",
       "      <td>The Hunger Games</td>\n",
       "      <td>https://images.gr-assets.com/books/1447303603m...</td>\n",
       "    </tr>\n",
       "    <tr>\n",
       "      <th>1</th>\n",
       "      <td>10</td>\n",
       "      <td>13445</td>\n",
       "      <td>4.24</td>\n",
       "      <td>4.19</td>\n",
       "      <td>Jane Austen</td>\n",
       "      <td>1813.0</td>\n",
       "      <td>Pride and Prejudice</td>\n",
       "      <td>https://images.gr-assets.com/books/1320399351m...</td>\n",
       "    </tr>\n",
       "    <tr>\n",
       "      <th>2</th>\n",
       "      <td>100</td>\n",
       "      <td>6343</td>\n",
       "      <td>4.02</td>\n",
       "      <td>3.98</td>\n",
       "      <td>Barbara Kingsolver</td>\n",
       "      <td>1998.0</td>\n",
       "      <td>The Poisonwood Bible</td>\n",
       "      <td>https://images.gr-assets.com/books/1412242487m...</td>\n",
       "    </tr>\n",
       "    <tr>\n",
       "      <th>3</th>\n",
       "      <td>1000</td>\n",
       "      <td>1239</td>\n",
       "      <td>4.05</td>\n",
       "      <td>3.97</td>\n",
       "      <td>Leigh Bardugo</td>\n",
       "      <td>2012.0</td>\n",
       "      <td>Shadow and Bone</td>\n",
       "      <td>https://images.gr-assets.com/books/1339533695m...</td>\n",
       "    </tr>\n",
       "    <tr>\n",
       "      <th>4</th>\n",
       "      <td>10000</td>\n",
       "      <td>111</td>\n",
       "      <td>4.00</td>\n",
       "      <td>4.01</td>\n",
       "      <td>John Keegan</td>\n",
       "      <td>1998.0</td>\n",
       "      <td>The First World War</td>\n",
       "      <td>https://images.gr-assets.com/books/1403194704m...</td>\n",
       "    </tr>\n",
       "    <tr>\n",
       "      <th>...</th>\n",
       "      <td>...</td>\n",
       "      <td>...</td>\n",
       "      <td>...</td>\n",
       "      <td>...</td>\n",
       "      <td>...</td>\n",
       "      <td>...</td>\n",
       "      <td>...</td>\n",
       "      <td>...</td>\n",
       "    </tr>\n",
       "    <tr>\n",
       "      <th>9995</th>\n",
       "      <td>9995</td>\n",
       "      <td>202</td>\n",
       "      <td>3.09</td>\n",
       "      <td>3.09</td>\n",
       "      <td>Herman Melville</td>\n",
       "      <td>1924.0</td>\n",
       "      <td>Billy Budd, Sailor</td>\n",
       "      <td>https://s.gr-assets.com/assets/nophoto/book/11...</td>\n",
       "    </tr>\n",
       "    <tr>\n",
       "      <th>9996</th>\n",
       "      <td>9996</td>\n",
       "      <td>141</td>\n",
       "      <td>4.09</td>\n",
       "      <td>4.01</td>\n",
       "      <td>Ilona Andrews</td>\n",
       "      <td>2010.0</td>\n",
       "      <td>Bayou Moon</td>\n",
       "      <td>https://images.gr-assets.com/books/1307445460m...</td>\n",
       "    </tr>\n",
       "    <tr>\n",
       "      <th>9997</th>\n",
       "      <td>9997</td>\n",
       "      <td>93</td>\n",
       "      <td>4.25</td>\n",
       "      <td>4.45</td>\n",
       "      <td>Robert A. Caro</td>\n",
       "      <td>1990.0</td>\n",
       "      <td>Means of Ascent</td>\n",
       "      <td>https://s.gr-assets.com/assets/nophoto/book/11...</td>\n",
       "    </tr>\n",
       "    <tr>\n",
       "      <th>9998</th>\n",
       "      <td>9998</td>\n",
       "      <td>102</td>\n",
       "      <td>4.35</td>\n",
       "      <td>4.32</td>\n",
       "      <td>Patrick O'Brian</td>\n",
       "      <td>1977.0</td>\n",
       "      <td>The Mauritius Command</td>\n",
       "      <td>https://images.gr-assets.com/books/1455373531m...</td>\n",
       "    </tr>\n",
       "    <tr>\n",
       "      <th>9999</th>\n",
       "      <td>9999</td>\n",
       "      <td>130</td>\n",
       "      <td>3.65</td>\n",
       "      <td>3.71</td>\n",
       "      <td>Peggy Orenstein</td>\n",
       "      <td>2011.0</td>\n",
       "      <td>Cinderella Ate My Daughter: Dispatches from th...</td>\n",
       "      <td>https://images.gr-assets.com/books/1279214118m...</td>\n",
       "    </tr>\n",
       "  </tbody>\n",
       "</table>\n",
       "<p>10000 rows × 8 columns</p>\n",
       "</div>"
      ],
      "text/plain": [
       "     book_id  rating_count  average_rating  mean_rating             authors  \\\n",
       "0          1         22806            4.34         4.28     Suzanne Collins   \n",
       "1         10         13445            4.24         4.19         Jane Austen   \n",
       "2        100          6343            4.02         3.98  Barbara Kingsolver   \n",
       "3       1000          1239            4.05         3.97       Leigh Bardugo   \n",
       "4      10000           111            4.00         4.01         John Keegan   \n",
       "...      ...           ...             ...          ...                 ...   \n",
       "9995    9995           202            3.09         3.09     Herman Melville   \n",
       "9996    9996           141            4.09         4.01       Ilona Andrews   \n",
       "9997    9997            93            4.25         4.45      Robert A. Caro   \n",
       "9998    9998           102            4.35         4.32     Patrick O'Brian   \n",
       "9999    9999           130            3.65         3.71     Peggy Orenstein   \n",
       "\n",
       "      original_publication_year  \\\n",
       "0                        2008.0   \n",
       "1                        1813.0   \n",
       "2                        1998.0   \n",
       "3                        2012.0   \n",
       "4                        1998.0   \n",
       "...                         ...   \n",
       "9995                     1924.0   \n",
       "9996                     2010.0   \n",
       "9997                     1990.0   \n",
       "9998                     1977.0   \n",
       "9999                     2011.0   \n",
       "\n",
       "                                         original_title  \\\n",
       "0                                      The Hunger Games   \n",
       "1                                   Pride and Prejudice   \n",
       "2                                  The Poisonwood Bible   \n",
       "3                                       Shadow and Bone   \n",
       "4                                   The First World War   \n",
       "...                                                 ...   \n",
       "9995                                 Billy Budd, Sailor   \n",
       "9996                                         Bayou Moon   \n",
       "9997                                   Means of Ascent    \n",
       "9998                              The Mauritius Command   \n",
       "9999  Cinderella Ate My Daughter: Dispatches from th...   \n",
       "\n",
       "                                              image_url  \n",
       "0     https://images.gr-assets.com/books/1447303603m...  \n",
       "1     https://images.gr-assets.com/books/1320399351m...  \n",
       "2     https://images.gr-assets.com/books/1412242487m...  \n",
       "3     https://images.gr-assets.com/books/1339533695m...  \n",
       "4     https://images.gr-assets.com/books/1403194704m...  \n",
       "...                                                 ...  \n",
       "9995  https://s.gr-assets.com/assets/nophoto/book/11...  \n",
       "9996  https://images.gr-assets.com/books/1307445460m...  \n",
       "9997  https://s.gr-assets.com/assets/nophoto/book/11...  \n",
       "9998  https://images.gr-assets.com/books/1455373531m...  \n",
       "9999  https://images.gr-assets.com/books/1279214118m...  \n",
       "\n",
       "[10000 rows x 8 columns]"
      ]
     },
     "execution_count": 10,
     "metadata": {},
     "output_type": "execute_result"
    }
   ],
   "source": [
    "#count the number of ratings given for each book and store the result in a new df called 'rating_count'\n",
    "rating_count = ratings.groupby('book_id').count()['rating'].reset_index()\n",
    "rating_count.rename(columns={'rating':'rating_count'}, inplace=True)\n",
    "\n",
    "#count the mean of ratings given for each book and store the result in a new df called 'mean_rating'\n",
    "mean_rating = ratings.groupby('book_id').mean().round(2)['rating'].reset_index()\n",
    "mean_rating.rename(columns={'rating':'mean_rating'}, inplace=True)\n",
    "\n",
    "#merge 'rating_count' dataframe with 'mean_rating' dataframe based on 'book_id' column\n",
    "popular = rating_count.merge(mean_rating, on='book_id')\n",
    "\n",
    "#merge df 'popular' with df 'books' based on column 'book_id' then select specific columns and remove duplicate rows based on 'book_id'\n",
    "popular = popular.merge(books, on=\"book_id\").drop_duplicates(\"book_id\")[[\"book_id\",\"rating_count\", \"average_rating\", \"mean_rating\",\"authors\",\"original_publication_year\",\"original_title\",\"image_url\"]]\n",
    "popular"
   ]
  },
  {
   "cell_type": "markdown",
   "metadata": {},
   "source": [
    "### 3. Personalized RecSys (Collaborative Filtering)"
   ]
  },
  {
   "cell_type": "code",
   "execution_count": 11,
   "metadata": {
    "execution": {
     "iopub.execute_input": "2023-08-24T18:11:29.711141Z",
     "iopub.status.busy": "2023-08-24T18:11:29.710850Z",
     "iopub.status.idle": "2023-08-24T18:11:29.714368Z",
     "shell.execute_reply": "2023-08-24T18:11:29.713870Z",
     "shell.execute_reply.started": "2023-08-24T18:11:29.711121Z"
    },
    "tags": []
   },
   "outputs": [],
   "source": [
    "#load library\n",
    "import copy\n",
    "import surprise\n",
    "from surprise import accuracy, Dataset, Reader, KNNBaseline, BaselineOnly, SVD\n",
    "from surprise.model_selection.search import RandomizedSearchCV\n",
    "from surprise.model_selection import cross_validate, train_test_split"
   ]
  },
  {
   "cell_type": "code",
   "execution_count": 12,
   "metadata": {
    "execution": {
     "iopub.execute_input": "2023-08-24T18:11:29.715542Z",
     "iopub.status.busy": "2023-08-24T18:11:29.715095Z",
     "iopub.status.idle": "2023-08-24T18:11:34.551745Z",
     "shell.execute_reply": "2023-08-24T18:11:34.551176Z",
     "shell.execute_reply.started": "2023-08-24T18:11:29.715522Z"
    },
    "tags": []
   },
   "outputs": [
    {
     "data": {
      "text/plain": [
       "<surprise.dataset.DatasetAutoFolds at 0x7f0eff3808e0>"
      ]
     },
     "execution_count": 12,
     "metadata": {},
     "output_type": "execute_result"
    }
   ],
   "source": [
    "# create utility data\n",
    "# Initiate rating scale\n",
    "reader = Reader(rating_scale = (1, 5))\n",
    "# Data Preparation\n",
    "utility_data = Dataset.load_from_df(\n",
    "                    df = ratings[['user_id', 'book_id', 'rating']].copy(),\n",
    "                    reader = reader\n",
    "                )\n",
    "utility_data"
   ]
  },
  {
   "cell_type": "code",
   "execution_count": 13,
   "metadata": {
    "execution": {
     "iopub.execute_input": "2023-08-24T18:11:34.552928Z",
     "iopub.status.busy": "2023-08-24T18:11:34.552629Z",
     "iopub.status.idle": "2023-08-24T18:11:34.558016Z",
     "shell.execute_reply": "2023-08-24T18:11:34.557488Z",
     "shell.execute_reply.started": "2023-08-24T18:11:34.552908Z"
    },
    "tags": []
   },
   "outputs": [],
   "source": [
    "# Split Train Test\n",
    "# Create a function\n",
    "def train_test_split(utility_data, test_size, random_state):\n",
    "    \"\"\"\n",
    "    Train test split the data\n",
    "    ref: https://surprise.readthedocs.io/en/stable/FAQ.html#split-data-for-unbiased-estimation-py\n",
    "\n",
    "    Parameters\n",
    "    ----------\n",
    "    utility_data : Surprise utility data\n",
    "        The sample of whole data set\n",
    "\n",
    "    test_size : float, default=0.2\n",
    "        The test size\n",
    "\n",
    "    random_state : int, default=42\n",
    "        For reproducibility\n",
    "\n",
    "    Returns\n",
    "    -------\n",
    "    full_data : Surprise utility data\n",
    "        The new utility data\n",
    "\n",
    "    train_data : Surprise format\n",
    "        The train data\n",
    "\n",
    "    test_data : Surprise format\n",
    "        The test data\n",
    "    \"\"\"\n",
    "    # Deep copy the utility_data\n",
    "    full_data = copy.deepcopy(utility_data)\n",
    "\n",
    "    # Generate random seed\n",
    "    np.random.seed(random_state)\n",
    "\n",
    "    # Shuffle the raw_ratings for reproducibility\n",
    "    raw_ratings = full_data.raw_ratings\n",
    "    np.random.shuffle(raw_ratings)\n",
    "\n",
    "    # Define the threshold\n",
    "    threshold = int((1-test_size) * len(raw_ratings))\n",
    "\n",
    "    # Split the data\n",
    "    train_raw_ratings = raw_ratings[:threshold]\n",
    "    test_raw_ratings = raw_ratings[threshold:]\n",
    "\n",
    "    # Get the data\n",
    "    full_data.raw_ratings = train_raw_ratings\n",
    "    train_data = full_data.build_full_trainset()\n",
    "    test_data = full_data.construct_testset(test_raw_ratings)\n",
    "\n",
    "    return full_data, train_data, test_data\n"
   ]
  },
  {
   "cell_type": "code",
   "execution_count": 14,
   "metadata": {
    "execution": {
     "iopub.execute_input": "2023-08-24T18:11:34.560850Z",
     "iopub.status.busy": "2023-08-24T18:11:34.560323Z",
     "iopub.status.idle": "2023-08-24T18:12:05.115496Z",
     "shell.execute_reply": "2023-08-24T18:12:05.114852Z",
     "shell.execute_reply.started": "2023-08-24T18:11:34.560829Z"
    },
    "tags": []
   },
   "outputs": [],
   "source": [
    "full_data, train_data, test_data = train_test_split(utility_data,\n",
    "                                                    test_size = 0.2,\n",
    "                                                    random_state = 42)"
   ]
  },
  {
   "cell_type": "markdown",
   "metadata": {},
   "source": [
    "### a. Baseline Mean Prediction \n",
    "Our Baseline Model just simply predict ratings using mean from all training data provided to model."
   ]
  },
  {
   "cell_type": "code",
   "execution_count": 15,
   "metadata": {
    "execution": {
     "iopub.execute_input": "2023-08-24T18:12:05.116909Z",
     "iopub.status.busy": "2023-08-24T18:12:05.116403Z",
     "iopub.status.idle": "2023-08-24T18:12:05.119872Z",
     "shell.execute_reply": "2023-08-24T18:12:05.119341Z",
     "shell.execute_reply.started": "2023-08-24T18:12:05.116886Z"
    },
    "tags": []
   },
   "outputs": [],
   "source": [
    "from surprise.model_selection.search import RandomizedSearchCV\n",
    "from surprise import AlgoBase, SVD\n",
    "from surprise.model_selection import cross_validate"
   ]
  },
  {
   "cell_type": "code",
   "execution_count": 16,
   "metadata": {
    "execution": {
     "iopub.execute_input": "2023-08-24T18:12:05.121060Z",
     "iopub.status.busy": "2023-08-24T18:12:05.120612Z",
     "iopub.status.idle": "2023-08-24T18:12:05.124212Z",
     "shell.execute_reply": "2023-08-24T18:12:05.123689Z",
     "shell.execute_reply.started": "2023-08-24T18:12:05.121040Z"
    },
    "tags": []
   },
   "outputs": [],
   "source": [
    "class MeanPrediction(AlgoBase):\n",
    "    '''Baseline prediction. Return global mean as prediction'''\n",
    "    def __init__(self):\n",
    "        AlgoBase.__init__(self)\n",
    "\n",
    "    def fit(self, trainset):\n",
    "        '''Fit the train data'''\n",
    "        AlgoBase.fit(self, trainset)\n",
    "\n",
    "    def estimate(self, u, i):\n",
    "        '''Perform the estimation/prediction.'''\n",
    "        est = self.trainset.global_mean\n",
    "        return est"
   ]
  },
  {
   "cell_type": "code",
   "execution_count": 17,
   "metadata": {
    "execution": {
     "iopub.execute_input": "2023-08-24T18:12:05.125343Z",
     "iopub.status.busy": "2023-08-24T18:12:05.124893Z",
     "iopub.status.idle": "2023-08-24T18:12:05.130106Z",
     "shell.execute_reply": "2023-08-24T18:12:05.129594Z",
     "shell.execute_reply.started": "2023-08-24T18:12:05.125324Z"
    },
    "tags": []
   },
   "outputs": [],
   "source": [
    "model_mean_pred = MeanPrediction()\n",
    "model_mean_pred"
   ]
  },
  {
   "cell_type": "code",
   "execution_count": 18,
   "metadata": {
    "execution": {
     "iopub.execute_input": "2023-08-24T18:12:05.131227Z",
     "iopub.status.busy": "2023-08-24T18:12:05.130788Z",
     "iopub.status.idle": "2023-08-24T18:12:05.134701Z",
     "shell.execute_reply": "2023-08-24T18:12:05.134204Z",
     "shell.execute_reply.started": "2023-08-24T18:12:05.131208Z"
    },
    "tags": []
   },
   "outputs": [],
   "source": [
    "cv_baseline = cross_validate(algo = model_mean_pred,\n",
    "                             data = full_data,\n",
    "                             cv = 5,\n",
    "                             measures = ['rmse'])\n",
    "\n",
    "cv_baseline_rmse = cv_baseline['test_rmse'].mean()\n",
    "cv_baseline_rmse"
   ]
  },
  {
   "cell_type": "markdown",
   "metadata": {},
   "source": [
    "### b. KNN (User to User Approach)\n",
    "\n",
    "The total number of users is more than the number of items, so for personalized recommender systems, *User-to-User Collaborative Filtering (User CF)* is used.\n"
   ]
  },
  {
   "cell_type": "code",
   "execution_count": 1,
   "metadata": {
    "execution": {
     "iopub.execute_input": "2023-08-24T18:30:58.856403Z",
     "iopub.status.busy": "2023-08-24T18:30:58.856031Z",
     "iopub.status.idle": "2023-08-24T18:30:58.859459Z",
     "shell.execute_reply": "2023-08-24T18:30:58.858919Z",
     "shell.execute_reply.started": "2023-08-24T18:30:58.856377Z"
    },
    "tags": []
   },
   "outputs": [],
   "source": [
    "# #initialization of parameters that will be used in a randomized search\n",
    "# #for hyperparameters in the recommendation model with the KNNBaseline method\n",
    "# param_dist = {'k':[10, 25, 50, 100, 200],\n",
    "#           'sim_options':{'name':['cosine'],'user_based':['True', 'False']}}"
   ]
  },
  {
   "cell_type": "code",
   "execution_count": 2,
   "metadata": {
    "execution": {
     "iopub.execute_input": "2023-08-24T18:30:59.416220Z",
     "iopub.status.busy": "2023-08-24T18:30:59.415842Z",
     "iopub.status.idle": "2023-08-24T18:30:59.418982Z",
     "shell.execute_reply": "2023-08-24T18:30:59.418435Z",
     "shell.execute_reply.started": "2023-08-24T18:30:59.416189Z"
    },
    "tags": []
   },
   "outputs": [],
   "source": [
    "# #randomized search for hyperparameters in the recommendation model with the KNNBaseline method\n",
    "# knn_user2user = RandomizedSearchCV(algo_class=KNNBaseline, param_distributions = param_dist, cv=5)"
   ]
  },
  {
   "cell_type": "code",
   "execution_count": 3,
   "metadata": {
    "execution": {
     "iopub.execute_input": "2023-08-24T18:31:00.216154Z",
     "iopub.status.busy": "2023-08-24T18:31:00.215789Z",
     "iopub.status.idle": "2023-08-24T18:31:00.218884Z",
     "shell.execute_reply": "2023-08-24T18:31:00.218345Z",
     "shell.execute_reply.started": "2023-08-24T18:31:00.216130Z"
    },
    "tags": []
   },
   "outputs": [],
   "source": [
    "# #process search hyperparams\n",
    "# knn_user2user.fit(data=full_data)"
   ]
  },
  {
   "cell_type": "code",
   "execution_count": 4,
   "metadata": {
    "execution": {
     "iopub.execute_input": "2023-08-24T18:31:01.856079Z",
     "iopub.status.busy": "2023-08-24T18:31:01.855677Z",
     "iopub.status.idle": "2023-08-24T18:31:01.858929Z",
     "shell.execute_reply": "2023-08-24T18:31:01.858384Z",
     "shell.execute_reply.started": "2023-08-24T18:31:01.856055Z"
    },
    "tags": []
   },
   "outputs": [],
   "source": [
    "# knn_user2user.best_params[\"rmse\"]"
   ]
  },
  {
   "cell_type": "markdown",
   "metadata": {},
   "source": [
    "### c. Funk SVD"
   ]
  },
  {
   "cell_type": "code",
   "execution_count": null,
   "metadata": {},
   "outputs": [],
   "source": []
  },
  {
   "cell_type": "code",
   "execution_count": null,
   "metadata": {
    "execution": {
     "iopub.status.busy": "2023-08-24T18:12:05.410225Z",
     "iopub.status.idle": "2023-08-24T18:12:05.410489Z",
     "shell.execute_reply": "2023-08-24T18:12:05.410369Z",
     "shell.execute_reply.started": "2023-08-24T18:12:05.410356Z"
    },
    "tags": []
   },
   "outputs": [],
   "source": [
    "#create dictionary of parameter\n",
    "params_SVD = {'lr_all' : [1,0.1,0.01,0.001], 'n_factors' : [50,100],\n",
    "              'reg_all' : [1,0.1,0.01]\n",
    "              }  "
   ]
  },
  {
   "cell_type": "code",
   "execution_count": null,
   "metadata": {
    "execution": {
     "iopub.status.busy": "2023-08-24T18:12:05.411230Z",
     "iopub.status.idle": "2023-08-24T18:12:05.411484Z",
     "shell.execute_reply": "2023-08-24T18:12:05.411373Z",
     "shell.execute_reply.started": "2023-08-24T18:12:05.411360Z"
    },
    "tags": []
   },
   "outputs": [],
   "source": [
    "# tuning_svd = RandomizedSearchCV(algo_class=SVD, param_distributions = params_SVD, cv=5)\n",
    "# tuning_svd.fit(data=full_data)"
   ]
  },
  {
   "cell_type": "code",
   "execution_count": null,
   "metadata": {
    "execution": {
     "iopub.status.busy": "2023-08-24T18:12:05.412593Z",
     "iopub.status.idle": "2023-08-24T18:12:05.412981Z",
     "shell.execute_reply": "2023-08-24T18:12:05.412863Z",
     "shell.execute_reply.started": "2023-08-24T18:12:05.412850Z"
    },
    "tags": []
   },
   "outputs": [],
   "source": [
    "summary_df = pd.DataFrame({'Model': ['Baseline', 'Funk SVD'],\n",
    "                           'CV Performance - RMSE': [cv_baseline_rmse,tuning_svd.best_score['rmse'] ],\n",
    "                           'Model Condiguration':['N/A',f'{tuning_svd.best_params[\"rmse\"]}']})\n",
    "\n",
    "summary_df"
   ]
  },
  {
   "cell_type": "code",
   "execution_count": null,
   "metadata": {
    "execution": {
     "iopub.status.busy": "2023-08-24T18:12:05.413750Z",
     "iopub.status.idle": "2023-08-24T18:12:05.414088Z",
     "shell.execute_reply": "2023-08-24T18:12:05.413973Z",
     "shell.execute_reply.started": "2023-08-24T18:12:05.413960Z"
    },
    "tags": []
   },
   "outputs": [],
   "source": [
    "best_params_svd = tuning_svd.best_params['rmse']\n",
    "best_params_svd"
   ]
  },
  {
   "cell_type": "code",
   "execution_count": null,
   "metadata": {
    "execution": {
     "iopub.status.busy": "2023-08-24T18:12:05.414904Z",
     "iopub.status.idle": "2023-08-24T18:12:05.415164Z",
     "shell.execute_reply": "2023-08-24T18:12:05.415048Z",
     "shell.execute_reply.started": "2023-08-24T18:12:05.415035Z"
    },
    "tags": []
   },
   "outputs": [],
   "source": [
    "# save\n",
    "with open('best_params_svd.pkl','wb') as f:\n",
    "    pickle.dump(best_params_svd,f)"
   ]
  },
  {
   "cell_type": "code",
   "execution_count": null,
   "metadata": {},
   "outputs": [],
   "source": [
    "# save\n",
    "loaded_model = pickle.load(open('best_params_svd.pkl', 'rb'))"
   ]
  }
 ],
 "metadata": {
  "kernelspec": {
   "display_name": "saturn (Python 3)",
   "language": "python",
   "name": "python3"
  },
  "language_info": {
   "codemirror_mode": {
    "name": "ipython",
    "version": 3
   },
   "file_extension": ".py",
   "mimetype": "text/x-python",
   "name": "python",
   "nbconvert_exporter": "python",
   "pygments_lexer": "ipython3",
   "version": "3.9.15"
  }
 },
 "nbformat": 4,
 "nbformat_minor": 4
}
