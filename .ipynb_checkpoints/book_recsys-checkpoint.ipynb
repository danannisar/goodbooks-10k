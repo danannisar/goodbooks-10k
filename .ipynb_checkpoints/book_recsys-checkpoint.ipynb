{
 "cells": [
  {
   "cell_type": "markdown",
   "metadata": {},
   "source": [
    "## **Book Recommendation System**"
   ]
  },
  {
   "cell_type": "markdown",
   "metadata": {},
   "source": [
    "### Data Description\n",
    "- The data comes from [Goodbooks dataset](https://github.com/zygmuntz/goodbooks-10k).\n",
    "- The dataset contains 10,000 books and 5,976,479 ratings."
   ]
  },
  {
   "cell_type": "markdown",
   "metadata": {},
   "source": [
    "There are 2 files that will be used:\n",
    "\n",
    "\n",
    "**Book rating data**: `ratings.csv`\n",
    "\n",
    "<center>\n",
    "\n",
    "|Feature|Description|Data Type|\n",
    "|:--|:--|:--:|\n",
    "|`user_id`|User ID|`int`|\n",
    "|`book_id`|BookID|`int`|\n",
    "|`rating`|The rating of the book given by the user. Rating starts from `0` to `5`|`int`|"
   ]
  },
  {
   "cell_type": "markdown",
   "metadata": {},
   "source": [
    "|**Books data** : `books.csv`\n",
    "\n",
    "<center>\n",
    "\n",
    "|Feature|Description|Data Type|\n",
    "|:--|:--|:--:|\n",
    "|`book_id`|Book ID|`int`|\n",
    "|`goodreads_book_id`|The goodreads book ID|`int`|\n",
    "|`best_book_id`|Rating of the book given by the user. Rating starts from `0` to `5`|`int`|\n",
    "|`work_id`|Work ID|`int`|\n",
    "|`books_count`|Books count|`int`|\n",
    "|`isbn`|International standard book number|`object`|\n",
    "|`isbn13`|Book identification number (new version of ISBN)|`float`|\n",
    "|`authors`|The authors of the book|`object`|\n",
    "|`original_publication_year`|The year of publication|`float`|\n",
    "|`original_title`|Original title|`object`|\n",
    "|`title`|Book title|`object`|\n",
    "|`language_code`|Code of language|`object`|\n",
    "|`average_rating`|Average rating|`float`|\n",
    "|`ratings_count`|Rating count|`int`|\n",
    "|`work_ratings_count`|Work ratings count|`int`|\n",
    "|`work_text_reviews_count`|Work text reviews count|`int`|\n",
    "|`ratings_1`|Rating 1|`int`|\n",
    "|`ratings_2`|Rating 2|`int`|\n",
    "|`ratings_3`|Rating 3|`int`|\n",
    "|`ratings_4`|Rating 4|`int`|\n",
    "|`ratings_5`|Rating 5|`int`|\n",
    "|`image_url`|Image link|`object`|\n",
    "|`small_image_url`|Small image links|`object`|"
   ]
  },
  {
   "cell_type": "markdown",
   "metadata": {},
   "source": [
    "### **Import Data**"
   ]
  },
  {
   "cell_type": "code",
   "execution_count": 1,
   "metadata": {
    "execution": {
     "iopub.execute_input": "2023-08-29T07:33:22.408996Z",
     "iopub.status.busy": "2023-08-29T07:33:22.408702Z",
     "iopub.status.idle": "2023-08-29T07:33:25.389447Z",
     "shell.execute_reply": "2023-08-29T07:33:25.388838Z",
     "shell.execute_reply.started": "2023-08-29T07:33:22.408969Z"
    },
    "tags": []
   },
   "outputs": [],
   "source": [
    "#load library\n",
    "import numpy as np\n",
    "import pandas as pd\n",
    "import matplotlib.pyplot as plt\n",
    "import seaborn as sns"
   ]
  },
  {
   "cell_type": "code",
   "execution_count": 2,
   "metadata": {
    "execution": {
     "iopub.execute_input": "2023-08-29T07:33:25.391151Z",
     "iopub.status.busy": "2023-08-29T07:33:25.390630Z",
     "iopub.status.idle": "2023-08-29T07:33:25.394078Z",
     "shell.execute_reply": "2023-08-29T07:33:25.393515Z",
     "shell.execute_reply.started": "2023-08-29T07:33:25.391125Z"
    },
    "tags": []
   },
   "outputs": [],
   "source": [
    "#load data from path\n",
    "rating_path = 'data/ratings.csv'\n",
    "book_path = 'data/books.csv'"
   ]
  },
  {
   "cell_type": "code",
   "execution_count": null,
   "metadata": {},
   "outputs": [],
   "source": [
    "def load_data(book_path, rating_path):\n",
    "    #reads the CSV file data and saves it as a DataFrame\n",
    "    rating_data = pd.read_csv(rating_path, delimiter=',')\n",
    "    book_data = pd.read_csv(book_path, delimiter=',')\n",
    "    \n",
    "    #copy dataframe book_data, and delete some feature.\n",
    "    book_copy = book_data.copy()\n",
    "    book_copy = book_copy.drop(columns=['best_book_id','work_id','books_count','isbn',\n",
    "           'isbn13','title','language_code','average_rating',\n",
    "           'ratings_count', 'work_ratings_count', 'work_text_reviews_count',\n",
    "           'ratings_1', 'ratings_2', 'ratings_3', 'ratings_4', 'ratings_5',\n",
    "           'small_image_url'], axis=1)\n",
    "    book_copy.head(3)\n",
    "    \n",
    "    #fill null values in book_data\n",
    "    print(\"Missing values before fillna: \", book_copy.isnull().sum())\n",
    "    book_copy['original_publication_year'] = book_copy['original_publication_year'].fillna(0)\n",
    "    book_copy['original_title'] = book_copy['original_title'].fillna(book_data['title'])\n",
    "    print(\"Missing values after fillna: \", book_copy.isnull().sum())\n",
    "    \n",
    "    #changes the data type original_publication_year column to int data type\n",
    "    book_copy.loc[:, 'original_publication_year'] = book_copy['original_publication_year'].astype(int)\n",
    "    book_copy.dtypes\n",
    "    \n",
    "    ## b. drop duplicated rows\n",
    "    print(\"Books shape before drop dup: \", book_copy.shape)\n",
    "    print(\"Ratings shape before drop dup: \", rating_data.shape)\n",
    "    book_copy.drop_duplicates(subset = ['book_id', 'goodreads_book_id'], inplace = True)\n",
    "    rating_data.drop_duplicates(subset=['user_id','book_id'], inplace = True)\n",
    "    print(\"Books shape after drop dup: \", book_copy.shape)\n",
    "    print(\"Ratings shape after drop dup: \", rating_data.shape)"
   ]
  },
  {
   "cell_type": "code",
   "execution_count": 3,
   "metadata": {
    "execution": {
     "iopub.execute_input": "2023-08-29T07:33:25.395248Z",
     "iopub.status.busy": "2023-08-29T07:33:25.394827Z",
     "iopub.status.idle": "2023-08-29T07:33:26.604766Z",
     "shell.execute_reply": "2023-08-29T07:33:26.604159Z",
     "shell.execute_reply.started": "2023-08-29T07:33:25.395228Z"
    },
    "tags": []
   },
   "outputs": [],
   "source": [
    "#reads the CSV file data and saves it as a DataFrame\n",
    "rating_data = pd.read_csv(rating_path, delimiter=',')\n",
    "book_data = pd.read_csv(book_path, delimiter=',')"
   ]
  },
  {
   "cell_type": "code",
   "execution_count": 4,
   "metadata": {
    "execution": {
     "iopub.execute_input": "2023-08-29T07:33:26.606537Z",
     "iopub.status.busy": "2023-08-29T07:33:26.606220Z",
     "iopub.status.idle": "2023-08-29T07:33:26.621591Z",
     "shell.execute_reply": "2023-08-29T07:33:26.621049Z",
     "shell.execute_reply.started": "2023-08-29T07:33:26.606516Z"
    },
    "tags": []
   },
   "outputs": [
    {
     "data": {
      "text/html": [
       "<div>\n",
       "<style scoped>\n",
       "    .dataframe tbody tr th:only-of-type {\n",
       "        vertical-align: middle;\n",
       "    }\n",
       "\n",
       "    .dataframe tbody tr th {\n",
       "        vertical-align: top;\n",
       "    }\n",
       "\n",
       "    .dataframe thead th {\n",
       "        text-align: right;\n",
       "    }\n",
       "</style>\n",
       "<table border=\"1\" class=\"dataframe\">\n",
       "  <thead>\n",
       "    <tr style=\"text-align: right;\">\n",
       "      <th></th>\n",
       "      <th>user_id</th>\n",
       "      <th>book_id</th>\n",
       "      <th>rating</th>\n",
       "    </tr>\n",
       "  </thead>\n",
       "  <tbody>\n",
       "    <tr>\n",
       "      <th>0</th>\n",
       "      <td>1</td>\n",
       "      <td>258</td>\n",
       "      <td>5</td>\n",
       "    </tr>\n",
       "    <tr>\n",
       "      <th>1</th>\n",
       "      <td>2</td>\n",
       "      <td>4081</td>\n",
       "      <td>4</td>\n",
       "    </tr>\n",
       "    <tr>\n",
       "      <th>2</th>\n",
       "      <td>2</td>\n",
       "      <td>260</td>\n",
       "      <td>5</td>\n",
       "    </tr>\n",
       "    <tr>\n",
       "      <th>3</th>\n",
       "      <td>2</td>\n",
       "      <td>9296</td>\n",
       "      <td>5</td>\n",
       "    </tr>\n",
       "    <tr>\n",
       "      <th>4</th>\n",
       "      <td>2</td>\n",
       "      <td>2318</td>\n",
       "      <td>3</td>\n",
       "    </tr>\n",
       "  </tbody>\n",
       "</table>\n",
       "</div>"
      ],
      "text/plain": [
       "   user_id  book_id  rating\n",
       "0        1      258       5\n",
       "1        2     4081       4\n",
       "2        2      260       5\n",
       "3        2     9296       5\n",
       "4        2     2318       3"
      ]
     },
     "execution_count": 4,
     "metadata": {},
     "output_type": "execute_result"
    }
   ],
   "source": [
    "#show rating_data\n",
    "rating_data.head()"
   ]
  },
  {
   "cell_type": "code",
   "execution_count": 5,
   "metadata": {
    "execution": {
     "iopub.execute_input": "2023-08-29T07:33:26.622643Z",
     "iopub.status.busy": "2023-08-29T07:33:26.622379Z",
     "iopub.status.idle": "2023-08-29T07:33:26.636568Z",
     "shell.execute_reply": "2023-08-29T07:33:26.636010Z",
     "shell.execute_reply.started": "2023-08-29T07:33:26.622623Z"
    },
    "tags": []
   },
   "outputs": [
    {
     "data": {
      "text/html": [
       "<div>\n",
       "<style scoped>\n",
       "    .dataframe tbody tr th:only-of-type {\n",
       "        vertical-align: middle;\n",
       "    }\n",
       "\n",
       "    .dataframe tbody tr th {\n",
       "        vertical-align: top;\n",
       "    }\n",
       "\n",
       "    .dataframe thead th {\n",
       "        text-align: right;\n",
       "    }\n",
       "</style>\n",
       "<table border=\"1\" class=\"dataframe\">\n",
       "  <thead>\n",
       "    <tr style=\"text-align: right;\">\n",
       "      <th></th>\n",
       "      <th>book_id</th>\n",
       "      <th>goodreads_book_id</th>\n",
       "      <th>best_book_id</th>\n",
       "      <th>work_id</th>\n",
       "      <th>books_count</th>\n",
       "      <th>isbn</th>\n",
       "      <th>isbn13</th>\n",
       "      <th>authors</th>\n",
       "      <th>original_publication_year</th>\n",
       "      <th>original_title</th>\n",
       "      <th>...</th>\n",
       "      <th>ratings_count</th>\n",
       "      <th>work_ratings_count</th>\n",
       "      <th>work_text_reviews_count</th>\n",
       "      <th>ratings_1</th>\n",
       "      <th>ratings_2</th>\n",
       "      <th>ratings_3</th>\n",
       "      <th>ratings_4</th>\n",
       "      <th>ratings_5</th>\n",
       "      <th>image_url</th>\n",
       "      <th>small_image_url</th>\n",
       "    </tr>\n",
       "  </thead>\n",
       "  <tbody>\n",
       "    <tr>\n",
       "      <th>0</th>\n",
       "      <td>1</td>\n",
       "      <td>2767052</td>\n",
       "      <td>2767052</td>\n",
       "      <td>2792775</td>\n",
       "      <td>272</td>\n",
       "      <td>439023483</td>\n",
       "      <td>9.780439e+12</td>\n",
       "      <td>Suzanne Collins</td>\n",
       "      <td>2008.0</td>\n",
       "      <td>The Hunger Games</td>\n",
       "      <td>...</td>\n",
       "      <td>4780653</td>\n",
       "      <td>4942365</td>\n",
       "      <td>155254</td>\n",
       "      <td>66715</td>\n",
       "      <td>127936</td>\n",
       "      <td>560092</td>\n",
       "      <td>1481305</td>\n",
       "      <td>2706317</td>\n",
       "      <td>https://images.gr-assets.com/books/1447303603m...</td>\n",
       "      <td>https://images.gr-assets.com/books/1447303603s...</td>\n",
       "    </tr>\n",
       "    <tr>\n",
       "      <th>1</th>\n",
       "      <td>2</td>\n",
       "      <td>3</td>\n",
       "      <td>3</td>\n",
       "      <td>4640799</td>\n",
       "      <td>491</td>\n",
       "      <td>439554934</td>\n",
       "      <td>9.780440e+12</td>\n",
       "      <td>J.K. Rowling, Mary GrandPré</td>\n",
       "      <td>1997.0</td>\n",
       "      <td>Harry Potter and the Philosopher's Stone</td>\n",
       "      <td>...</td>\n",
       "      <td>4602479</td>\n",
       "      <td>4800065</td>\n",
       "      <td>75867</td>\n",
       "      <td>75504</td>\n",
       "      <td>101676</td>\n",
       "      <td>455024</td>\n",
       "      <td>1156318</td>\n",
       "      <td>3011543</td>\n",
       "      <td>https://images.gr-assets.com/books/1474154022m...</td>\n",
       "      <td>https://images.gr-assets.com/books/1474154022s...</td>\n",
       "    </tr>\n",
       "    <tr>\n",
       "      <th>2</th>\n",
       "      <td>3</td>\n",
       "      <td>41865</td>\n",
       "      <td>41865</td>\n",
       "      <td>3212258</td>\n",
       "      <td>226</td>\n",
       "      <td>316015849</td>\n",
       "      <td>9.780316e+12</td>\n",
       "      <td>Stephenie Meyer</td>\n",
       "      <td>2005.0</td>\n",
       "      <td>Twilight</td>\n",
       "      <td>...</td>\n",
       "      <td>3866839</td>\n",
       "      <td>3916824</td>\n",
       "      <td>95009</td>\n",
       "      <td>456191</td>\n",
       "      <td>436802</td>\n",
       "      <td>793319</td>\n",
       "      <td>875073</td>\n",
       "      <td>1355439</td>\n",
       "      <td>https://images.gr-assets.com/books/1361039443m...</td>\n",
       "      <td>https://images.gr-assets.com/books/1361039443s...</td>\n",
       "    </tr>\n",
       "    <tr>\n",
       "      <th>3</th>\n",
       "      <td>4</td>\n",
       "      <td>2657</td>\n",
       "      <td>2657</td>\n",
       "      <td>3275794</td>\n",
       "      <td>487</td>\n",
       "      <td>61120081</td>\n",
       "      <td>9.780061e+12</td>\n",
       "      <td>Harper Lee</td>\n",
       "      <td>1960.0</td>\n",
       "      <td>To Kill a Mockingbird</td>\n",
       "      <td>...</td>\n",
       "      <td>3198671</td>\n",
       "      <td>3340896</td>\n",
       "      <td>72586</td>\n",
       "      <td>60427</td>\n",
       "      <td>117415</td>\n",
       "      <td>446835</td>\n",
       "      <td>1001952</td>\n",
       "      <td>1714267</td>\n",
       "      <td>https://images.gr-assets.com/books/1361975680m...</td>\n",
       "      <td>https://images.gr-assets.com/books/1361975680s...</td>\n",
       "    </tr>\n",
       "    <tr>\n",
       "      <th>4</th>\n",
       "      <td>5</td>\n",
       "      <td>4671</td>\n",
       "      <td>4671</td>\n",
       "      <td>245494</td>\n",
       "      <td>1356</td>\n",
       "      <td>743273567</td>\n",
       "      <td>9.780743e+12</td>\n",
       "      <td>F. Scott Fitzgerald</td>\n",
       "      <td>1925.0</td>\n",
       "      <td>The Great Gatsby</td>\n",
       "      <td>...</td>\n",
       "      <td>2683664</td>\n",
       "      <td>2773745</td>\n",
       "      <td>51992</td>\n",
       "      <td>86236</td>\n",
       "      <td>197621</td>\n",
       "      <td>606158</td>\n",
       "      <td>936012</td>\n",
       "      <td>947718</td>\n",
       "      <td>https://images.gr-assets.com/books/1490528560m...</td>\n",
       "      <td>https://images.gr-assets.com/books/1490528560s...</td>\n",
       "    </tr>\n",
       "  </tbody>\n",
       "</table>\n",
       "<p>5 rows × 23 columns</p>\n",
       "</div>"
      ],
      "text/plain": [
       "   book_id  goodreads_book_id  best_book_id  work_id  books_count       isbn  \\\n",
       "0        1            2767052       2767052  2792775          272  439023483   \n",
       "1        2                  3             3  4640799          491  439554934   \n",
       "2        3              41865         41865  3212258          226  316015849   \n",
       "3        4               2657          2657  3275794          487   61120081   \n",
       "4        5               4671          4671   245494         1356  743273567   \n",
       "\n",
       "         isbn13                      authors  original_publication_year  \\\n",
       "0  9.780439e+12              Suzanne Collins                     2008.0   \n",
       "1  9.780440e+12  J.K. Rowling, Mary GrandPré                     1997.0   \n",
       "2  9.780316e+12              Stephenie Meyer                     2005.0   \n",
       "3  9.780061e+12                   Harper Lee                     1960.0   \n",
       "4  9.780743e+12          F. Scott Fitzgerald                     1925.0   \n",
       "\n",
       "                             original_title  ... ratings_count  \\\n",
       "0                          The Hunger Games  ...       4780653   \n",
       "1  Harry Potter and the Philosopher's Stone  ...       4602479   \n",
       "2                                  Twilight  ...       3866839   \n",
       "3                     To Kill a Mockingbird  ...       3198671   \n",
       "4                          The Great Gatsby  ...       2683664   \n",
       "\n",
       "  work_ratings_count  work_text_reviews_count  ratings_1  ratings_2  \\\n",
       "0            4942365                   155254      66715     127936   \n",
       "1            4800065                    75867      75504     101676   \n",
       "2            3916824                    95009     456191     436802   \n",
       "3            3340896                    72586      60427     117415   \n",
       "4            2773745                    51992      86236     197621   \n",
       "\n",
       "   ratings_3  ratings_4  ratings_5  \\\n",
       "0     560092    1481305    2706317   \n",
       "1     455024    1156318    3011543   \n",
       "2     793319     875073    1355439   \n",
       "3     446835    1001952    1714267   \n",
       "4     606158     936012     947718   \n",
       "\n",
       "                                           image_url  \\\n",
       "0  https://images.gr-assets.com/books/1447303603m...   \n",
       "1  https://images.gr-assets.com/books/1474154022m...   \n",
       "2  https://images.gr-assets.com/books/1361039443m...   \n",
       "3  https://images.gr-assets.com/books/1361975680m...   \n",
       "4  https://images.gr-assets.com/books/1490528560m...   \n",
       "\n",
       "                                     small_image_url  \n",
       "0  https://images.gr-assets.com/books/1447303603s...  \n",
       "1  https://images.gr-assets.com/books/1474154022s...  \n",
       "2  https://images.gr-assets.com/books/1361039443s...  \n",
       "3  https://images.gr-assets.com/books/1361975680s...  \n",
       "4  https://images.gr-assets.com/books/1490528560s...  \n",
       "\n",
       "[5 rows x 23 columns]"
      ]
     },
     "execution_count": 5,
     "metadata": {},
     "output_type": "execute_result"
    }
   ],
   "source": [
    "#show book_data\n",
    "book_data.head()"
   ]
  },
  {
   "cell_type": "markdown",
   "metadata": {},
   "source": [
    "### **Check data and handle duplicated**"
   ]
  },
  {
   "cell_type": "code",
   "execution_count": 6,
   "metadata": {
    "execution": {
     "iopub.execute_input": "2023-08-29T07:33:26.637548Z",
     "iopub.status.busy": "2023-08-29T07:33:26.637296Z",
     "iopub.status.idle": "2023-08-29T07:33:26.641206Z",
     "shell.execute_reply": "2023-08-29T07:33:26.640664Z",
     "shell.execute_reply.started": "2023-08-29T07:33:26.637529Z"
    },
    "tags": []
   },
   "outputs": [
    {
     "data": {
      "text/plain": [
       "(5976479, 3)"
      ]
     },
     "execution_count": 6,
     "metadata": {},
     "output_type": "execute_result"
    }
   ],
   "source": [
    "#show the dimensions of rating_data\n",
    "rating_data.shape"
   ]
  },
  {
   "cell_type": "code",
   "execution_count": 7,
   "metadata": {
    "execution": {
     "iopub.execute_input": "2023-08-29T07:33:26.642180Z",
     "iopub.status.busy": "2023-08-29T07:33:26.641932Z",
     "iopub.status.idle": "2023-08-29T07:33:26.646524Z",
     "shell.execute_reply": "2023-08-29T07:33:26.645991Z",
     "shell.execute_reply.started": "2023-08-29T07:33:26.642162Z"
    },
    "tags": []
   },
   "outputs": [
    {
     "data": {
      "text/plain": [
       "user_id    int64\n",
       "book_id    int64\n",
       "rating     int64\n",
       "dtype: object"
      ]
     },
     "execution_count": 7,
     "metadata": {},
     "output_type": "execute_result"
    }
   ],
   "source": [
    "#show the datatype of rating_data\n",
    "rating_data.dtypes"
   ]
  },
  {
   "cell_type": "code",
   "execution_count": 8,
   "metadata": {
    "execution": {
     "iopub.execute_input": "2023-08-29T07:33:26.647464Z",
     "iopub.status.busy": "2023-08-29T07:33:26.647207Z",
     "iopub.status.idle": "2023-08-29T07:33:26.672708Z",
     "shell.execute_reply": "2023-08-29T07:33:26.672216Z",
     "shell.execute_reply.started": "2023-08-29T07:33:26.647445Z"
    },
    "tags": []
   },
   "outputs": [
    {
     "data": {
      "text/plain": [
       "user_id    0\n",
       "book_id    0\n",
       "rating     0\n",
       "dtype: int64"
      ]
     },
     "execution_count": 8,
     "metadata": {},
     "output_type": "execute_result"
    }
   ],
   "source": [
    "#check the total number of null values in rating_data\n",
    "rating_data.isnull().sum()"
   ]
  },
  {
   "cell_type": "code",
   "execution_count": 9,
   "metadata": {
    "execution": {
     "iopub.execute_input": "2023-08-29T07:33:26.673632Z",
     "iopub.status.busy": "2023-08-29T07:33:26.673385Z",
     "iopub.status.idle": "2023-08-29T07:33:27.442899Z",
     "shell.execute_reply": "2023-08-29T07:33:27.442347Z",
     "shell.execute_reply.started": "2023-08-29T07:33:26.673613Z"
    },
    "tags": []
   },
   "outputs": [
    {
     "data": {
      "text/plain": [
       "0"
      ]
     },
     "execution_count": 9,
     "metadata": {},
     "output_type": "execute_result"
    }
   ],
   "source": [
    "#check duplicate in rating_data\n",
    "rating_data.duplicated(subset=['user_id','book_id']).sum()"
   ]
  },
  {
   "cell_type": "markdown",
   "metadata": {},
   "source": [
    "**rating_data** has the correct type and feature. There is no null data and duplicated in rating_data."
   ]
  },
  {
   "cell_type": "code",
   "execution_count": 10,
   "metadata": {
    "execution": {
     "iopub.execute_input": "2023-08-29T07:33:27.445017Z",
     "iopub.status.busy": "2023-08-29T07:33:27.444721Z",
     "iopub.status.idle": "2023-08-29T07:33:27.448775Z",
     "shell.execute_reply": "2023-08-29T07:33:27.448268Z",
     "shell.execute_reply.started": "2023-08-29T07:33:27.444993Z"
    },
    "tags": []
   },
   "outputs": [
    {
     "data": {
      "text/plain": [
       "(10000, 23)"
      ]
     },
     "execution_count": 10,
     "metadata": {},
     "output_type": "execute_result"
    }
   ],
   "source": [
    "#show the dimensions of book_data\n",
    "book_data.shape"
   ]
  },
  {
   "cell_type": "code",
   "execution_count": 11,
   "metadata": {
    "execution": {
     "iopub.execute_input": "2023-08-29T07:33:27.449714Z",
     "iopub.status.busy": "2023-08-29T07:33:27.449468Z",
     "iopub.status.idle": "2023-08-29T07:33:27.453613Z",
     "shell.execute_reply": "2023-08-29T07:33:27.453122Z",
     "shell.execute_reply.started": "2023-08-29T07:33:27.449694Z"
    },
    "tags": []
   },
   "outputs": [
    {
     "data": {
      "text/plain": [
       "Index(['book_id', 'goodreads_book_id', 'best_book_id', 'work_id',\n",
       "       'books_count', 'isbn', 'isbn13', 'authors', 'original_publication_year',\n",
       "       'original_title', 'title', 'language_code', 'average_rating',\n",
       "       'ratings_count', 'work_ratings_count', 'work_text_reviews_count',\n",
       "       'ratings_1', 'ratings_2', 'ratings_3', 'ratings_4', 'ratings_5',\n",
       "       'image_url', 'small_image_url'],\n",
       "      dtype='object')"
      ]
     },
     "execution_count": 11,
     "metadata": {},
     "output_type": "execute_result"
    }
   ],
   "source": [
    "#show columns of book_data\n",
    "book_data.columns"
   ]
  },
  {
   "cell_type": "code",
   "execution_count": 12,
   "metadata": {
    "execution": {
     "iopub.execute_input": "2023-08-29T07:33:27.454548Z",
     "iopub.status.busy": "2023-08-29T07:33:27.454299Z",
     "iopub.status.idle": "2023-08-29T07:33:27.465822Z",
     "shell.execute_reply": "2023-08-29T07:33:27.465081Z",
     "shell.execute_reply.started": "2023-08-29T07:33:27.454528Z"
    },
    "tags": []
   },
   "outputs": [
    {
     "data": {
      "text/html": [
       "<div>\n",
       "<style scoped>\n",
       "    .dataframe tbody tr th:only-of-type {\n",
       "        vertical-align: middle;\n",
       "    }\n",
       "\n",
       "    .dataframe tbody tr th {\n",
       "        vertical-align: top;\n",
       "    }\n",
       "\n",
       "    .dataframe thead th {\n",
       "        text-align: right;\n",
       "    }\n",
       "</style>\n",
       "<table border=\"1\" class=\"dataframe\">\n",
       "  <thead>\n",
       "    <tr style=\"text-align: right;\">\n",
       "      <th></th>\n",
       "      <th>book_id</th>\n",
       "      <th>authors</th>\n",
       "      <th>original_publication_year</th>\n",
       "      <th>original_title</th>\n",
       "      <th>image_url</th>\n",
       "    </tr>\n",
       "  </thead>\n",
       "  <tbody>\n",
       "    <tr>\n",
       "      <th>0</th>\n",
       "      <td>1</td>\n",
       "      <td>Suzanne Collins</td>\n",
       "      <td>2008.0</td>\n",
       "      <td>The Hunger Games</td>\n",
       "      <td>https://images.gr-assets.com/books/1447303603m...</td>\n",
       "    </tr>\n",
       "    <tr>\n",
       "      <th>1</th>\n",
       "      <td>2</td>\n",
       "      <td>J.K. Rowling, Mary GrandPré</td>\n",
       "      <td>1997.0</td>\n",
       "      <td>Harry Potter and the Philosopher's Stone</td>\n",
       "      <td>https://images.gr-assets.com/books/1474154022m...</td>\n",
       "    </tr>\n",
       "    <tr>\n",
       "      <th>2</th>\n",
       "      <td>3</td>\n",
       "      <td>Stephenie Meyer</td>\n",
       "      <td>2005.0</td>\n",
       "      <td>Twilight</td>\n",
       "      <td>https://images.gr-assets.com/books/1361039443m...</td>\n",
       "    </tr>\n",
       "  </tbody>\n",
       "</table>\n",
       "</div>"
      ],
      "text/plain": [
       "   book_id                      authors  original_publication_year  \\\n",
       "0        1              Suzanne Collins                     2008.0   \n",
       "1        2  J.K. Rowling, Mary GrandPré                     1997.0   \n",
       "2        3              Stephenie Meyer                     2005.0   \n",
       "\n",
       "                             original_title  \\\n",
       "0                          The Hunger Games   \n",
       "1  Harry Potter and the Philosopher's Stone   \n",
       "2                                  Twilight   \n",
       "\n",
       "                                           image_url  \n",
       "0  https://images.gr-assets.com/books/1447303603m...  \n",
       "1  https://images.gr-assets.com/books/1474154022m...  \n",
       "2  https://images.gr-assets.com/books/1361039443m...  "
      ]
     },
     "execution_count": 12,
     "metadata": {},
     "output_type": "execute_result"
    }
   ],
   "source": [
    "#copy dataframe book_data, and delete some feature.\n",
    "book_copy = book_data.copy()\n",
    "book_copy = book_copy.drop(columns=['goodreads_book_id','best_book_id','work_id','books_count','isbn',\n",
    "       'isbn13','title','language_code','average_rating',\n",
    "       'ratings_count', 'work_ratings_count', 'work_text_reviews_count',\n",
    "       'ratings_1', 'ratings_2', 'ratings_3', 'ratings_4', 'ratings_5',\n",
    "       'small_image_url'], axis=1)\n",
    "book_copy.head(3)"
   ]
  },
  {
   "cell_type": "code",
   "execution_count": 13,
   "metadata": {
    "execution": {
     "iopub.execute_input": "2023-08-29T07:33:27.466781Z",
     "iopub.status.busy": "2023-08-29T07:33:27.466534Z",
     "iopub.status.idle": "2023-08-29T07:33:27.470984Z",
     "shell.execute_reply": "2023-08-29T07:33:27.470503Z",
     "shell.execute_reply.started": "2023-08-29T07:33:27.466762Z"
    },
    "tags": []
   },
   "outputs": [
    {
     "data": {
      "text/plain": [
       "book_id                        int64\n",
       "authors                       object\n",
       "original_publication_year    float64\n",
       "original_title                object\n",
       "image_url                     object\n",
       "dtype: object"
      ]
     },
     "execution_count": 13,
     "metadata": {},
     "output_type": "execute_result"
    }
   ],
   "source": [
    "#show the datatype of book_data\n",
    "book_copy.dtypes"
   ]
  },
  {
   "cell_type": "code",
   "execution_count": 14,
   "metadata": {
    "execution": {
     "iopub.execute_input": "2023-08-29T07:33:27.471905Z",
     "iopub.status.busy": "2023-08-29T07:33:27.471659Z",
     "iopub.status.idle": "2023-08-29T07:33:27.480546Z",
     "shell.execute_reply": "2023-08-29T07:33:27.480045Z",
     "shell.execute_reply.started": "2023-08-29T07:33:27.471886Z"
    },
    "tags": []
   },
   "outputs": [
    {
     "data": {
      "text/plain": [
       "book_id                        0\n",
       "authors                        0\n",
       "original_publication_year     21\n",
       "original_title               585\n",
       "image_url                      0\n",
       "dtype: int64"
      ]
     },
     "execution_count": 14,
     "metadata": {},
     "output_type": "execute_result"
    }
   ],
   "source": [
    "#check the total number of null values in book_data\n",
    "book_copy.isnull().sum()"
   ]
  },
  {
   "cell_type": "code",
   "execution_count": 15,
   "metadata": {
    "execution": {
     "iopub.execute_input": "2023-08-29T07:33:27.481468Z",
     "iopub.status.busy": "2023-08-29T07:33:27.481222Z",
     "iopub.status.idle": "2023-08-29T07:33:27.492233Z",
     "shell.execute_reply": "2023-08-29T07:33:27.491744Z",
     "shell.execute_reply.started": "2023-08-29T07:33:27.481449Z"
    },
    "tags": []
   },
   "outputs": [
    {
     "data": {
      "text/plain": [
       "book_id                      0\n",
       "authors                      0\n",
       "original_publication_year    0\n",
       "original_title               0\n",
       "image_url                    0\n",
       "dtype: int64"
      ]
     },
     "execution_count": 15,
     "metadata": {},
     "output_type": "execute_result"
    }
   ],
   "source": [
    "#fill null values in book_data\n",
    "book_copy['original_publication_year'] = book_copy['original_publication_year'].fillna(0)\n",
    "book_copy['original_title'] = book_copy['original_title'].fillna(book_data['title'])\n",
    "book_copy.isnull().sum()"
   ]
  },
  {
   "cell_type": "code",
   "execution_count": 16,
   "metadata": {
    "execution": {
     "iopub.execute_input": "2023-08-29T07:33:27.493164Z",
     "iopub.status.busy": "2023-08-29T07:33:27.492915Z",
     "iopub.status.idle": "2023-08-29T07:33:27.498344Z",
     "shell.execute_reply": "2023-08-29T07:33:27.497784Z",
     "shell.execute_reply.started": "2023-08-29T07:33:27.493145Z"
    },
    "tags": []
   },
   "outputs": [
    {
     "data": {
      "text/plain": [
       "book_id                       int64\n",
       "authors                      object\n",
       "original_publication_year     int64\n",
       "original_title               object\n",
       "image_url                    object\n",
       "dtype: object"
      ]
     },
     "execution_count": 16,
     "metadata": {},
     "output_type": "execute_result"
    }
   ],
   "source": [
    "#changes the data type original_publication_year column to int data type\n",
    "book_copy.loc[:, 'original_publication_year'] = book_copy['original_publication_year'].astype(int)\n",
    "book_copy.dtypes"
   ]
  },
  {
   "cell_type": "code",
   "execution_count": 17,
   "metadata": {
    "execution": {
     "iopub.execute_input": "2023-08-29T07:33:27.643856Z",
     "iopub.status.busy": "2023-08-29T07:33:27.643599Z",
     "iopub.status.idle": "2023-08-29T07:33:27.650318Z",
     "shell.execute_reply": "2023-08-29T07:33:27.649818Z",
     "shell.execute_reply.started": "2023-08-29T07:33:27.643835Z"
    },
    "tags": []
   },
   "outputs": [
    {
     "data": {
      "text/html": [
       "<div>\n",
       "<style scoped>\n",
       "    .dataframe tbody tr th:only-of-type {\n",
       "        vertical-align: middle;\n",
       "    }\n",
       "\n",
       "    .dataframe tbody tr th {\n",
       "        vertical-align: top;\n",
       "    }\n",
       "\n",
       "    .dataframe thead th {\n",
       "        text-align: right;\n",
       "    }\n",
       "</style>\n",
       "<table border=\"1\" class=\"dataframe\">\n",
       "  <thead>\n",
       "    <tr style=\"text-align: right;\">\n",
       "      <th></th>\n",
       "      <th>book_id</th>\n",
       "      <th>authors</th>\n",
       "      <th>original_publication_year</th>\n",
       "      <th>original_title</th>\n",
       "      <th>image_url</th>\n",
       "    </tr>\n",
       "  </thead>\n",
       "  <tbody>\n",
       "    <tr>\n",
       "      <th>0</th>\n",
       "      <td>1</td>\n",
       "      <td>Suzanne Collins</td>\n",
       "      <td>2008</td>\n",
       "      <td>The Hunger Games</td>\n",
       "      <td>https://images.gr-assets.com/books/1447303603m...</td>\n",
       "    </tr>\n",
       "    <tr>\n",
       "      <th>1</th>\n",
       "      <td>2</td>\n",
       "      <td>J.K. Rowling, Mary GrandPré</td>\n",
       "      <td>1997</td>\n",
       "      <td>Harry Potter and the Philosopher's Stone</td>\n",
       "      <td>https://images.gr-assets.com/books/1474154022m...</td>\n",
       "    </tr>\n",
       "    <tr>\n",
       "      <th>2</th>\n",
       "      <td>3</td>\n",
       "      <td>Stephenie Meyer</td>\n",
       "      <td>2005</td>\n",
       "      <td>Twilight</td>\n",
       "      <td>https://images.gr-assets.com/books/1361039443m...</td>\n",
       "    </tr>\n",
       "  </tbody>\n",
       "</table>\n",
       "</div>"
      ],
      "text/plain": [
       "   book_id                      authors  original_publication_year  \\\n",
       "0        1              Suzanne Collins                       2008   \n",
       "1        2  J.K. Rowling, Mary GrandPré                       1997   \n",
       "2        3              Stephenie Meyer                       2005   \n",
       "\n",
       "                             original_title  \\\n",
       "0                          The Hunger Games   \n",
       "1  Harry Potter and the Philosopher's Stone   \n",
       "2                                  Twilight   \n",
       "\n",
       "                                           image_url  \n",
       "0  https://images.gr-assets.com/books/1447303603m...  \n",
       "1  https://images.gr-assets.com/books/1474154022m...  \n",
       "2  https://images.gr-assets.com/books/1361039443m...  "
      ]
     },
     "execution_count": 17,
     "metadata": {},
     "output_type": "execute_result"
    }
   ],
   "source": [
    "#show book_data\n",
    "book_copy.head(3)"
   ]
  },
  {
   "cell_type": "code",
   "execution_count": 18,
   "metadata": {
    "execution": {
     "iopub.execute_input": "2023-08-29T07:33:27.912869Z",
     "iopub.status.busy": "2023-08-29T07:33:27.912587Z",
     "iopub.status.idle": "2023-08-29T07:33:27.922022Z",
     "shell.execute_reply": "2023-08-29T07:33:27.921457Z",
     "shell.execute_reply.started": "2023-08-29T07:33:27.912848Z"
    },
    "tags": []
   },
   "outputs": [
    {
     "data": {
      "text/html": [
       "<div>\n",
       "<style scoped>\n",
       "    .dataframe tbody tr th:only-of-type {\n",
       "        vertical-align: middle;\n",
       "    }\n",
       "\n",
       "    .dataframe tbody tr th {\n",
       "        vertical-align: top;\n",
       "    }\n",
       "\n",
       "    .dataframe thead th {\n",
       "        text-align: right;\n",
       "    }\n",
       "</style>\n",
       "<table border=\"1\" class=\"dataframe\">\n",
       "  <thead>\n",
       "    <tr style=\"text-align: right;\">\n",
       "      <th></th>\n",
       "      <th>index</th>\n",
       "      <th>0</th>\n",
       "    </tr>\n",
       "  </thead>\n",
       "  <tbody>\n",
       "    <tr>\n",
       "      <th>0</th>\n",
       "      <td>book_id</td>\n",
       "      <td>125975</td>\n",
       "    </tr>\n",
       "    <tr>\n",
       "      <th>1</th>\n",
       "      <td>authors</td>\n",
       "      <td>Mark Cotta VazRobert Kapilow, Dr. SeussYuu Wat...</td>\n",
       "    </tr>\n",
       "    <tr>\n",
       "      <th>2</th>\n",
       "      <td>original_publication_year</td>\n",
       "      <td>0</td>\n",
       "    </tr>\n",
       "    <tr>\n",
       "      <th>3</th>\n",
       "      <td>original_title</td>\n",
       "      <td>Twilight: The Complete Illustrated Movie Compa...</td>\n",
       "    </tr>\n",
       "    <tr>\n",
       "      <th>4</th>\n",
       "      <td>image_url</td>\n",
       "      <td>https://images.gr-assets.com/books/1352539022m...</td>\n",
       "    </tr>\n",
       "  </tbody>\n",
       "</table>\n",
       "</div>"
      ],
      "text/plain": [
       "                       index  \\\n",
       "0                    book_id   \n",
       "1                    authors   \n",
       "2  original_publication_year   \n",
       "3             original_title   \n",
       "4                  image_url   \n",
       "\n",
       "                                                   0  \n",
       "0                                             125975  \n",
       "1  Mark Cotta VazRobert Kapilow, Dr. SeussYuu Wat...  \n",
       "2                                                  0  \n",
       "3  Twilight: The Complete Illustrated Movie Compa...  \n",
       "4  https://images.gr-assets.com/books/1352539022m...  "
      ]
     },
     "execution_count": 18,
     "metadata": {},
     "output_type": "execute_result"
    }
   ],
   "source": [
    "book_copy[book_copy['original_publication_year'] == 0].sum().reset_index()"
   ]
  },
  {
   "cell_type": "code",
   "execution_count": 19,
   "metadata": {
    "execution": {
     "iopub.execute_input": "2023-08-29T07:33:28.118942Z",
     "iopub.status.busy": "2023-08-29T07:33:28.118678Z",
     "iopub.status.idle": "2023-08-29T07:33:28.128619Z",
     "shell.execute_reply": "2023-08-29T07:33:28.128025Z",
     "shell.execute_reply.started": "2023-08-29T07:33:28.118922Z"
    },
    "tags": []
   },
   "outputs": [
    {
     "data": {
      "text/plain": [
       "0"
      ]
     },
     "execution_count": 19,
     "metadata": {},
     "output_type": "execute_result"
    }
   ],
   "source": [
    "#check duplicate data\n",
    "book_copy.duplicated().sum()"
   ]
  },
  {
   "cell_type": "code",
   "execution_count": 20,
   "metadata": {
    "execution": {
     "iopub.execute_input": "2023-08-29T07:33:29.241273Z",
     "iopub.status.busy": "2023-08-29T07:33:29.240937Z",
     "iopub.status.idle": "2023-08-29T07:33:29.245311Z",
     "shell.execute_reply": "2023-08-29T07:33:29.244729Z",
     "shell.execute_reply.started": "2023-08-29T07:33:29.241249Z"
    },
    "tags": []
   },
   "outputs": [
    {
     "data": {
      "text/plain": [
       "(10000, 5)"
      ]
     },
     "execution_count": 20,
     "metadata": {},
     "output_type": "execute_result"
    }
   ],
   "source": [
    "#show the dimensions of book_data\n",
    "book_copy.shape"
   ]
  },
  {
   "cell_type": "code",
   "execution_count": 66,
   "metadata": {
    "execution": {
     "iopub.execute_input": "2023-08-29T08:17:29.173597Z",
     "iopub.status.busy": "2023-08-29T08:17:29.173220Z",
     "iopub.status.idle": "2023-08-29T08:17:29.219650Z",
     "shell.execute_reply": "2023-08-29T08:17:29.219102Z",
     "shell.execute_reply.started": "2023-08-29T08:17:29.173570Z"
    },
    "tags": []
   },
   "outputs": [
    {
     "data": {
      "text/plain": [
       "array([    1,     2,     3, ..., 53422, 53423, 53424])"
      ]
     },
     "execution_count": 66,
     "metadata": {},
     "output_type": "execute_result"
    }
   ],
   "source": [
    "user_id = rating_data.user_id.unique()\n",
    "np.sort(user_id)"
   ]
  },
  {
   "cell_type": "markdown",
   "metadata": {},
   "source": [
    "**book_copy** has the correct feature. The data type in 'original_publication_year' has been corrected. There is no duplicated in book_copy and null data has been removed."
   ]
  },
  {
   "cell_type": "markdown",
   "metadata": {},
   "source": [
    "### **Non-personalized: popularity-based recommendation**"
   ]
  },
  {
   "cell_type": "code",
   "execution_count": 67,
   "metadata": {
    "execution": {
     "iopub.execute_input": "2023-08-29T08:17:49.483669Z",
     "iopub.status.busy": "2023-08-29T08:17:49.483266Z",
     "iopub.status.idle": "2023-08-29T08:17:49.539365Z",
     "shell.execute_reply": "2023-08-29T08:17:49.538732Z",
     "shell.execute_reply.started": "2023-08-29T08:17:49.483639Z"
    },
    "tags": []
   },
   "outputs": [],
   "source": [
    "#reduce data (make sampling)\n",
    "book_data_small  = book_copy.drop(book_copy[book_copy['book_id'] > 3000].copy().index)\n",
    "rating_data_small = rating_data.loc[(rating_data['user_id'] <= 10000) & (rating_data['book_id'] <= 3000)]"
   ]
  },
  {
   "cell_type": "code",
   "execution_count": 68,
   "metadata": {
    "execution": {
     "iopub.execute_input": "2023-08-29T08:18:01.800372Z",
     "iopub.status.busy": "2023-08-29T08:18:01.799835Z",
     "iopub.status.idle": "2023-08-29T08:18:01.805578Z",
     "shell.execute_reply": "2023-08-29T08:18:01.805019Z",
     "shell.execute_reply.started": "2023-08-29T08:18:01.800331Z"
    },
    "tags": []
   },
   "outputs": [
    {
     "data": {
      "text/plain": [
       "(3000, 5)"
      ]
     },
     "execution_count": 68,
     "metadata": {},
     "output_type": "execute_result"
    }
   ],
   "source": [
    "book_data_small.shape"
   ]
  },
  {
   "cell_type": "code",
   "execution_count": 69,
   "metadata": {
    "execution": {
     "iopub.execute_input": "2023-08-29T08:18:03.011681Z",
     "iopub.status.busy": "2023-08-29T08:18:03.011289Z",
     "iopub.status.idle": "2023-08-29T08:18:03.015942Z",
     "shell.execute_reply": "2023-08-29T08:18:03.015404Z",
     "shell.execute_reply.started": "2023-08-29T08:18:03.011654Z"
    },
    "tags": []
   },
   "outputs": [
    {
     "data": {
      "text/plain": [
       "(885615, 3)"
      ]
     },
     "execution_count": 69,
     "metadata": {},
     "output_type": "execute_result"
    }
   ],
   "source": [
    "rating_data_small.shape"
   ]
  },
  {
   "cell_type": "code",
   "execution_count": 70,
   "metadata": {
    "execution": {
     "iopub.execute_input": "2023-08-29T08:18:18.909309Z",
     "iopub.status.busy": "2023-08-29T08:18:18.908833Z",
     "iopub.status.idle": "2023-08-29T08:18:18.914874Z",
     "shell.execute_reply": "2023-08-29T08:18:18.914186Z",
     "shell.execute_reply.started": "2023-08-29T08:18:18.909278Z"
    },
    "tags": []
   },
   "outputs": [
    {
     "data": {
      "text/plain": [
       "3000"
      ]
     },
     "execution_count": 70,
     "metadata": {},
     "output_type": "execute_result"
    }
   ],
   "source": [
    "book_data_small['book_id'].max()"
   ]
  },
  {
   "cell_type": "code",
   "execution_count": 71,
   "metadata": {
    "execution": {
     "iopub.execute_input": "2023-08-29T08:18:19.630261Z",
     "iopub.status.busy": "2023-08-29T08:18:19.629903Z",
     "iopub.status.idle": "2023-08-29T08:18:19.635153Z",
     "shell.execute_reply": "2023-08-29T08:18:19.634593Z",
     "shell.execute_reply.started": "2023-08-29T08:18:19.630226Z"
    },
    "tags": []
   },
   "outputs": [
    {
     "data": {
      "text/plain": [
       "10000"
      ]
     },
     "execution_count": 71,
     "metadata": {},
     "output_type": "execute_result"
    }
   ],
   "source": [
    "rating_data_small['user_id'].max()"
   ]
  },
  {
   "cell_type": "code",
   "execution_count": 72,
   "metadata": {
    "execution": {
     "iopub.execute_input": "2023-08-29T08:18:20.572024Z",
     "iopub.status.busy": "2023-08-29T08:18:20.571545Z",
     "iopub.status.idle": "2023-08-29T08:18:20.582579Z",
     "shell.execute_reply": "2023-08-29T08:18:20.581689Z",
     "shell.execute_reply.started": "2023-08-29T08:18:20.571994Z"
    },
    "tags": []
   },
   "outputs": [
    {
     "data": {
      "text/html": [
       "<div>\n",
       "<style scoped>\n",
       "    .dataframe tbody tr th:only-of-type {\n",
       "        vertical-align: middle;\n",
       "    }\n",
       "\n",
       "    .dataframe tbody tr th {\n",
       "        vertical-align: top;\n",
       "    }\n",
       "\n",
       "    .dataframe thead th {\n",
       "        text-align: right;\n",
       "    }\n",
       "</style>\n",
       "<table border=\"1\" class=\"dataframe\">\n",
       "  <thead>\n",
       "    <tr style=\"text-align: right;\">\n",
       "      <th></th>\n",
       "      <th>user_id</th>\n",
       "      <th>book_id</th>\n",
       "      <th>rating</th>\n",
       "    </tr>\n",
       "  </thead>\n",
       "  <tbody>\n",
       "    <tr>\n",
       "      <th>0</th>\n",
       "      <td>1</td>\n",
       "      <td>258</td>\n",
       "      <td>5</td>\n",
       "    </tr>\n",
       "    <tr>\n",
       "      <th>2</th>\n",
       "      <td>2</td>\n",
       "      <td>260</td>\n",
       "      <td>5</td>\n",
       "    </tr>\n",
       "    <tr>\n",
       "      <th>4</th>\n",
       "      <td>2</td>\n",
       "      <td>2318</td>\n",
       "      <td>3</td>\n",
       "    </tr>\n",
       "    <tr>\n",
       "      <th>5</th>\n",
       "      <td>2</td>\n",
       "      <td>26</td>\n",
       "      <td>4</td>\n",
       "    </tr>\n",
       "    <tr>\n",
       "      <th>6</th>\n",
       "      <td>2</td>\n",
       "      <td>315</td>\n",
       "      <td>3</td>\n",
       "    </tr>\n",
       "    <tr>\n",
       "      <th>...</th>\n",
       "      <td>...</td>\n",
       "      <td>...</td>\n",
       "      <td>...</td>\n",
       "    </tr>\n",
       "    <tr>\n",
       "      <th>5976167</th>\n",
       "      <td>7666</td>\n",
       "      <td>164</td>\n",
       "      <td>4</td>\n",
       "    </tr>\n",
       "    <tr>\n",
       "      <th>5976173</th>\n",
       "      <td>8094</td>\n",
       "      <td>1467</td>\n",
       "      <td>4</td>\n",
       "    </tr>\n",
       "    <tr>\n",
       "      <th>5976174</th>\n",
       "      <td>8094</td>\n",
       "      <td>2833</td>\n",
       "      <td>4</td>\n",
       "    </tr>\n",
       "    <tr>\n",
       "      <th>5976197</th>\n",
       "      <td>6262</td>\n",
       "      <td>1045</td>\n",
       "      <td>3</td>\n",
       "    </tr>\n",
       "    <tr>\n",
       "      <th>5976456</th>\n",
       "      <td>3173</td>\n",
       "      <td>459</td>\n",
       "      <td>5</td>\n",
       "    </tr>\n",
       "  </tbody>\n",
       "</table>\n",
       "<p>885615 rows × 3 columns</p>\n",
       "</div>"
      ],
      "text/plain": [
       "         user_id  book_id  rating\n",
       "0              1      258       5\n",
       "2              2      260       5\n",
       "4              2     2318       3\n",
       "5              2       26       4\n",
       "6              2      315       3\n",
       "...          ...      ...     ...\n",
       "5976167     7666      164       4\n",
       "5976173     8094     1467       4\n",
       "5976174     8094     2833       4\n",
       "5976197     6262     1045       3\n",
       "5976456     3173      459       5\n",
       "\n",
       "[885615 rows x 3 columns]"
      ]
     },
     "execution_count": 72,
     "metadata": {},
     "output_type": "execute_result"
    }
   ],
   "source": [
    "rating_data_small"
   ]
  },
  {
   "cell_type": "code",
   "execution_count": 73,
   "metadata": {
    "execution": {
     "iopub.execute_input": "2023-08-29T08:18:29.422990Z",
     "iopub.status.busy": "2023-08-29T08:18:29.422506Z",
     "iopub.status.idle": "2023-08-29T08:18:29.453297Z",
     "shell.execute_reply": "2023-08-29T08:18:29.452655Z",
     "shell.execute_reply.started": "2023-08-29T08:18:29.422959Z"
    },
    "tags": []
   },
   "outputs": [
    {
     "data": {
      "text/html": [
       "<div>\n",
       "<style scoped>\n",
       "    .dataframe tbody tr th:only-of-type {\n",
       "        vertical-align: middle;\n",
       "    }\n",
       "\n",
       "    .dataframe tbody tr th {\n",
       "        vertical-align: top;\n",
       "    }\n",
       "\n",
       "    .dataframe thead th {\n",
       "        text-align: right;\n",
       "    }\n",
       "</style>\n",
       "<table border=\"1\" class=\"dataframe\">\n",
       "  <thead>\n",
       "    <tr style=\"text-align: right;\">\n",
       "      <th></th>\n",
       "      <th>book_id</th>\n",
       "      <th>rating_count</th>\n",
       "    </tr>\n",
       "  </thead>\n",
       "  <tbody>\n",
       "    <tr>\n",
       "      <th>0</th>\n",
       "      <td>1</td>\n",
       "      <td>3902</td>\n",
       "    </tr>\n",
       "    <tr>\n",
       "      <th>1</th>\n",
       "      <td>2</td>\n",
       "      <td>3612</td>\n",
       "    </tr>\n",
       "    <tr>\n",
       "      <th>2</th>\n",
       "      <td>3</td>\n",
       "      <td>2746</td>\n",
       "    </tr>\n",
       "    <tr>\n",
       "      <th>3</th>\n",
       "      <td>4</td>\n",
       "      <td>3736</td>\n",
       "    </tr>\n",
       "    <tr>\n",
       "      <th>4</th>\n",
       "      <td>5</td>\n",
       "      <td>3405</td>\n",
       "    </tr>\n",
       "    <tr>\n",
       "      <th>...</th>\n",
       "      <td>...</td>\n",
       "      <td>...</td>\n",
       "    </tr>\n",
       "    <tr>\n",
       "      <th>2994</th>\n",
       "      <td>2996</td>\n",
       "      <td>37</td>\n",
       "    </tr>\n",
       "    <tr>\n",
       "      <th>2995</th>\n",
       "      <td>2997</td>\n",
       "      <td>34</td>\n",
       "    </tr>\n",
       "    <tr>\n",
       "      <th>2996</th>\n",
       "      <td>2998</td>\n",
       "      <td>30</td>\n",
       "    </tr>\n",
       "    <tr>\n",
       "      <th>2997</th>\n",
       "      <td>2999</td>\n",
       "      <td>128</td>\n",
       "    </tr>\n",
       "    <tr>\n",
       "      <th>2998</th>\n",
       "      <td>3000</td>\n",
       "      <td>123</td>\n",
       "    </tr>\n",
       "  </tbody>\n",
       "</table>\n",
       "<p>2999 rows × 2 columns</p>\n",
       "</div>"
      ],
      "text/plain": [
       "      book_id  rating_count\n",
       "0           1          3902\n",
       "1           2          3612\n",
       "2           3          2746\n",
       "3           4          3736\n",
       "4           5          3405\n",
       "...       ...           ...\n",
       "2994     2996            37\n",
       "2995     2997            34\n",
       "2996     2998            30\n",
       "2997     2999           128\n",
       "2998     3000           123\n",
       "\n",
       "[2999 rows x 2 columns]"
      ]
     },
     "execution_count": 73,
     "metadata": {},
     "output_type": "execute_result"
    }
   ],
   "source": [
    "#count the number of ratings given for each book and store the result in a new df called 'rating_count'\n",
    "rating_count = rating_data_small.groupby('book_id').count()['rating'].reset_index()\n",
    "rating_count.rename(columns={'rating':'rating_count'}, inplace=True)\n",
    "rating_count"
   ]
  },
  {
   "cell_type": "code",
   "execution_count": 74,
   "metadata": {
    "execution": {
     "iopub.execute_input": "2023-08-29T08:18:29.952891Z",
     "iopub.status.busy": "2023-08-29T08:18:29.952486Z",
     "iopub.status.idle": "2023-08-29T08:18:29.982950Z",
     "shell.execute_reply": "2023-08-29T08:18:29.982395Z",
     "shell.execute_reply.started": "2023-08-29T08:18:29.952862Z"
    },
    "tags": []
   },
   "outputs": [
    {
     "data": {
      "text/html": [
       "<div>\n",
       "<style scoped>\n",
       "    .dataframe tbody tr th:only-of-type {\n",
       "        vertical-align: middle;\n",
       "    }\n",
       "\n",
       "    .dataframe tbody tr th {\n",
       "        vertical-align: top;\n",
       "    }\n",
       "\n",
       "    .dataframe thead th {\n",
       "        text-align: right;\n",
       "    }\n",
       "</style>\n",
       "<table border=\"1\" class=\"dataframe\">\n",
       "  <thead>\n",
       "    <tr style=\"text-align: right;\">\n",
       "      <th></th>\n",
       "      <th>book_id</th>\n",
       "      <th>mean_rating</th>\n",
       "    </tr>\n",
       "  </thead>\n",
       "  <tbody>\n",
       "    <tr>\n",
       "      <th>0</th>\n",
       "      <td>1</td>\n",
       "      <td>4.26</td>\n",
       "    </tr>\n",
       "    <tr>\n",
       "      <th>1</th>\n",
       "      <td>2</td>\n",
       "      <td>4.11</td>\n",
       "    </tr>\n",
       "    <tr>\n",
       "      <th>2</th>\n",
       "      <td>3</td>\n",
       "      <td>3.43</td>\n",
       "    </tr>\n",
       "    <tr>\n",
       "      <th>3</th>\n",
       "      <td>4</td>\n",
       "      <td>4.34</td>\n",
       "    </tr>\n",
       "    <tr>\n",
       "      <th>4</th>\n",
       "      <td>5</td>\n",
       "      <td>3.72</td>\n",
       "    </tr>\n",
       "    <tr>\n",
       "      <th>...</th>\n",
       "      <td>...</td>\n",
       "      <td>...</td>\n",
       "    </tr>\n",
       "    <tr>\n",
       "      <th>2994</th>\n",
       "      <td>2996</td>\n",
       "      <td>3.81</td>\n",
       "    </tr>\n",
       "    <tr>\n",
       "      <th>2995</th>\n",
       "      <td>2997</td>\n",
       "      <td>3.88</td>\n",
       "    </tr>\n",
       "    <tr>\n",
       "      <th>2996</th>\n",
       "      <td>2998</td>\n",
       "      <td>4.13</td>\n",
       "    </tr>\n",
       "    <tr>\n",
       "      <th>2997</th>\n",
       "      <td>2999</td>\n",
       "      <td>3.57</td>\n",
       "    </tr>\n",
       "    <tr>\n",
       "      <th>2998</th>\n",
       "      <td>3000</td>\n",
       "      <td>3.80</td>\n",
       "    </tr>\n",
       "  </tbody>\n",
       "</table>\n",
       "<p>2999 rows × 2 columns</p>\n",
       "</div>"
      ],
      "text/plain": [
       "      book_id  mean_rating\n",
       "0           1         4.26\n",
       "1           2         4.11\n",
       "2           3         3.43\n",
       "3           4         4.34\n",
       "4           5         3.72\n",
       "...       ...          ...\n",
       "2994     2996         3.81\n",
       "2995     2997         3.88\n",
       "2996     2998         4.13\n",
       "2997     2999         3.57\n",
       "2998     3000         3.80\n",
       "\n",
       "[2999 rows x 2 columns]"
      ]
     },
     "execution_count": 74,
     "metadata": {},
     "output_type": "execute_result"
    }
   ],
   "source": [
    "#count the mean of ratings given for each book and store the result in a new df called 'mean_rating'\n",
    "mean_rating = rating_data_small.groupby('book_id').mean().round(2)['rating'].reset_index()\n",
    "mean_rating.rename(columns={'rating':'mean_rating'}, inplace=True)\n",
    "mean_rating"
   ]
  },
  {
   "cell_type": "code",
   "execution_count": 75,
   "metadata": {
    "execution": {
     "iopub.execute_input": "2023-08-29T08:18:30.731407Z",
     "iopub.status.busy": "2023-08-29T08:18:30.731028Z",
     "iopub.status.idle": "2023-08-29T08:18:30.742815Z",
     "shell.execute_reply": "2023-08-29T08:18:30.742042Z",
     "shell.execute_reply.started": "2023-08-29T08:18:30.731383Z"
    },
    "tags": []
   },
   "outputs": [
    {
     "data": {
      "text/html": [
       "<div>\n",
       "<style scoped>\n",
       "    .dataframe tbody tr th:only-of-type {\n",
       "        vertical-align: middle;\n",
       "    }\n",
       "\n",
       "    .dataframe tbody tr th {\n",
       "        vertical-align: top;\n",
       "    }\n",
       "\n",
       "    .dataframe thead th {\n",
       "        text-align: right;\n",
       "    }\n",
       "</style>\n",
       "<table border=\"1\" class=\"dataframe\">\n",
       "  <thead>\n",
       "    <tr style=\"text-align: right;\">\n",
       "      <th></th>\n",
       "      <th>book_id</th>\n",
       "      <th>rating_count</th>\n",
       "      <th>mean_rating</th>\n",
       "    </tr>\n",
       "  </thead>\n",
       "  <tbody>\n",
       "    <tr>\n",
       "      <th>0</th>\n",
       "      <td>1</td>\n",
       "      <td>3902</td>\n",
       "      <td>4.26</td>\n",
       "    </tr>\n",
       "    <tr>\n",
       "      <th>1</th>\n",
       "      <td>2</td>\n",
       "      <td>3612</td>\n",
       "      <td>4.11</td>\n",
       "    </tr>\n",
       "    <tr>\n",
       "      <th>2</th>\n",
       "      <td>3</td>\n",
       "      <td>2746</td>\n",
       "      <td>3.43</td>\n",
       "    </tr>\n",
       "    <tr>\n",
       "      <th>3</th>\n",
       "      <td>4</td>\n",
       "      <td>3736</td>\n",
       "      <td>4.34</td>\n",
       "    </tr>\n",
       "    <tr>\n",
       "      <th>4</th>\n",
       "      <td>5</td>\n",
       "      <td>3405</td>\n",
       "      <td>3.72</td>\n",
       "    </tr>\n",
       "    <tr>\n",
       "      <th>...</th>\n",
       "      <td>...</td>\n",
       "      <td>...</td>\n",
       "      <td>...</td>\n",
       "    </tr>\n",
       "    <tr>\n",
       "      <th>2994</th>\n",
       "      <td>2996</td>\n",
       "      <td>37</td>\n",
       "      <td>3.81</td>\n",
       "    </tr>\n",
       "    <tr>\n",
       "      <th>2995</th>\n",
       "      <td>2997</td>\n",
       "      <td>34</td>\n",
       "      <td>3.88</td>\n",
       "    </tr>\n",
       "    <tr>\n",
       "      <th>2996</th>\n",
       "      <td>2998</td>\n",
       "      <td>30</td>\n",
       "      <td>4.13</td>\n",
       "    </tr>\n",
       "    <tr>\n",
       "      <th>2997</th>\n",
       "      <td>2999</td>\n",
       "      <td>128</td>\n",
       "      <td>3.57</td>\n",
       "    </tr>\n",
       "    <tr>\n",
       "      <th>2998</th>\n",
       "      <td>3000</td>\n",
       "      <td>123</td>\n",
       "      <td>3.80</td>\n",
       "    </tr>\n",
       "  </tbody>\n",
       "</table>\n",
       "<p>2999 rows × 3 columns</p>\n",
       "</div>"
      ],
      "text/plain": [
       "      book_id  rating_count  mean_rating\n",
       "0           1          3902         4.26\n",
       "1           2          3612         4.11\n",
       "2           3          2746         3.43\n",
       "3           4          3736         4.34\n",
       "4           5          3405         3.72\n",
       "...       ...           ...          ...\n",
       "2994     2996            37         3.81\n",
       "2995     2997            34         3.88\n",
       "2996     2998            30         4.13\n",
       "2997     2999           128         3.57\n",
       "2998     3000           123         3.80\n",
       "\n",
       "[2999 rows x 3 columns]"
      ]
     },
     "execution_count": 75,
     "metadata": {},
     "output_type": "execute_result"
    }
   ],
   "source": [
    "#merge 'rating_count' dataframe with 'mean_rating' dataframe based on 'book_id' column\n",
    "popular = rating_count.merge(mean_rating, on='book_id')\n",
    "popular"
   ]
  },
  {
   "cell_type": "code",
   "execution_count": 76,
   "metadata": {
    "execution": {
     "iopub.execute_input": "2023-08-29T08:18:31.337492Z",
     "iopub.status.busy": "2023-08-29T08:18:31.337136Z",
     "iopub.status.idle": "2023-08-29T08:18:31.354321Z",
     "shell.execute_reply": "2023-08-29T08:18:31.353498Z",
     "shell.execute_reply.started": "2023-08-29T08:18:31.337468Z"
    },
    "tags": []
   },
   "outputs": [
    {
     "data": {
      "text/html": [
       "<div>\n",
       "<style scoped>\n",
       "    .dataframe tbody tr th:only-of-type {\n",
       "        vertical-align: middle;\n",
       "    }\n",
       "\n",
       "    .dataframe tbody tr th {\n",
       "        vertical-align: top;\n",
       "    }\n",
       "\n",
       "    .dataframe thead th {\n",
       "        text-align: right;\n",
       "    }\n",
       "</style>\n",
       "<table border=\"1\" class=\"dataframe\">\n",
       "  <thead>\n",
       "    <tr style=\"text-align: right;\">\n",
       "      <th></th>\n",
       "      <th>book_id</th>\n",
       "      <th>rating_count</th>\n",
       "      <th>mean_rating</th>\n",
       "      <th>authors</th>\n",
       "      <th>original_publication_year</th>\n",
       "      <th>original_title</th>\n",
       "      <th>image_url</th>\n",
       "    </tr>\n",
       "  </thead>\n",
       "  <tbody>\n",
       "    <tr>\n",
       "      <th>0</th>\n",
       "      <td>1</td>\n",
       "      <td>3902</td>\n",
       "      <td>4.26</td>\n",
       "      <td>Suzanne Collins</td>\n",
       "      <td>2008</td>\n",
       "      <td>The Hunger Games</td>\n",
       "      <td>https://images.gr-assets.com/books/1447303603m...</td>\n",
       "    </tr>\n",
       "    <tr>\n",
       "      <th>1</th>\n",
       "      <td>2</td>\n",
       "      <td>3612</td>\n",
       "      <td>4.11</td>\n",
       "      <td>J.K. Rowling, Mary GrandPré</td>\n",
       "      <td>1997</td>\n",
       "      <td>Harry Potter and the Philosopher's Stone</td>\n",
       "      <td>https://images.gr-assets.com/books/1474154022m...</td>\n",
       "    </tr>\n",
       "    <tr>\n",
       "      <th>2</th>\n",
       "      <td>3</td>\n",
       "      <td>2746</td>\n",
       "      <td>3.43</td>\n",
       "      <td>Stephenie Meyer</td>\n",
       "      <td>2005</td>\n",
       "      <td>Twilight</td>\n",
       "      <td>https://images.gr-assets.com/books/1361039443m...</td>\n",
       "    </tr>\n",
       "    <tr>\n",
       "      <th>3</th>\n",
       "      <td>4</td>\n",
       "      <td>3736</td>\n",
       "      <td>4.34</td>\n",
       "      <td>Harper Lee</td>\n",
       "      <td>1960</td>\n",
       "      <td>To Kill a Mockingbird</td>\n",
       "      <td>https://images.gr-assets.com/books/1361975680m...</td>\n",
       "    </tr>\n",
       "    <tr>\n",
       "      <th>4</th>\n",
       "      <td>5</td>\n",
       "      <td>3405</td>\n",
       "      <td>3.72</td>\n",
       "      <td>F. Scott Fitzgerald</td>\n",
       "      <td>1925</td>\n",
       "      <td>The Great Gatsby</td>\n",
       "      <td>https://images.gr-assets.com/books/1490528560m...</td>\n",
       "    </tr>\n",
       "    <tr>\n",
       "      <th>...</th>\n",
       "      <td>...</td>\n",
       "      <td>...</td>\n",
       "      <td>...</td>\n",
       "      <td>...</td>\n",
       "      <td>...</td>\n",
       "      <td>...</td>\n",
       "      <td>...</td>\n",
       "    </tr>\n",
       "    <tr>\n",
       "      <th>2994</th>\n",
       "      <td>2996</td>\n",
       "      <td>37</td>\n",
       "      <td>3.81</td>\n",
       "      <td>Kelley Armstrong</td>\n",
       "      <td>2011</td>\n",
       "      <td>The Gathering</td>\n",
       "      <td>https://images.gr-assets.com/books/1277820938m...</td>\n",
       "    </tr>\n",
       "    <tr>\n",
       "      <th>2995</th>\n",
       "      <td>2997</td>\n",
       "      <td>34</td>\n",
       "      <td>3.88</td>\n",
       "      <td>Richelle Mead</td>\n",
       "      <td>2013</td>\n",
       "      <td>The Fiery Heart</td>\n",
       "      <td>https://images.gr-assets.com/books/1383243238m...</td>\n",
       "    </tr>\n",
       "    <tr>\n",
       "      <th>2996</th>\n",
       "      <td>2998</td>\n",
       "      <td>30</td>\n",
       "      <td>4.13</td>\n",
       "      <td>Ilona Andrews</td>\n",
       "      <td>2010</td>\n",
       "      <td>Magic Bleeds</td>\n",
       "      <td>https://images.gr-assets.com/books/1407110429m...</td>\n",
       "    </tr>\n",
       "    <tr>\n",
       "      <th>2997</th>\n",
       "      <td>2999</td>\n",
       "      <td>128</td>\n",
       "      <td>3.57</td>\n",
       "      <td>Isabel Allende, Nick Caistor, Amanda Hopkinson</td>\n",
       "      <td>2015</td>\n",
       "      <td>El amante japonés</td>\n",
       "      <td>https://images.gr-assets.com/books/1501991754m...</td>\n",
       "    </tr>\n",
       "    <tr>\n",
       "      <th>2998</th>\n",
       "      <td>3000</td>\n",
       "      <td>123</td>\n",
       "      <td>3.80</td>\n",
       "      <td>Terry Pratchett</td>\n",
       "      <td>1997</td>\n",
       "      <td>Jingo</td>\n",
       "      <td>https://images.gr-assets.com/books/1327921813m...</td>\n",
       "    </tr>\n",
       "  </tbody>\n",
       "</table>\n",
       "<p>2999 rows × 7 columns</p>\n",
       "</div>"
      ],
      "text/plain": [
       "      book_id  rating_count  mean_rating  \\\n",
       "0           1          3902         4.26   \n",
       "1           2          3612         4.11   \n",
       "2           3          2746         3.43   \n",
       "3           4          3736         4.34   \n",
       "4           5          3405         3.72   \n",
       "...       ...           ...          ...   \n",
       "2994     2996            37         3.81   \n",
       "2995     2997            34         3.88   \n",
       "2996     2998            30         4.13   \n",
       "2997     2999           128         3.57   \n",
       "2998     3000           123         3.80   \n",
       "\n",
       "                                             authors  \\\n",
       "0                                    Suzanne Collins   \n",
       "1                        J.K. Rowling, Mary GrandPré   \n",
       "2                                    Stephenie Meyer   \n",
       "3                                         Harper Lee   \n",
       "4                                F. Scott Fitzgerald   \n",
       "...                                              ...   \n",
       "2994                                Kelley Armstrong   \n",
       "2995                                   Richelle Mead   \n",
       "2996                                   Ilona Andrews   \n",
       "2997  Isabel Allende, Nick Caistor, Amanda Hopkinson   \n",
       "2998                                 Terry Pratchett   \n",
       "\n",
       "      original_publication_year                            original_title  \\\n",
       "0                          2008                          The Hunger Games   \n",
       "1                          1997  Harry Potter and the Philosopher's Stone   \n",
       "2                          2005                                  Twilight   \n",
       "3                          1960                     To Kill a Mockingbird   \n",
       "4                          1925                          The Great Gatsby   \n",
       "...                         ...                                       ...   \n",
       "2994                       2011                             The Gathering   \n",
       "2995                       2013                           The Fiery Heart   \n",
       "2996                       2010                              Magic Bleeds   \n",
       "2997                       2015                         El amante japonés   \n",
       "2998                       1997                                     Jingo   \n",
       "\n",
       "                                              image_url  \n",
       "0     https://images.gr-assets.com/books/1447303603m...  \n",
       "1     https://images.gr-assets.com/books/1474154022m...  \n",
       "2     https://images.gr-assets.com/books/1361039443m...  \n",
       "3     https://images.gr-assets.com/books/1361975680m...  \n",
       "4     https://images.gr-assets.com/books/1490528560m...  \n",
       "...                                                 ...  \n",
       "2994  https://images.gr-assets.com/books/1277820938m...  \n",
       "2995  https://images.gr-assets.com/books/1383243238m...  \n",
       "2996  https://images.gr-assets.com/books/1407110429m...  \n",
       "2997  https://images.gr-assets.com/books/1501991754m...  \n",
       "2998  https://images.gr-assets.com/books/1327921813m...  \n",
       "\n",
       "[2999 rows x 7 columns]"
      ]
     },
     "execution_count": 76,
     "metadata": {},
     "output_type": "execute_result"
    }
   ],
   "source": [
    "#merge df 'popular' with df 'book_copy' based on column 'book_id' then select specific columns and remove duplicate rows based on 'book_id'\n",
    "popular = popular.merge(book_data_small, on=\"book_id\").drop_duplicates(\"book_id\")[[\"book_id\",\"rating_count\",\"mean_rating\",\"authors\",\"original_publication_year\",\"original_title\",\"image_url\"]]\n",
    "popular"
   ]
  },
  {
   "cell_type": "code",
   "execution_count": 77,
   "metadata": {
    "execution": {
     "iopub.execute_input": "2023-08-29T08:18:32.074752Z",
     "iopub.status.busy": "2023-08-29T08:18:32.074109Z",
     "iopub.status.idle": "2023-08-29T08:18:32.088631Z",
     "shell.execute_reply": "2023-08-29T08:18:32.087756Z",
     "shell.execute_reply.started": "2023-08-29T08:18:32.074727Z"
    },
    "tags": []
   },
   "outputs": [
    {
     "data": {
      "text/html": [
       "<div>\n",
       "<style scoped>\n",
       "    .dataframe tbody tr th:only-of-type {\n",
       "        vertical-align: middle;\n",
       "    }\n",
       "\n",
       "    .dataframe tbody tr th {\n",
       "        vertical-align: top;\n",
       "    }\n",
       "\n",
       "    .dataframe thead th {\n",
       "        text-align: right;\n",
       "    }\n",
       "</style>\n",
       "<table border=\"1\" class=\"dataframe\">\n",
       "  <thead>\n",
       "    <tr style=\"text-align: right;\">\n",
       "      <th></th>\n",
       "      <th>book_id</th>\n",
       "      <th>rating_count</th>\n",
       "      <th>mean_rating</th>\n",
       "      <th>authors</th>\n",
       "      <th>original_publication_year</th>\n",
       "      <th>original_title</th>\n",
       "      <th>image_url</th>\n",
       "    </tr>\n",
       "  </thead>\n",
       "  <tbody>\n",
       "    <tr>\n",
       "      <th>0</th>\n",
       "      <td>1</td>\n",
       "      <td>3902</td>\n",
       "      <td>4.26</td>\n",
       "      <td>Suzanne Collins</td>\n",
       "      <td>2008</td>\n",
       "      <td>The Hunger Games</td>\n",
       "      <td>https://images.gr-assets.com/books/1447303603m...</td>\n",
       "    </tr>\n",
       "    <tr>\n",
       "      <th>3</th>\n",
       "      <td>4</td>\n",
       "      <td>3736</td>\n",
       "      <td>4.34</td>\n",
       "      <td>Harper Lee</td>\n",
       "      <td>1960</td>\n",
       "      <td>To Kill a Mockingbird</td>\n",
       "      <td>https://images.gr-assets.com/books/1361975680m...</td>\n",
       "    </tr>\n",
       "    <tr>\n",
       "      <th>1</th>\n",
       "      <td>2</td>\n",
       "      <td>3612</td>\n",
       "      <td>4.11</td>\n",
       "      <td>J.K. Rowling, Mary GrandPré</td>\n",
       "      <td>1997</td>\n",
       "      <td>Harry Potter and the Philosopher's Stone</td>\n",
       "      <td>https://images.gr-assets.com/books/1474154022m...</td>\n",
       "    </tr>\n",
       "    <tr>\n",
       "      <th>4</th>\n",
       "      <td>5</td>\n",
       "      <td>3405</td>\n",
       "      <td>3.72</td>\n",
       "      <td>F. Scott Fitzgerald</td>\n",
       "      <td>1925</td>\n",
       "      <td>The Great Gatsby</td>\n",
       "      <td>https://images.gr-assets.com/books/1490528560m...</td>\n",
       "    </tr>\n",
       "    <tr>\n",
       "      <th>25</th>\n",
       "      <td>26</td>\n",
       "      <td>3366</td>\n",
       "      <td>3.36</td>\n",
       "      <td>Dan Brown</td>\n",
       "      <td>2003</td>\n",
       "      <td>The Da Vinci Code</td>\n",
       "      <td>https://images.gr-assets.com/books/1303252999m...</td>\n",
       "    </tr>\n",
       "    <tr>\n",
       "      <th>16</th>\n",
       "      <td>17</td>\n",
       "      <td>3342</td>\n",
       "      <td>4.07</td>\n",
       "      <td>Suzanne Collins</td>\n",
       "      <td>2009</td>\n",
       "      <td>Catching Fire</td>\n",
       "      <td>https://images.gr-assets.com/books/1358273780m...</td>\n",
       "    </tr>\n",
       "    <tr>\n",
       "      <th>17</th>\n",
       "      <td>18</td>\n",
       "      <td>3243</td>\n",
       "      <td>4.24</td>\n",
       "      <td>J.K. Rowling, Mary GrandPré, Rufus Beck</td>\n",
       "      <td>1999</td>\n",
       "      <td>Harry Potter and the Prisoner of Azkaban</td>\n",
       "      <td>https://images.gr-assets.com/books/1499277281m...</td>\n",
       "    </tr>\n",
       "    <tr>\n",
       "      <th>22</th>\n",
       "      <td>23</td>\n",
       "      <td>3229</td>\n",
       "      <td>3.97</td>\n",
       "      <td>J.K. Rowling, Mary GrandPré</td>\n",
       "      <td>1998</td>\n",
       "      <td>Harry Potter and the Chamber of Secrets</td>\n",
       "      <td>https://images.gr-assets.com/books/1474169725m...</td>\n",
       "    </tr>\n",
       "    <tr>\n",
       "      <th>19</th>\n",
       "      <td>20</td>\n",
       "      <td>3187</td>\n",
       "      <td>3.75</td>\n",
       "      <td>Suzanne Collins</td>\n",
       "      <td>2010</td>\n",
       "      <td>Mockingjay</td>\n",
       "      <td>https://images.gr-assets.com/books/1358275419m...</td>\n",
       "    </tr>\n",
       "    <tr>\n",
       "      <th>23</th>\n",
       "      <td>24</td>\n",
       "      <td>3160</td>\n",
       "      <td>4.26</td>\n",
       "      <td>J.K. Rowling, Mary GrandPré</td>\n",
       "      <td>2000</td>\n",
       "      <td>Harry Potter and the Goblet of Fire</td>\n",
       "      <td>https://images.gr-assets.com/books/1361482611m...</td>\n",
       "    </tr>\n",
       "    <tr>\n",
       "      <th>7</th>\n",
       "      <td>8</td>\n",
       "      <td>3101</td>\n",
       "      <td>3.74</td>\n",
       "      <td>J.D. Salinger</td>\n",
       "      <td>1951</td>\n",
       "      <td>The Catcher in the Rye</td>\n",
       "      <td>https://images.gr-assets.com/books/1398034300m...</td>\n",
       "    </tr>\n",
       "    <tr>\n",
       "      <th>24</th>\n",
       "      <td>25</td>\n",
       "      <td>3099</td>\n",
       "      <td>4.41</td>\n",
       "      <td>J.K. Rowling, Mary GrandPré</td>\n",
       "      <td>2007</td>\n",
       "      <td>Harry Potter and the Deathly Hallows</td>\n",
       "      <td>https://images.gr-assets.com/books/1474171184m...</td>\n",
       "    </tr>\n",
       "    <tr>\n",
       "      <th>20</th>\n",
       "      <td>21</td>\n",
       "      <td>3080</td>\n",
       "      <td>4.19</td>\n",
       "      <td>J.K. Rowling, Mary GrandPré</td>\n",
       "      <td>2003</td>\n",
       "      <td>Harry Potter and the Order of the Phoenix</td>\n",
       "      <td>https://images.gr-assets.com/books/1387141547m...</td>\n",
       "    </tr>\n",
       "    <tr>\n",
       "      <th>26</th>\n",
       "      <td>27</td>\n",
       "      <td>3054</td>\n",
       "      <td>4.31</td>\n",
       "      <td>J.K. Rowling, Mary GrandPré</td>\n",
       "      <td>2005</td>\n",
       "      <td>Harry Potter and the Half-Blood Prince</td>\n",
       "      <td>https://images.gr-assets.com/books/1361039191m...</td>\n",
       "    </tr>\n",
       "    <tr>\n",
       "      <th>12</th>\n",
       "      <td>13</td>\n",
       "      <td>2781</td>\n",
       "      <td>3.98</td>\n",
       "      <td>George Orwell, Erich Fromm, Celâl Üster</td>\n",
       "      <td>1949</td>\n",
       "      <td>Nineteen Eighty-Four</td>\n",
       "      <td>https://images.gr-assets.com/books/1348990566m...</td>\n",
       "    </tr>\n",
       "    <tr>\n",
       "      <th>30</th>\n",
       "      <td>31</td>\n",
       "      <td>2779</td>\n",
       "      <td>4.35</td>\n",
       "      <td>Kathryn Stockett</td>\n",
       "      <td>2009</td>\n",
       "      <td>The Help</td>\n",
       "      <td>https://images.gr-assets.com/books/1346100365m...</td>\n",
       "    </tr>\n",
       "    <tr>\n",
       "      <th>15</th>\n",
       "      <td>16</td>\n",
       "      <td>2758</td>\n",
       "      <td>3.80</td>\n",
       "      <td>Stieg Larsson, Reg Keeland</td>\n",
       "      <td>2005</td>\n",
       "      <td>Män som hatar kvinnor</td>\n",
       "      <td>https://images.gr-assets.com/books/1327868566m...</td>\n",
       "    </tr>\n",
       "    <tr>\n",
       "      <th>2</th>\n",
       "      <td>3</td>\n",
       "      <td>2746</td>\n",
       "      <td>3.43</td>\n",
       "      <td>Stephenie Meyer</td>\n",
       "      <td>2005</td>\n",
       "      <td>Twilight</td>\n",
       "      <td>https://images.gr-assets.com/books/1361039443m...</td>\n",
       "    </tr>\n",
       "    <tr>\n",
       "      <th>27</th>\n",
       "      <td>28</td>\n",
       "      <td>2736</td>\n",
       "      <td>3.62</td>\n",
       "      <td>William Golding</td>\n",
       "      <td>1954</td>\n",
       "      <td>Lord of the Flies</td>\n",
       "      <td>https://images.gr-assets.com/books/1327869409m...</td>\n",
       "    </tr>\n",
       "    <tr>\n",
       "      <th>13</th>\n",
       "      <td>14</td>\n",
       "      <td>2691</td>\n",
       "      <td>3.73</td>\n",
       "      <td>George Orwell</td>\n",
       "      <td>1945</td>\n",
       "      <td>Animal Farm: A Fairy Story</td>\n",
       "      <td>https://images.gr-assets.com/books/1424037542m...</td>\n",
       "    </tr>\n",
       "    <tr>\n",
       "      <th>6</th>\n",
       "      <td>7</td>\n",
       "      <td>2642</td>\n",
       "      <td>4.00</td>\n",
       "      <td>J.R.R. Tolkien</td>\n",
       "      <td>1937</td>\n",
       "      <td>The Hobbit or There and Back Again</td>\n",
       "      <td>https://images.gr-assets.com/books/1372847500m...</td>\n",
       "    </tr>\n",
       "    <tr>\n",
       "      <th>10</th>\n",
       "      <td>11</td>\n",
       "      <td>2626</td>\n",
       "      <td>4.09</td>\n",
       "      <td>Khaled Hosseini</td>\n",
       "      <td>2003</td>\n",
       "      <td>The Kite Runner</td>\n",
       "      <td>https://images.gr-assets.com/books/1484565687m...</td>\n",
       "    </tr>\n",
       "    <tr>\n",
       "      <th>9</th>\n",
       "      <td>10</td>\n",
       "      <td>2612</td>\n",
       "      <td>4.14</td>\n",
       "      <td>Jane Austen</td>\n",
       "      <td>1813</td>\n",
       "      <td>Pride and Prejudice</td>\n",
       "      <td>https://images.gr-assets.com/books/1320399351m...</td>\n",
       "    </tr>\n",
       "    <tr>\n",
       "      <th>29</th>\n",
       "      <td>30</td>\n",
       "      <td>2531</td>\n",
       "      <td>3.76</td>\n",
       "      <td>Gillian Flynn</td>\n",
       "      <td>2012</td>\n",
       "      <td>Gone Girl</td>\n",
       "      <td>https://images.gr-assets.com/books/1339602131m...</td>\n",
       "    </tr>\n",
       "    <tr>\n",
       "      <th>31</th>\n",
       "      <td>32</td>\n",
       "      <td>2514</td>\n",
       "      <td>3.75</td>\n",
       "      <td>John Steinbeck</td>\n",
       "      <td>1937</td>\n",
       "      <td>Of Mice and Men</td>\n",
       "      <td>https://images.gr-assets.com/books/1437235233m...</td>\n",
       "    </tr>\n",
       "    <tr>\n",
       "      <th>45</th>\n",
       "      <td>46</td>\n",
       "      <td>2425</td>\n",
       "      <td>3.85</td>\n",
       "      <td>Sara Gruen</td>\n",
       "      <td>2006</td>\n",
       "      <td>Water for Elephants</td>\n",
       "      <td>https://images.gr-assets.com/books/1494428973m...</td>\n",
       "    </tr>\n",
       "    <tr>\n",
       "      <th>32</th>\n",
       "      <td>33</td>\n",
       "      <td>2354</td>\n",
       "      <td>3.88</td>\n",
       "      <td>Arthur Golden</td>\n",
       "      <td>1997</td>\n",
       "      <td>Memoirs of a Geisha</td>\n",
       "      <td>https://s.gr-assets.com/assets/nophoto/book/11...</td>\n",
       "    </tr>\n",
       "    <tr>\n",
       "      <th>28</th>\n",
       "      <td>29</td>\n",
       "      <td>2331</td>\n",
       "      <td>3.75</td>\n",
       "      <td>William Shakespeare, Robert           Jackson</td>\n",
       "      <td>1595</td>\n",
       "      <td>An Excellent conceited Tragedie of Romeo and J...</td>\n",
       "      <td>https://images.gr-assets.com/books/1327872146m...</td>\n",
       "    </tr>\n",
       "    <tr>\n",
       "      <th>57</th>\n",
       "      <td>58</td>\n",
       "      <td>2319</td>\n",
       "      <td>3.79</td>\n",
       "      <td>Mark Twain, John Seelye, Guy Cardwell</td>\n",
       "      <td>1884</td>\n",
       "      <td>The Adventures of Huckleberry Finn</td>\n",
       "      <td>https://images.gr-assets.com/books/1405973850m...</td>\n",
       "    </tr>\n",
       "    <tr>\n",
       "      <th>44</th>\n",
       "      <td>45</td>\n",
       "      <td>2310</td>\n",
       "      <td>3.75</td>\n",
       "      <td>Yann Martel</td>\n",
       "      <td>2001</td>\n",
       "      <td>Life of Pi</td>\n",
       "      <td>https://images.gr-assets.com/books/1320562005m...</td>\n",
       "    </tr>\n",
       "  </tbody>\n",
       "</table>\n",
       "</div>"
      ],
      "text/plain": [
       "    book_id  rating_count  mean_rating  \\\n",
       "0         1          3902         4.26   \n",
       "3         4          3736         4.34   \n",
       "1         2          3612         4.11   \n",
       "4         5          3405         3.72   \n",
       "25       26          3366         3.36   \n",
       "16       17          3342         4.07   \n",
       "17       18          3243         4.24   \n",
       "22       23          3229         3.97   \n",
       "19       20          3187         3.75   \n",
       "23       24          3160         4.26   \n",
       "7         8          3101         3.74   \n",
       "24       25          3099         4.41   \n",
       "20       21          3080         4.19   \n",
       "26       27          3054         4.31   \n",
       "12       13          2781         3.98   \n",
       "30       31          2779         4.35   \n",
       "15       16          2758         3.80   \n",
       "2         3          2746         3.43   \n",
       "27       28          2736         3.62   \n",
       "13       14          2691         3.73   \n",
       "6         7          2642         4.00   \n",
       "10       11          2626         4.09   \n",
       "9        10          2612         4.14   \n",
       "29       30          2531         3.76   \n",
       "31       32          2514         3.75   \n",
       "45       46          2425         3.85   \n",
       "32       33          2354         3.88   \n",
       "28       29          2331         3.75   \n",
       "57       58          2319         3.79   \n",
       "44       45          2310         3.75   \n",
       "\n",
       "                                          authors  original_publication_year  \\\n",
       "0                                 Suzanne Collins                       2008   \n",
       "3                                      Harper Lee                       1960   \n",
       "1                     J.K. Rowling, Mary GrandPré                       1997   \n",
       "4                             F. Scott Fitzgerald                       1925   \n",
       "25                                      Dan Brown                       2003   \n",
       "16                                Suzanne Collins                       2009   \n",
       "17        J.K. Rowling, Mary GrandPré, Rufus Beck                       1999   \n",
       "22                    J.K. Rowling, Mary GrandPré                       1998   \n",
       "19                                Suzanne Collins                       2010   \n",
       "23                    J.K. Rowling, Mary GrandPré                       2000   \n",
       "7                                   J.D. Salinger                       1951   \n",
       "24                    J.K. Rowling, Mary GrandPré                       2007   \n",
       "20                    J.K. Rowling, Mary GrandPré                       2003   \n",
       "26                    J.K. Rowling, Mary GrandPré                       2005   \n",
       "12        George Orwell, Erich Fromm, Celâl Üster                       1949   \n",
       "30                               Kathryn Stockett                       2009   \n",
       "15                     Stieg Larsson, Reg Keeland                       2005   \n",
       "2                                 Stephenie Meyer                       2005   \n",
       "27                                William Golding                       1954   \n",
       "13                                  George Orwell                       1945   \n",
       "6                                  J.R.R. Tolkien                       1937   \n",
       "10                                Khaled Hosseini                       2003   \n",
       "9                                     Jane Austen                       1813   \n",
       "29                                  Gillian Flynn                       2012   \n",
       "31                                 John Steinbeck                       1937   \n",
       "45                                     Sara Gruen                       2006   \n",
       "32                                  Arthur Golden                       1997   \n",
       "28  William Shakespeare, Robert           Jackson                       1595   \n",
       "57          Mark Twain, John Seelye, Guy Cardwell                       1884   \n",
       "44                                    Yann Martel                       2001   \n",
       "\n",
       "                                       original_title  \\\n",
       "0                                    The Hunger Games   \n",
       "3                               To Kill a Mockingbird   \n",
       "1            Harry Potter and the Philosopher's Stone   \n",
       "4                                    The Great Gatsby   \n",
       "25                                  The Da Vinci Code   \n",
       "16                                      Catching Fire   \n",
       "17           Harry Potter and the Prisoner of Azkaban   \n",
       "22            Harry Potter and the Chamber of Secrets   \n",
       "19                                         Mockingjay   \n",
       "23                Harry Potter and the Goblet of Fire   \n",
       "7                              The Catcher in the Rye   \n",
       "24               Harry Potter and the Deathly Hallows   \n",
       "20          Harry Potter and the Order of the Phoenix   \n",
       "26             Harry Potter and the Half-Blood Prince   \n",
       "12                               Nineteen Eighty-Four   \n",
       "30                                           The Help   \n",
       "15                              Män som hatar kvinnor   \n",
       "2                                            Twilight   \n",
       "27                                 Lord of the Flies    \n",
       "13                         Animal Farm: A Fairy Story   \n",
       "6                  The Hobbit or There and Back Again   \n",
       "10                                   The Kite Runner    \n",
       "9                                 Pride and Prejudice   \n",
       "29                                          Gone Girl   \n",
       "31                                   Of Mice and Men    \n",
       "45                                Water for Elephants   \n",
       "32                                Memoirs of a Geisha   \n",
       "28  An Excellent conceited Tragedie of Romeo and J...   \n",
       "57                 The Adventures of Huckleberry Finn   \n",
       "44                                         Life of Pi   \n",
       "\n",
       "                                            image_url  \n",
       "0   https://images.gr-assets.com/books/1447303603m...  \n",
       "3   https://images.gr-assets.com/books/1361975680m...  \n",
       "1   https://images.gr-assets.com/books/1474154022m...  \n",
       "4   https://images.gr-assets.com/books/1490528560m...  \n",
       "25  https://images.gr-assets.com/books/1303252999m...  \n",
       "16  https://images.gr-assets.com/books/1358273780m...  \n",
       "17  https://images.gr-assets.com/books/1499277281m...  \n",
       "22  https://images.gr-assets.com/books/1474169725m...  \n",
       "19  https://images.gr-assets.com/books/1358275419m...  \n",
       "23  https://images.gr-assets.com/books/1361482611m...  \n",
       "7   https://images.gr-assets.com/books/1398034300m...  \n",
       "24  https://images.gr-assets.com/books/1474171184m...  \n",
       "20  https://images.gr-assets.com/books/1387141547m...  \n",
       "26  https://images.gr-assets.com/books/1361039191m...  \n",
       "12  https://images.gr-assets.com/books/1348990566m...  \n",
       "30  https://images.gr-assets.com/books/1346100365m...  \n",
       "15  https://images.gr-assets.com/books/1327868566m...  \n",
       "2   https://images.gr-assets.com/books/1361039443m...  \n",
       "27  https://images.gr-assets.com/books/1327869409m...  \n",
       "13  https://images.gr-assets.com/books/1424037542m...  \n",
       "6   https://images.gr-assets.com/books/1372847500m...  \n",
       "10  https://images.gr-assets.com/books/1484565687m...  \n",
       "9   https://images.gr-assets.com/books/1320399351m...  \n",
       "29  https://images.gr-assets.com/books/1339602131m...  \n",
       "31  https://images.gr-assets.com/books/1437235233m...  \n",
       "45  https://images.gr-assets.com/books/1494428973m...  \n",
       "32  https://s.gr-assets.com/assets/nophoto/book/11...  \n",
       "28  https://images.gr-assets.com/books/1327872146m...  \n",
       "57  https://images.gr-assets.com/books/1405973850m...  \n",
       "44  https://images.gr-assets.com/books/1320562005m...  "
      ]
     },
     "execution_count": 77,
     "metadata": {},
     "output_type": "execute_result"
    }
   ],
   "source": [
    "#show the order of values from largest to smallest\n",
    "top_30 = popular.sort_values(\"rating_count\", ascending=False).head(30)\n",
    "top_30"
   ]
  },
  {
   "cell_type": "code",
   "execution_count": 78,
   "metadata": {
    "execution": {
     "iopub.execute_input": "2023-08-29T08:18:32.522207Z",
     "iopub.status.busy": "2023-08-29T08:18:32.521865Z",
     "iopub.status.idle": "2023-08-29T08:18:32.527499Z",
     "shell.execute_reply": "2023-08-29T08:18:32.526623Z",
     "shell.execute_reply.started": "2023-08-29T08:18:32.522183Z"
    },
    "tags": []
   },
   "outputs": [
    {
     "data": {
      "text/plain": [
       "'https://images.gr-assets.com/books/1447303603m/2767052.jpg'"
      ]
     },
     "execution_count": 78,
     "metadata": {},
     "output_type": "execute_result"
    }
   ],
   "source": [
    "book_copy['image_url'][0]"
   ]
  },
  {
   "cell_type": "code",
   "execution_count": 79,
   "metadata": {
    "execution": {
     "iopub.execute_input": "2023-08-29T08:18:32.980281Z",
     "iopub.status.busy": "2023-08-29T08:18:32.979807Z",
     "iopub.status.idle": "2023-08-29T08:18:32.985110Z",
     "shell.execute_reply": "2023-08-29T08:18:32.984214Z",
     "shell.execute_reply.started": "2023-08-29T08:18:32.980257Z"
    },
    "tags": []
   },
   "outputs": [
    {
     "data": {
      "text/plain": [
       "(2999, 7)"
      ]
     },
     "execution_count": 79,
     "metadata": {},
     "output_type": "execute_result"
    }
   ],
   "source": [
    "#show the dimensions of popular\n",
    "popular.shape"
   ]
  },
  {
   "cell_type": "code",
   "execution_count": 81,
   "metadata": {
    "execution": {
     "iopub.execute_input": "2023-08-29T08:19:20.952938Z",
     "iopub.status.busy": "2023-08-29T08:19:20.952435Z",
     "iopub.status.idle": "2023-08-29T08:19:20.957347Z",
     "shell.execute_reply": "2023-08-29T08:19:20.956656Z",
     "shell.execute_reply.started": "2023-08-29T08:19:20.952902Z"
    },
    "tags": []
   },
   "outputs": [],
   "source": [
    "import pickle\n",
    "pickle.dump(top_30, open('output/popular.pkl','wb'))"
   ]
  },
  {
   "cell_type": "markdown",
   "metadata": {},
   "source": [
    "### **Personalized recommender system**"
   ]
  },
  {
   "cell_type": "code",
   "execution_count": 82,
   "metadata": {
    "execution": {
     "iopub.execute_input": "2023-08-29T08:19:27.509840Z",
     "iopub.status.busy": "2023-08-29T08:19:27.509448Z",
     "iopub.status.idle": "2023-08-29T08:19:27.913038Z",
     "shell.execute_reply": "2023-08-29T08:19:27.912247Z",
     "shell.execute_reply.started": "2023-08-29T08:19:27.509814Z"
    },
    "tags": []
   },
   "outputs": [],
   "source": [
    "#make matrix\n",
    "#copy rating_data and make pivot to check total 'user_id' and 'book_id'\n",
    "user_rating_pivot = rating_data_small.pivot(index='user_id',columns='book_id',values='rating')"
   ]
  },
  {
   "cell_type": "markdown",
   "metadata": {},
   "source": [
    "The total number of users is more than the number of items, so for personalized recommender systems, *User-to-User Collaborative Filtering (User CF)* is used."
   ]
  },
  {
   "cell_type": "markdown",
   "metadata": {},
   "source": [
    "#### Train Model"
   ]
  },
  {
   "cell_type": "code",
   "execution_count": 83,
   "metadata": {
    "execution": {
     "iopub.execute_input": "2023-08-29T08:19:30.114831Z",
     "iopub.status.busy": "2023-08-29T08:19:30.114442Z",
     "iopub.status.idle": "2023-08-29T08:19:30.118936Z",
     "shell.execute_reply": "2023-08-29T08:19:30.118132Z",
     "shell.execute_reply.started": "2023-08-29T08:19:30.114807Z"
    },
    "tags": []
   },
   "outputs": [],
   "source": [
    "#load library\n",
    "import surprise\n",
    "from surprise import accuracy, Dataset, Reader, BaselineOnly, KNNBasic, KNNBaseline, SVD, NMF\n",
    "from surprise.model_selection.search import RandomizedSearchCV\n",
    "from surprise.model_selection import cross_validate, train_test_split"
   ]
  },
  {
   "cell_type": "code",
   "execution_count": 84,
   "metadata": {
    "execution": {
     "iopub.execute_input": "2023-08-29T08:19:30.420735Z",
     "iopub.status.busy": "2023-08-29T08:19:30.420406Z",
     "iopub.status.idle": "2023-08-29T08:19:30.424200Z",
     "shell.execute_reply": "2023-08-29T08:19:30.423396Z",
     "shell.execute_reply.started": "2023-08-29T08:19:30.420713Z"
    },
    "tags": []
   },
   "outputs": [],
   "source": [
    "#Initialize a Reader object in the Surprise library to read rating data on a scale of 1-5\n",
    "reader = Reader(rating_scale = (1, 5))"
   ]
  },
  {
   "cell_type": "code",
   "execution_count": 85,
   "metadata": {
    "execution": {
     "iopub.execute_input": "2023-08-29T08:19:31.635462Z",
     "iopub.status.busy": "2023-08-29T08:19:31.635060Z",
     "iopub.status.idle": "2023-08-29T08:19:32.306597Z",
     "shell.execute_reply": "2023-08-29T08:19:32.305703Z",
     "shell.execute_reply.started": "2023-08-29T08:19:31.635436Z"
    },
    "tags": []
   },
   "outputs": [
    {
     "data": {
      "text/plain": [
       "<surprise.dataset.DatasetAutoFolds at 0x7efda60ed550>"
      ]
     },
     "execution_count": 85,
     "metadata": {},
     "output_type": "execute_result"
    }
   ],
   "source": [
    "#reads the rating data and converts it into a format that can be used to load the recommendation dataset from df 'rating_data'\n",
    "dataset = Dataset.load_from_df(rating_data_small[['user_id', 'book_id', 'rating']].copy(), reader)\n",
    "dataset"
   ]
  },
  {
   "cell_type": "code",
   "execution_count": 86,
   "metadata": {
    "execution": {
     "iopub.execute_input": "2023-08-29T08:19:32.443992Z",
     "iopub.status.busy": "2023-08-29T08:19:32.443697Z",
     "iopub.status.idle": "2023-08-29T08:19:32.452173Z",
     "shell.execute_reply": "2023-08-29T08:19:32.451411Z",
     "shell.execute_reply.started": "2023-08-29T08:19:32.443972Z"
    },
    "tags": []
   },
   "outputs": [
    {
     "data": {
      "text/html": [
       "<div>\n",
       "<style scoped>\n",
       "    .dataframe tbody tr th:only-of-type {\n",
       "        vertical-align: middle;\n",
       "    }\n",
       "\n",
       "    .dataframe tbody tr th {\n",
       "        vertical-align: top;\n",
       "    }\n",
       "\n",
       "    .dataframe thead th {\n",
       "        text-align: right;\n",
       "    }\n",
       "</style>\n",
       "<table border=\"1\" class=\"dataframe\">\n",
       "  <thead>\n",
       "    <tr style=\"text-align: right;\">\n",
       "      <th></th>\n",
       "      <th>user_id</th>\n",
       "      <th>book_id</th>\n",
       "      <th>rating</th>\n",
       "    </tr>\n",
       "  </thead>\n",
       "  <tbody>\n",
       "    <tr>\n",
       "      <th>0</th>\n",
       "      <td>1</td>\n",
       "      <td>258</td>\n",
       "      <td>5</td>\n",
       "    </tr>\n",
       "    <tr>\n",
       "      <th>2</th>\n",
       "      <td>2</td>\n",
       "      <td>260</td>\n",
       "      <td>5</td>\n",
       "    </tr>\n",
       "    <tr>\n",
       "      <th>4</th>\n",
       "      <td>2</td>\n",
       "      <td>2318</td>\n",
       "      <td>3</td>\n",
       "    </tr>\n",
       "    <tr>\n",
       "      <th>5</th>\n",
       "      <td>2</td>\n",
       "      <td>26</td>\n",
       "      <td>4</td>\n",
       "    </tr>\n",
       "    <tr>\n",
       "      <th>6</th>\n",
       "      <td>2</td>\n",
       "      <td>315</td>\n",
       "      <td>3</td>\n",
       "    </tr>\n",
       "    <tr>\n",
       "      <th>...</th>\n",
       "      <td>...</td>\n",
       "      <td>...</td>\n",
       "      <td>...</td>\n",
       "    </tr>\n",
       "    <tr>\n",
       "      <th>5976167</th>\n",
       "      <td>7666</td>\n",
       "      <td>164</td>\n",
       "      <td>4</td>\n",
       "    </tr>\n",
       "    <tr>\n",
       "      <th>5976173</th>\n",
       "      <td>8094</td>\n",
       "      <td>1467</td>\n",
       "      <td>4</td>\n",
       "    </tr>\n",
       "    <tr>\n",
       "      <th>5976174</th>\n",
       "      <td>8094</td>\n",
       "      <td>2833</td>\n",
       "      <td>4</td>\n",
       "    </tr>\n",
       "    <tr>\n",
       "      <th>5976197</th>\n",
       "      <td>6262</td>\n",
       "      <td>1045</td>\n",
       "      <td>3</td>\n",
       "    </tr>\n",
       "    <tr>\n",
       "      <th>5976456</th>\n",
       "      <td>3173</td>\n",
       "      <td>459</td>\n",
       "      <td>5</td>\n",
       "    </tr>\n",
       "  </tbody>\n",
       "</table>\n",
       "<p>885615 rows × 3 columns</p>\n",
       "</div>"
      ],
      "text/plain": [
       "         user_id  book_id  rating\n",
       "0              1      258       5\n",
       "2              2      260       5\n",
       "4              2     2318       3\n",
       "5              2       26       4\n",
       "6              2      315       3\n",
       "...          ...      ...     ...\n",
       "5976167     7666      164       4\n",
       "5976173     8094     1467       4\n",
       "5976174     8094     2833       4\n",
       "5976197     6262     1045       3\n",
       "5976456     3173      459       5\n",
       "\n",
       "[885615 rows x 3 columns]"
      ]
     },
     "execution_count": 86,
     "metadata": {},
     "output_type": "execute_result"
    }
   ],
   "source": [
    "#show data\n",
    "dataset.df"
   ]
  },
  {
   "cell_type": "markdown",
   "metadata": {},
   "source": [
    "#### Split Train-Test"
   ]
  },
  {
   "cell_type": "code",
   "execution_count": 87,
   "metadata": {
    "execution": {
     "iopub.execute_input": "2023-08-29T08:19:33.906660Z",
     "iopub.status.busy": "2023-08-29T08:19:33.906302Z",
     "iopub.status.idle": "2023-08-29T08:19:35.002190Z",
     "shell.execute_reply": "2023-08-29T08:19:35.001561Z",
     "shell.execute_reply.started": "2023-08-29T08:19:33.906637Z"
    },
    "tags": []
   },
   "outputs": [],
   "source": [
    "#split dataset into training data and test data\n",
    "train_data, test_data = train_test_split(dataset, test_size=0.2, random_state=42)"
   ]
  },
  {
   "cell_type": "code",
   "execution_count": 88,
   "metadata": {
    "execution": {
     "iopub.execute_input": "2023-08-29T08:19:35.055286Z",
     "iopub.status.busy": "2023-08-29T08:19:35.054978Z",
     "iopub.status.idle": "2023-08-29T08:19:35.059641Z",
     "shell.execute_reply": "2023-08-29T08:19:35.059094Z",
     "shell.execute_reply.started": "2023-08-29T08:19:35.055264Z"
    },
    "tags": []
   },
   "outputs": [
    {
     "data": {
      "text/plain": [
       "(708492, 177123)"
      ]
     },
     "execution_count": 88,
     "metadata": {},
     "output_type": "execute_result"
    }
   ],
   "source": [
    "#validate splitting\n",
    "train_data.n_ratings, len(test_data)"
   ]
  },
  {
   "cell_type": "markdown",
   "metadata": {},
   "source": [
    "#### Create baseline model"
   ]
  },
  {
   "cell_type": "markdown",
   "metadata": {},
   "source": [
    "Baselineonly calculates the predicted value based on the baseline (global, user, and item averages)"
   ]
  },
  {
   "cell_type": "code",
   "execution_count": 89,
   "metadata": {
    "execution": {
     "iopub.execute_input": "2023-08-29T08:19:40.111794Z",
     "iopub.status.busy": "2023-08-29T08:19:40.111384Z",
     "iopub.status.idle": "2023-08-29T08:19:40.116106Z",
     "shell.execute_reply": "2023-08-29T08:19:40.115558Z",
     "shell.execute_reply.started": "2023-08-29T08:19:40.111768Z"
    },
    "tags": []
   },
   "outputs": [
    {
     "data": {
      "text/plain": [
       "<surprise.prediction_algorithms.baseline_only.BaselineOnly at 0x7efda8906640>"
      ]
     },
     "execution_count": 89,
     "metadata": {},
     "output_type": "execute_result"
    }
   ],
   "source": [
    "#initialize\n",
    "model_baseline = BaselineOnly()\n",
    "model_baseline"
   ]
  },
  {
   "cell_type": "code",
   "execution_count": 90,
   "metadata": {
    "execution": {
     "iopub.execute_input": "2023-08-29T08:19:40.809267Z",
     "iopub.status.busy": "2023-08-29T08:19:40.808915Z",
     "iopub.status.idle": "2023-08-29T08:20:13.180135Z",
     "shell.execute_reply": "2023-08-29T08:20:13.179471Z",
     "shell.execute_reply.started": "2023-08-29T08:19:40.809241Z"
    },
    "tags": []
   },
   "outputs": [
    {
     "name": "stdout",
     "output_type": "stream",
     "text": [
      "Estimating biases using als...\n",
      "Estimating biases using als...\n",
      "Estimating biases using als...\n",
      "Estimating biases using als...\n",
      "Estimating biases using als...\n"
     ]
    }
   ],
   "source": [
    "#perform cross-validation on the initialized recommendation model using the 'BaselineOnly'\n",
    "cv_baseline = cross_validate(algo=model_baseline, data=dataset, cv=5,measures=['rmse'])"
   ]
  },
  {
   "cell_type": "code",
   "execution_count": 92,
   "metadata": {
    "execution": {
     "iopub.execute_input": "2023-08-29T08:21:45.497555Z",
     "iopub.status.busy": "2023-08-29T08:21:45.497164Z",
     "iopub.status.idle": "2023-08-29T08:21:45.501997Z",
     "shell.execute_reply": "2023-08-29T08:21:45.501470Z",
     "shell.execute_reply.started": "2023-08-29T08:21:45.497530Z"
    },
    "tags": []
   },
   "outputs": [
    {
     "data": {
      "text/plain": [
       "0.8715796982537904"
      ]
     },
     "execution_count": 92,
     "metadata": {},
     "output_type": "execute_result"
    }
   ],
   "source": [
    "#cv result\n",
    "cv_baseline_rmse = cv_baseline['test_rmse'].mean()\n",
    "cv_baseline_rmse"
   ]
  },
  {
   "cell_type": "markdown",
   "metadata": {},
   "source": [
    "#### Hyperparameter candidate"
   ]
  },
  {
   "cell_type": "code",
   "execution_count": 93,
   "metadata": {
    "execution": {
     "iopub.execute_input": "2023-08-29T08:21:52.368763Z",
     "iopub.status.busy": "2023-08-29T08:21:52.368372Z",
     "iopub.status.idle": "2023-08-29T08:21:52.372713Z",
     "shell.execute_reply": "2023-08-29T08:21:52.372097Z",
     "shell.execute_reply.started": "2023-08-29T08:21:52.368737Z"
    },
    "tags": []
   },
   "outputs": [],
   "source": [
    "#initialization of parameters that will be used in a randomized search\n",
    "#for hyperparameters in the recommendation model with the KNNBaseline method\n",
    "param_dist = {'k':list(np.arange(start=20, stop=40, step=5)),\n",
    "          'sim_options':{'name':['pearson','pearson_baseline','cosine'],'user_based':['True']}, 'min_k': [1, 2, 3]}"
   ]
  },
  {
   "cell_type": "code",
   "execution_count": 94,
   "metadata": {
    "execution": {
     "iopub.execute_input": "2023-08-29T08:21:54.257077Z",
     "iopub.status.busy": "2023-08-29T08:21:54.256719Z",
     "iopub.status.idle": "2023-08-29T08:21:54.260718Z",
     "shell.execute_reply": "2023-08-29T08:21:54.260131Z",
     "shell.execute_reply.started": "2023-08-29T08:21:54.257050Z"
    },
    "tags": []
   },
   "outputs": [],
   "source": [
    "#randomized search for hyperparameters in the recommendation model with the KNNBasic method\n",
    "knn_basic = RandomizedSearchCV(algo_class=KNNBasic, param_distributions = param_dist, cv=5)"
   ]
  },
  {
   "cell_type": "code",
   "execution_count": 95,
   "metadata": {
    "execution": {
     "iopub.execute_input": "2023-08-29T08:21:55.956862Z",
     "iopub.status.busy": "2023-08-29T08:21:55.956501Z",
     "iopub.status.idle": "2023-08-29T10:24:56.729772Z",
     "shell.execute_reply": "2023-08-29T10:24:56.728981Z",
     "shell.execute_reply.started": "2023-08-29T08:21:55.956837Z"
    },
    "tags": []
   },
   "outputs": [
    {
     "name": "stdout",
     "output_type": "stream",
     "text": [
      "Estimating biases using als...\n",
      "Computing the pearson_baseline similarity matrix...\n",
      "Done computing similarity matrix.\n",
      "Estimating biases using als...\n",
      "Computing the pearson_baseline similarity matrix...\n",
      "Done computing similarity matrix.\n",
      "Estimating biases using als...\n",
      "Computing the pearson_baseline similarity matrix...\n",
      "Done computing similarity matrix.\n",
      "Estimating biases using als...\n",
      "Computing the pearson_baseline similarity matrix...\n",
      "Done computing similarity matrix.\n",
      "Estimating biases using als...\n",
      "Computing the pearson_baseline similarity matrix...\n",
      "Done computing similarity matrix.\n",
      "Computing the pearson similarity matrix...\n",
      "Done computing similarity matrix.\n",
      "Computing the pearson similarity matrix...\n",
      "Done computing similarity matrix.\n",
      "Computing the pearson similarity matrix...\n",
      "Done computing similarity matrix.\n",
      "Computing the pearson similarity matrix...\n",
      "Done computing similarity matrix.\n",
      "Computing the pearson similarity matrix...\n",
      "Done computing similarity matrix.\n",
      "Computing the pearson similarity matrix...\n",
      "Done computing similarity matrix.\n",
      "Computing the pearson similarity matrix...\n",
      "Done computing similarity matrix.\n",
      "Computing the pearson similarity matrix...\n",
      "Done computing similarity matrix.\n",
      "Computing the pearson similarity matrix...\n",
      "Done computing similarity matrix.\n",
      "Computing the pearson similarity matrix...\n",
      "Done computing similarity matrix.\n",
      "Estimating biases using als...\n",
      "Computing the pearson_baseline similarity matrix...\n",
      "Done computing similarity matrix.\n",
      "Estimating biases using als...\n",
      "Computing the cosine similarity matrix...\n",
      "Done computing similarity matrix.\n",
      "Computing the cosine similarity matrix...\n",
      "Done computing similarity matrix.\n",
      "Computing the cosine similarity matrix...\n",
      "Done computing similarity matrix.\n",
      "Computing the pearson similarity matrix...\n",
      "Done computing similarity matrix.\n",
      "Computing the pearson similarity matrix...\n",
      "Done computing similarity matrix.\n",
      "Computing the pearson similarity matrix...\n",
      "Done computing similarity matrix.\n",
      "Computing the pearson similarity matrix...\n",
      "Done computing similarity matrix.\n",
      "Computing the pearson similarity matrix...\n",
      "Done computing similarity matrix.\n",
      "Computing the pearson similarity matrix...\n",
      "Done computing similarity matrix.\n",
      "Computing the pearson similarity matrix...\n",
      "Done computing similarity matrix.\n",
      "Computing the pearson similarity matrix...\n",
      "Done computing similarity matrix.\n",
      "Estimating biases using als...\n",
      "Computing the pearson_baseline similarity matrix...\n",
      "Done computing similarity matrix.\n",
      "Estimating biases using als...\n",
      "Computing the pearson_baseline similarity matrix...\n",
      "Done computing similarity matrix.\n",
      "Estimating biases using als...\n",
      "Computing the pearson_baseline similarity matrix...\n",
      "Done computing similarity matrix.\n",
      "Estimating biases using als...\n",
      "Computing the pearson_baseline similarity matrix...\n",
      "Done computing similarity matrix.\n",
      "Estimating biases using als...\n",
      "Computing the pearson_baseline similarity matrix...\n",
      "Done computing similarity matrix.\n",
      "Computing the cosine similarity matrix...\n",
      "Done computing similarity matrix.\n",
      "Computing the cosine similarity matrix...\n",
      "Done computing similarity matrix.\n",
      "Computing the cosine similarity matrix...\n",
      "Done computing similarity matrix.\n",
      "Computing the cosine similarity matrix...\n",
      "Done computing similarity matrix.\n",
      "Computing the cosine similarity matrix...\n",
      "Done computing similarity matrix.\n"
     ]
    }
   ],
   "source": [
    "knn_basic.fit(data=dataset)"
   ]
  },
  {
   "cell_type": "code",
   "execution_count": 97,
   "metadata": {
    "execution": {
     "iopub.execute_input": "2023-08-29T10:26:49.277430Z",
     "iopub.status.busy": "2023-08-29T10:26:49.277052Z",
     "iopub.status.idle": "2023-08-29T10:26:49.281370Z",
     "shell.execute_reply": "2023-08-29T10:26:49.280572Z",
     "shell.execute_reply.started": "2023-08-29T10:26:49.277402Z"
    },
    "tags": []
   },
   "outputs": [],
   "source": [
    "#randomized search for hyperparameters in the recommendation model with the KNNBaseline method\n",
    "knn_search = RandomizedSearchCV(algo_class=KNNBaseline, param_distributions = param_dist, cv=5)"
   ]
  },
  {
   "cell_type": "code",
   "execution_count": null,
   "metadata": {
    "execution": {
     "iopub.execute_input": "2023-08-29T10:26:59.380444Z",
     "iopub.status.busy": "2023-08-29T10:26:59.380029Z"
    },
    "tags": []
   },
   "outputs": [
    {
     "name": "stdout",
     "output_type": "stream",
     "text": [
      "Estimating biases using als...\n",
      "Computing the cosine similarity matrix...\n",
      "Done computing similarity matrix.\n",
      "Estimating biases using als...\n",
      "Computing the cosine similarity matrix...\n",
      "Done computing similarity matrix.\n",
      "Estimating biases using als...\n",
      "Computing the cosine similarity matrix...\n",
      "Done computing similarity matrix.\n",
      "Estimating biases using als...\n",
      "Computing the cosine similarity matrix...\n",
      "Done computing similarity matrix.\n",
      "Estimating biases using als...\n",
      "Computing the cosine similarity matrix...\n",
      "Done computing similarity matrix.\n",
      "Estimating biases using als...\n",
      "Computing the pearson_baseline similarity matrix...\n",
      "Done computing similarity matrix.\n",
      "Estimating biases using als...\n",
      "Computing the pearson_baseline similarity matrix...\n",
      "Done computing similarity matrix.\n",
      "Estimating biases using als...\n",
      "Computing the pearson_baseline similarity matrix...\n",
      "Done computing similarity matrix.\n"
     ]
    }
   ],
   "source": [
    "#process search hyperparams\n",
    "knn_search.fit(data=dataset)"
   ]
  },
  {
   "cell_type": "code",
   "execution_count": null,
   "metadata": {
    "tags": []
   },
   "outputs": [],
   "source": [
    "pickle.dump(knn_basic.best_params[\"rmse\"],open('output/knn_basic.pkl','wb'))\n",
    "pickle.dump(knn_search.best_params[\"rmse\"],open('output/knn_baseline.pkl','wb'))"
   ]
  },
  {
   "cell_type": "code",
   "execution_count": 96,
   "metadata": {
    "execution": {
     "iopub.execute_input": "2023-08-29T10:26:39.683202Z",
     "iopub.status.busy": "2023-08-29T10:26:39.682770Z",
     "iopub.status.idle": "2023-08-29T10:26:39.687789Z",
     "shell.execute_reply": "2023-08-29T10:26:39.687058Z",
     "shell.execute_reply.started": "2023-08-29T10:26:39.683171Z"
    },
    "tags": []
   },
   "outputs": [],
   "source": [
    "params_SVD = {'lr_all' : [1,0.1,0.01,0.001], 'n_factors' : [50,100],\n",
    "              'reg_all' : [1,0.1,0.01, 0.02]\n",
    "              }  "
   ]
  },
  {
   "cell_type": "code",
   "execution_count": 52,
   "metadata": {
    "execution": {
     "iopub.execute_input": "2023-08-29T08:02:04.757102Z",
     "iopub.status.busy": "2023-08-29T08:02:04.756703Z",
     "iopub.status.idle": "2023-08-29T08:04:03.322804Z",
     "shell.execute_reply": "2023-08-29T08:04:03.322113Z",
     "shell.execute_reply.started": "2023-08-29T08:02:04.757077Z"
    },
    "tags": []
   },
   "outputs": [],
   "source": [
    "svd_search = RandomizedSearchCV(algo_class=SVD, param_distributions = params_SVD, cv=5)\n",
    "svd_search.fit(data=dataset)"
   ]
  },
  {
   "cell_type": "code",
   "execution_count": 53,
   "metadata": {
    "execution": {
     "iopub.execute_input": "2023-08-29T08:07:11.359694Z",
     "iopub.status.busy": "2023-08-29T08:07:11.359283Z",
     "iopub.status.idle": "2023-08-29T08:07:11.363349Z",
     "shell.execute_reply": "2023-08-29T08:07:11.362724Z",
     "shell.execute_reply.started": "2023-08-29T08:07:11.359668Z"
    },
    "tags": []
   },
   "outputs": [],
   "source": [
    "params_NMF = {'n_factors': np.arange(5, 50, 5),\n",
    "              'n_epochs': np.arange(10, 100, 10)\n",
    "             }"
   ]
  },
  {
   "cell_type": "code",
   "execution_count": 54,
   "metadata": {
    "execution": {
     "iopub.execute_input": "2023-08-29T08:07:13.703546Z",
     "iopub.status.busy": "2023-08-29T08:07:13.703161Z",
     "iopub.status.idle": "2023-08-29T08:10:25.558842Z",
     "shell.execute_reply": "2023-08-29T08:10:25.558199Z",
     "shell.execute_reply.started": "2023-08-29T08:07:13.703521Z"
    },
    "tags": []
   },
   "outputs": [],
   "source": [
    "nmf_search = RandomizedSearchCV(algo_class=NMF, param_distributions = params_NMF, cv=5)\n",
    "nmf_search.fit(data=dataset)"
   ]
  },
  {
   "cell_type": "code",
   "execution_count": 55,
   "metadata": {
    "execution": {
     "iopub.execute_input": "2023-08-29T08:10:25.560434Z",
     "iopub.status.busy": "2023-08-29T08:10:25.560137Z",
     "iopub.status.idle": "2023-08-29T08:10:25.569564Z",
     "shell.execute_reply": "2023-08-29T08:10:25.568994Z",
     "shell.execute_reply.started": "2023-08-29T08:10:25.560410Z"
    },
    "tags": []
   },
   "outputs": [
    {
     "data": {
      "text/html": [
       "<div>\n",
       "<style scoped>\n",
       "    .dataframe tbody tr th:only-of-type {\n",
       "        vertical-align: middle;\n",
       "    }\n",
       "\n",
       "    .dataframe tbody tr th {\n",
       "        vertical-align: top;\n",
       "    }\n",
       "\n",
       "    .dataframe thead th {\n",
       "        text-align: right;\n",
       "    }\n",
       "</style>\n",
       "<table border=\"1\" class=\"dataframe\">\n",
       "  <thead>\n",
       "    <tr style=\"text-align: right;\">\n",
       "      <th></th>\n",
       "      <th>Model</th>\n",
       "      <th>CV Performance - RMSE</th>\n",
       "      <th>Model Condiguration</th>\n",
       "    </tr>\n",
       "  </thead>\n",
       "  <tbody>\n",
       "    <tr>\n",
       "      <th>0</th>\n",
       "      <td>Baseline</td>\n",
       "      <td>0.875839</td>\n",
       "      <td>N/A</td>\n",
       "    </tr>\n",
       "    <tr>\n",
       "      <th>1</th>\n",
       "      <td>KNN Basic</td>\n",
       "      <td>0.902894</td>\n",
       "      <td>{'k': 30, 'sim_options': {'name': 'pearson_bas...</td>\n",
       "    </tr>\n",
       "    <tr>\n",
       "      <th>2</th>\n",
       "      <td>KNN Baseline</td>\n",
       "      <td>0.857300</td>\n",
       "      <td>{'k': 20, 'sim_options': {'name': 'pearson_bas...</td>\n",
       "    </tr>\n",
       "    <tr>\n",
       "      <th>3</th>\n",
       "      <td>SVD</td>\n",
       "      <td>0.866337</td>\n",
       "      <td>{'lr_all': 0.01, 'n_factors': 50, 'reg_all': 0.1}</td>\n",
       "    </tr>\n",
       "    <tr>\n",
       "      <th>4</th>\n",
       "      <td>NMF</td>\n",
       "      <td>0.875994</td>\n",
       "      <td>{'n_factors': 45, 'n_epochs': 90}</td>\n",
       "    </tr>\n",
       "  </tbody>\n",
       "</table>\n",
       "</div>"
      ],
      "text/plain": [
       "          Model  CV Performance - RMSE  \\\n",
       "0      Baseline               0.875839   \n",
       "1     KNN Basic               0.902894   \n",
       "2  KNN Baseline               0.857300   \n",
       "3           SVD               0.866337   \n",
       "4           NMF               0.875994   \n",
       "\n",
       "                                 Model Condiguration  \n",
       "0                                                N/A  \n",
       "1  {'k': 30, 'sim_options': {'name': 'pearson_bas...  \n",
       "2  {'k': 20, 'sim_options': {'name': 'pearson_bas...  \n",
       "3  {'lr_all': 0.01, 'n_factors': 50, 'reg_all': 0.1}  \n",
       "4                  {'n_factors': 45, 'n_epochs': 90}  "
      ]
     },
     "execution_count": 55,
     "metadata": {},
     "output_type": "execute_result"
    }
   ],
   "source": [
    "#summarize performance\n",
    "summary_df = pd.DataFrame({'Model': ['Baseline', 'KNN Basic','KNN Baseline', 'SVD', 'NMF'],\n",
    "                           'CV Performance - RMSE': [cv_baseline_rmse,knn_basic.best_score['rmse'],knn_search.best_score['rmse'],svd_search.best_score['rmse'],nmf_search.best_score['rmse']],\n",
    "                           'Model Condiguration':['N/A',f'{knn_basic.best_params[\"rmse\"]}',f'{knn_search.best_params[\"rmse\"]}',f'{svd_search.best_params[\"rmse\"]}',f'{nmf_search.best_params[\"rmse\"]}']})\n",
    "\n",
    "summary_df"
   ]
  },
  {
   "cell_type": "code",
   "execution_count": 70,
   "metadata": {},
   "outputs": [
    {
     "data": {
      "text/plain": [
       "{'k': 25,\n",
       " 'sim_options': {'name': 'pearson_baseline', 'user_based': 'True'},\n",
       " 'min_k': 2}"
      ]
     },
     "execution_count": 70,
     "metadata": {},
     "output_type": "execute_result"
    }
   ],
   "source": [
    "#best hyperparams combination\n",
    "knn_search.best_params[\"rmse\"]"
   ]
  },
  {
   "cell_type": "code",
   "execution_count": 71,
   "metadata": {},
   "outputs": [],
   "source": [
    "#intialize ber hyperparams\n",
    "best_params = knn_search.best_params['rmse']"
   ]
  },
  {
   "cell_type": "code",
   "execution_count": 72,
   "metadata": {},
   "outputs": [
    {
     "name": "stdout",
     "output_type": "stream",
     "text": [
      "Estimating biases using als...\n",
      "Computing the pearson_baseline similarity matrix...\n",
      "Done computing similarity matrix.\n"
     ]
    },
    {
     "data": {
      "text/plain": [
       "<surprise.prediction_algorithms.knns.KNNBaseline at 0x29b0683c700>"
      ]
     },
     "execution_count": 72,
     "metadata": {},
     "output_type": "execute_result"
    }
   ],
   "source": [
    "#create obj. and retrain whole train data\n",
    "model_best = KNNBaseline(**best_params)\n",
    "model_best.fit(train_data)"
   ]
  },
  {
   "cell_type": "code",
   "execution_count": 73,
   "metadata": {},
   "outputs": [
    {
     "name": "stdout",
     "output_type": "stream",
     "text": [
      "RMSE: 0.8581\n"
     ]
    },
    {
     "data": {
      "text/plain": [
       "0.8581299488628784"
      ]
     },
     "execution_count": 73,
     "metadata": {},
     "output_type": "execute_result"
    }
   ],
   "source": [
    "#predict test data using best model\n",
    "test_pred = model_best.test(test_data)\n",
    "test_rmse = accuracy.rmse(test_pred)\n",
    "test_rmse"
   ]
  },
  {
   "cell_type": "code",
   "execution_count": 74,
   "metadata": {},
   "outputs": [
    {
     "data": {
      "text/html": [
       "<div>\n",
       "<style scoped>\n",
       "    .dataframe tbody tr th:only-of-type {\n",
       "        vertical-align: middle;\n",
       "    }\n",
       "\n",
       "    .dataframe tbody tr th {\n",
       "        vertical-align: top;\n",
       "    }\n",
       "\n",
       "    .dataframe thead th {\n",
       "        text-align: right;\n",
       "    }\n",
       "</style>\n",
       "<table border=\"1\" class=\"dataframe\">\n",
       "  <thead>\n",
       "    <tr style=\"text-align: right;\">\n",
       "      <th></th>\n",
       "      <th>Model</th>\n",
       "      <th>RMSE-Tuning</th>\n",
       "      <th>RMSE-Test</th>\n",
       "    </tr>\n",
       "  </thead>\n",
       "  <tbody>\n",
       "    <tr>\n",
       "      <th>0</th>\n",
       "      <td>User to User CF</td>\n",
       "      <td>0.856963</td>\n",
       "      <td>0.85813</td>\n",
       "    </tr>\n",
       "  </tbody>\n",
       "</table>\n",
       "</div>"
      ],
      "text/plain": [
       "             Model  RMSE-Tuning  RMSE-Test\n",
       "0  User to User CF     0.856963    0.85813"
      ]
     },
     "execution_count": 74,
     "metadata": {},
     "output_type": "execute_result"
    }
   ],
   "source": [
    "#summarize RMSE tuning dan test\n",
    "summary_test_df = pd.DataFrame({'Model' : ['User to User CF'],\n",
    "                                'RMSE-Tuning': [knn_search.best_score['rmse']],\n",
    "                                'RMSE-Test': [test_rmse]})\n",
    "\n",
    "summary_test_df"
   ]
  },
  {
   "cell_type": "markdown",
   "metadata": {},
   "source": [
    "#### Prediction"
   ]
  },
  {
   "cell_type": "code",
   "execution_count": 75,
   "metadata": {},
   "outputs": [],
   "source": [
    "#predict user_id = 2 and book_id = 4\n",
    "sample_prediction = model_best.predict(uid = 2,\n",
    "                                      iid = 4)"
   ]
  },
  {
   "cell_type": "code",
   "execution_count": 76,
   "metadata": {},
   "outputs": [
    {
     "data": {
      "text/plain": [
       "Prediction(uid=2, iid=4, r_ui=None, est=4.961821802113375, details={'actual_k': 25, 'was_impossible': False})"
      ]
     },
     "execution_count": 76,
     "metadata": {},
     "output_type": "execute_result"
    }
   ],
   "source": [
    "sample_prediction"
   ]
  },
  {
   "cell_type": "markdown",
   "metadata": {},
   "source": [
    "Find all book that have not been viewed/unrated by user_id= 2"
   ]
  },
  {
   "cell_type": "code",
   "execution_count": null,
   "metadata": {},
   "outputs": [],
   "source": [
    "#get unique book_id\n",
    "unique_book_id = set(rating_data['book_id'])\n",
    "print(unique_book_id)"
   ]
  },
  {
   "cell_type": "code",
   "execution_count": null,
   "metadata": {},
   "outputs": [],
   "source": [
    "#get book_id that is rated by user_id = 2\n",
    "rated_book_id = set(rating_data.loc[rating_data['user_id']==2, 'book_id'])\n",
    "print(rated_book_id)"
   ]
  },
  {
   "cell_type": "code",
   "execution_count": null,
   "metadata": {},
   "outputs": [],
   "source": [
    "#find unrated book_id\n",
    "unrated_book_id = unique_book_id.difference(rated_book_id)\n",
    "print(unrated_book_id)"
   ]
  },
  {
   "cell_type": "code",
   "execution_count": 80,
   "metadata": {},
   "outputs": [],
   "source": [
    "#make function\n",
    "def get_unrated_book_ids(rating_data, user_id):\n",
    "    \"\"\"\n",
    "    Gets a list of book IDs that a user has not rated yet.\n",
    "\n",
    "    Parameters\n",
    "    ----------\n",
    "    rating_data : DataFrame\n",
    "        The DataFrame containing the rating data.\n",
    "    user_id : int\n",
    "        The ID of the user for whom we want to find unrated book IDs.\n",
    "\n",
    "    Returns\n",
    "    -------\n",
    "    unrated_book_ids : set\n",
    "        A set of book IDs that the user has not rated.\n",
    "    \"\"\"\n",
    "    #get unique book_id\n",
    "    unique_book_ids = set(rating_data['book_id'])\n",
    "    #get book_id that is rated by user_id = 2\n",
    "    rated_book_ids = set(rating_data.loc[rating_data['user_id'] == user_id, 'book_id'])\n",
    "    #find unrated book_id\n",
    "    unrated_book_ids = unique_book_ids.difference(rated_book_ids)\n",
    "    \n",
    "    return unrated_book_ids\n"
   ]
  },
  {
   "cell_type": "code",
   "execution_count": null,
   "metadata": {},
   "outputs": [],
   "source": [
    "#check result function and manual\n",
    "unrated_books = get_unrated_book_ids(rating_data, 2)\n",
    "print(unrated_books)"
   ]
  },
  {
   "cell_type": "code",
   "execution_count": 82,
   "metadata": {},
   "outputs": [
    {
     "data": {
      "text/plain": [
       "{'user_id': 2, 'book_id': [], 'predicted_rating': []}"
      ]
     },
     "execution_count": 82,
     "metadata": {},
     "output_type": "execute_result"
    }
   ],
   "source": [
    "#create predict from unrated book\n",
    "predicted_unrated_book = {\n",
    "    'user_id': 2,\n",
    "    'book_id': [],\n",
    "    'predicted_rating': []\n",
    "}\n",
    "\n",
    "predicted_unrated_book"
   ]
  },
  {
   "cell_type": "code",
   "execution_count": 83,
   "metadata": {},
   "outputs": [],
   "source": [
    "#loop all unrated book\n",
    "for id in unrated_book_id:\n",
    "    #make predict\n",
    "    pred_id = model_best.predict(uid = predicted_unrated_book['user_id'],\n",
    "                                 iid = id)\n",
    "    #append\n",
    "    predicted_unrated_book['book_id'].append(id)\n",
    "    predicted_unrated_book['predicted_rating'].append(pred_id.est)"
   ]
  },
  {
   "cell_type": "code",
   "execution_count": 84,
   "metadata": {},
   "outputs": [
    {
     "data": {
      "text/html": [
       "<div>\n",
       "<style scoped>\n",
       "    .dataframe tbody tr th:only-of-type {\n",
       "        vertical-align: middle;\n",
       "    }\n",
       "\n",
       "    .dataframe tbody tr th {\n",
       "        vertical-align: top;\n",
       "    }\n",
       "\n",
       "    .dataframe thead th {\n",
       "        text-align: right;\n",
       "    }\n",
       "</style>\n",
       "<table border=\"1\" class=\"dataframe\">\n",
       "  <thead>\n",
       "    <tr style=\"text-align: right;\">\n",
       "      <th></th>\n",
       "      <th>user_id</th>\n",
       "      <th>book_id</th>\n",
       "      <th>predicted_rating</th>\n",
       "    </tr>\n",
       "  </thead>\n",
       "  <tbody>\n",
       "    <tr>\n",
       "      <th>0</th>\n",
       "      <td>2</td>\n",
       "      <td>1</td>\n",
       "      <td>4.565140</td>\n",
       "    </tr>\n",
       "    <tr>\n",
       "      <th>1</th>\n",
       "      <td>2</td>\n",
       "      <td>3</td>\n",
       "      <td>3.498752</td>\n",
       "    </tr>\n",
       "    <tr>\n",
       "      <th>2</th>\n",
       "      <td>2</td>\n",
       "      <td>4</td>\n",
       "      <td>4.961822</td>\n",
       "    </tr>\n",
       "    <tr>\n",
       "      <th>3</th>\n",
       "      <td>2</td>\n",
       "      <td>6</td>\n",
       "      <td>4.588569</td>\n",
       "    </tr>\n",
       "    <tr>\n",
       "      <th>4</th>\n",
       "      <td>2</td>\n",
       "      <td>7</td>\n",
       "      <td>4.074330</td>\n",
       "    </tr>\n",
       "    <tr>\n",
       "      <th>...</th>\n",
       "      <td>...</td>\n",
       "      <td>...</td>\n",
       "      <td>...</td>\n",
       "    </tr>\n",
       "    <tr>\n",
       "      <th>9930</th>\n",
       "      <td>2</td>\n",
       "      <td>9996</td>\n",
       "      <td>4.205349</td>\n",
       "    </tr>\n",
       "    <tr>\n",
       "      <th>9931</th>\n",
       "      <td>2</td>\n",
       "      <td>9997</td>\n",
       "      <td>4.205349</td>\n",
       "    </tr>\n",
       "    <tr>\n",
       "      <th>9932</th>\n",
       "      <td>2</td>\n",
       "      <td>9998</td>\n",
       "      <td>4.205349</td>\n",
       "    </tr>\n",
       "    <tr>\n",
       "      <th>9933</th>\n",
       "      <td>2</td>\n",
       "      <td>9999</td>\n",
       "      <td>4.205349</td>\n",
       "    </tr>\n",
       "    <tr>\n",
       "      <th>9934</th>\n",
       "      <td>2</td>\n",
       "      <td>10000</td>\n",
       "      <td>4.205349</td>\n",
       "    </tr>\n",
       "  </tbody>\n",
       "</table>\n",
       "<p>9935 rows × 3 columns</p>\n",
       "</div>"
      ],
      "text/plain": [
       "      user_id  book_id  predicted_rating\n",
       "0           2        1          4.565140\n",
       "1           2        3          3.498752\n",
       "2           2        4          4.961822\n",
       "3           2        6          4.588569\n",
       "4           2        7          4.074330\n",
       "...       ...      ...               ...\n",
       "9930        2     9996          4.205349\n",
       "9931        2     9997          4.205349\n",
       "9932        2     9998          4.205349\n",
       "9933        2     9999          4.205349\n",
       "9934        2    10000          4.205349\n",
       "\n",
       "[9935 rows x 3 columns]"
      ]
     },
     "execution_count": 84,
     "metadata": {},
     "output_type": "execute_result"
    }
   ],
   "source": [
    "#convert to df\n",
    "predicted_unrated_book = pd.DataFrame(predicted_unrated_book)\n",
    "predicted_unrated_book"
   ]
  },
  {
   "cell_type": "code",
   "execution_count": 85,
   "metadata": {},
   "outputs": [
    {
     "data": {
      "text/html": [
       "<div>\n",
       "<style scoped>\n",
       "    .dataframe tbody tr th:only-of-type {\n",
       "        vertical-align: middle;\n",
       "    }\n",
       "\n",
       "    .dataframe tbody tr th {\n",
       "        vertical-align: top;\n",
       "    }\n",
       "\n",
       "    .dataframe thead th {\n",
       "        text-align: right;\n",
       "    }\n",
       "</style>\n",
       "<table border=\"1\" class=\"dataframe\">\n",
       "  <thead>\n",
       "    <tr style=\"text-align: right;\">\n",
       "      <th></th>\n",
       "      <th>user_id</th>\n",
       "      <th>book_id</th>\n",
       "      <th>predicted_rating</th>\n",
       "    </tr>\n",
       "  </thead>\n",
       "  <tbody>\n",
       "    <tr>\n",
       "      <th>470</th>\n",
       "      <td>2</td>\n",
       "      <td>507</td>\n",
       "      <td>5.000000</td>\n",
       "    </tr>\n",
       "    <tr>\n",
       "      <th>66</th>\n",
       "      <td>2</td>\n",
       "      <td>85</td>\n",
       "      <td>5.000000</td>\n",
       "    </tr>\n",
       "    <tr>\n",
       "      <th>385</th>\n",
       "      <td>2</td>\n",
       "      <td>422</td>\n",
       "      <td>5.000000</td>\n",
       "    </tr>\n",
       "    <tr>\n",
       "      <th>453</th>\n",
       "      <td>2</td>\n",
       "      <td>490</td>\n",
       "      <td>4.973167</td>\n",
       "    </tr>\n",
       "    <tr>\n",
       "      <th>2</th>\n",
       "      <td>2</td>\n",
       "      <td>4</td>\n",
       "      <td>4.961822</td>\n",
       "    </tr>\n",
       "    <tr>\n",
       "      <th>...</th>\n",
       "      <td>...</td>\n",
       "      <td>...</td>\n",
       "      <td>...</td>\n",
       "    </tr>\n",
       "    <tr>\n",
       "      <th>195</th>\n",
       "      <td>2</td>\n",
       "      <td>224</td>\n",
       "      <td>2.784238</td>\n",
       "    </tr>\n",
       "    <tr>\n",
       "      <th>19</th>\n",
       "      <td>2</td>\n",
       "      <td>34</td>\n",
       "      <td>2.688126</td>\n",
       "    </tr>\n",
       "    <tr>\n",
       "      <th>216</th>\n",
       "      <td>2</td>\n",
       "      <td>246</td>\n",
       "      <td>2.609063</td>\n",
       "    </tr>\n",
       "    <tr>\n",
       "      <th>77</th>\n",
       "      <td>2</td>\n",
       "      <td>96</td>\n",
       "      <td>2.582685</td>\n",
       "    </tr>\n",
       "    <tr>\n",
       "      <th>378</th>\n",
       "      <td>2</td>\n",
       "      <td>415</td>\n",
       "      <td>2.353968</td>\n",
       "    </tr>\n",
       "  </tbody>\n",
       "</table>\n",
       "<p>9935 rows × 3 columns</p>\n",
       "</div>"
      ],
      "text/plain": [
       "     user_id  book_id  predicted_rating\n",
       "470        2      507          5.000000\n",
       "66         2       85          5.000000\n",
       "385        2      422          5.000000\n",
       "453        2      490          4.973167\n",
       "2          2        4          4.961822\n",
       "..       ...      ...               ...\n",
       "195        2      224          2.784238\n",
       "19         2       34          2.688126\n",
       "216        2      246          2.609063\n",
       "77         2       96          2.582685\n",
       "378        2      415          2.353968\n",
       "\n",
       "[9935 rows x 3 columns]"
      ]
     },
     "execution_count": 85,
     "metadata": {},
     "output_type": "execute_result"
    }
   ],
   "source": [
    "#sort predicted rating\n",
    "predicted_unrated_book = predicted_unrated_book.sort_values('predicted_rating',\n",
    "                                                              ascending = False)\n",
    "predicted_unrated_book"
   ]
  },
  {
   "cell_type": "code",
   "execution_count": 86,
   "metadata": {},
   "outputs": [],
   "source": [
    "#make function\n",
    "def predict_and_sort_ratings(model, user_id, unrated_book_ids):\n",
    "    \"\"\"\n",
    "    Predicts and sorts unrated books based on predicted ratings for a given user.\n",
    "\n",
    "    Parameters\n",
    "    ----------\n",
    "    model : object\n",
    "        The collaborative filtering model used for predictions.\n",
    "    user_id : int\n",
    "        The ID of the user for whom we want to predict and sort unrated books.\n",
    "    unrated_book_ids : list\n",
    "        A list of book IDs that the user has not rated yet.\n",
    "\n",
    "    Returns\n",
    "    -------\n",
    "    predicted_unrated_book_df : DataFrame\n",
    "        A DataFrame containing the predicted ratings and book IDs,\n",
    "        sorted in descending order of predicted ratings.\n",
    "    \"\"\"\n",
    "\n",
    "    #initialize\n",
    "    predicted_unrated_book = {\n",
    "        'user_id': user_id,\n",
    "        'book_id': [],\n",
    "        'predicted_rating': []\n",
    "    }\n",
    "    \n",
    "    #loop all unrated book\n",
    "    for book_id in unrated_book_ids:\n",
    "        #make predict\n",
    "        pred_id = model.predict(uid=predicted_unrated_book['user_id'],\n",
    "                                iid=book_id)\n",
    "        #append\n",
    "        predicted_unrated_book['book_id'].append(book_id)\n",
    "        predicted_unrated_book['predicted_rating'].append(pred_id.est)\n",
    "\n",
    "    #create df\n",
    "    predicted_unrated_book_df = pd.DataFrame(predicted_unrated_book).sort_values('predicted_rating',\n",
    "                                                                                  ascending=False)\n",
    "\n",
    "    return predicted_unrated_book_df\n"
   ]
  },
  {
   "cell_type": "code",
   "execution_count": 87,
   "metadata": {},
   "outputs": [
    {
     "data": {
      "text/html": [
       "<div>\n",
       "<style scoped>\n",
       "    .dataframe tbody tr th:only-of-type {\n",
       "        vertical-align: middle;\n",
       "    }\n",
       "\n",
       "    .dataframe tbody tr th {\n",
       "        vertical-align: top;\n",
       "    }\n",
       "\n",
       "    .dataframe thead th {\n",
       "        text-align: right;\n",
       "    }\n",
       "</style>\n",
       "<table border=\"1\" class=\"dataframe\">\n",
       "  <thead>\n",
       "    <tr style=\"text-align: right;\">\n",
       "      <th></th>\n",
       "      <th>user_id</th>\n",
       "      <th>book_id</th>\n",
       "      <th>predicted_rating</th>\n",
       "    </tr>\n",
       "  </thead>\n",
       "  <tbody>\n",
       "    <tr>\n",
       "      <th>470</th>\n",
       "      <td>2</td>\n",
       "      <td>507</td>\n",
       "      <td>5.000000</td>\n",
       "    </tr>\n",
       "    <tr>\n",
       "      <th>66</th>\n",
       "      <td>2</td>\n",
       "      <td>85</td>\n",
       "      <td>5.000000</td>\n",
       "    </tr>\n",
       "    <tr>\n",
       "      <th>385</th>\n",
       "      <td>2</td>\n",
       "      <td>422</td>\n",
       "      <td>5.000000</td>\n",
       "    </tr>\n",
       "    <tr>\n",
       "      <th>453</th>\n",
       "      <td>2</td>\n",
       "      <td>490</td>\n",
       "      <td>4.973167</td>\n",
       "    </tr>\n",
       "    <tr>\n",
       "      <th>2</th>\n",
       "      <td>2</td>\n",
       "      <td>4</td>\n",
       "      <td>4.961822</td>\n",
       "    </tr>\n",
       "    <tr>\n",
       "      <th>...</th>\n",
       "      <td>...</td>\n",
       "      <td>...</td>\n",
       "      <td>...</td>\n",
       "    </tr>\n",
       "    <tr>\n",
       "      <th>195</th>\n",
       "      <td>2</td>\n",
       "      <td>224</td>\n",
       "      <td>2.784238</td>\n",
       "    </tr>\n",
       "    <tr>\n",
       "      <th>19</th>\n",
       "      <td>2</td>\n",
       "      <td>34</td>\n",
       "      <td>2.688126</td>\n",
       "    </tr>\n",
       "    <tr>\n",
       "      <th>216</th>\n",
       "      <td>2</td>\n",
       "      <td>246</td>\n",
       "      <td>2.609063</td>\n",
       "    </tr>\n",
       "    <tr>\n",
       "      <th>77</th>\n",
       "      <td>2</td>\n",
       "      <td>96</td>\n",
       "      <td>2.582685</td>\n",
       "    </tr>\n",
       "    <tr>\n",
       "      <th>378</th>\n",
       "      <td>2</td>\n",
       "      <td>415</td>\n",
       "      <td>2.353968</td>\n",
       "    </tr>\n",
       "  </tbody>\n",
       "</table>\n",
       "<p>9935 rows × 3 columns</p>\n",
       "</div>"
      ],
      "text/plain": [
       "     user_id  book_id  predicted_rating\n",
       "470        2      507          5.000000\n",
       "66         2       85          5.000000\n",
       "385        2      422          5.000000\n",
       "453        2      490          4.973167\n",
       "2          2        4          4.961822\n",
       "..       ...      ...               ...\n",
       "195        2      224          2.784238\n",
       "19         2       34          2.688126\n",
       "216        2      246          2.609063\n",
       "77         2       96          2.582685\n",
       "378        2      415          2.353968\n",
       "\n",
       "[9935 rows x 3 columns]"
      ]
     },
     "execution_count": 87,
     "metadata": {},
     "output_type": "execute_result"
    }
   ],
   "source": [
    "predicted_books_df = predict_and_sort_ratings(model_best,2,unrated_book_ids=unrated_books)\n",
    "predicted_books_df"
   ]
  },
  {
   "cell_type": "code",
   "execution_count": 88,
   "metadata": {},
   "outputs": [
    {
     "data": {
      "text/html": [
       "<div>\n",
       "<style scoped>\n",
       "    .dataframe tbody tr th:only-of-type {\n",
       "        vertical-align: middle;\n",
       "    }\n",
       "\n",
       "    .dataframe tbody tr th {\n",
       "        vertical-align: top;\n",
       "    }\n",
       "\n",
       "    .dataframe thead th {\n",
       "        text-align: right;\n",
       "    }\n",
       "</style>\n",
       "<table border=\"1\" class=\"dataframe\">\n",
       "  <thead>\n",
       "    <tr style=\"text-align: right;\">\n",
       "      <th></th>\n",
       "      <th>book_id</th>\n",
       "      <th>authors</th>\n",
       "      <th>original_publication_year</th>\n",
       "      <th>original_title</th>\n",
       "      <th>image_url</th>\n",
       "    </tr>\n",
       "  </thead>\n",
       "  <tbody>\n",
       "    <tr>\n",
       "      <th>0</th>\n",
       "      <td>1</td>\n",
       "      <td>Suzanne Collins</td>\n",
       "      <td>2008</td>\n",
       "      <td>The Hunger Games</td>\n",
       "      <td>https://images.gr-assets.com/books/1447303603m...</td>\n",
       "    </tr>\n",
       "    <tr>\n",
       "      <th>1</th>\n",
       "      <td>2</td>\n",
       "      <td>J.K. Rowling, Mary GrandPré</td>\n",
       "      <td>1997</td>\n",
       "      <td>Harry Potter and the Philosopher's Stone</td>\n",
       "      <td>https://images.gr-assets.com/books/1474154022m...</td>\n",
       "    </tr>\n",
       "    <tr>\n",
       "      <th>2</th>\n",
       "      <td>3</td>\n",
       "      <td>Stephenie Meyer</td>\n",
       "      <td>2005</td>\n",
       "      <td>Twilight</td>\n",
       "      <td>https://images.gr-assets.com/books/1361039443m...</td>\n",
       "    </tr>\n",
       "    <tr>\n",
       "      <th>3</th>\n",
       "      <td>4</td>\n",
       "      <td>Harper Lee</td>\n",
       "      <td>1960</td>\n",
       "      <td>To Kill a Mockingbird</td>\n",
       "      <td>https://images.gr-assets.com/books/1361975680m...</td>\n",
       "    </tr>\n",
       "    <tr>\n",
       "      <th>4</th>\n",
       "      <td>5</td>\n",
       "      <td>F. Scott Fitzgerald</td>\n",
       "      <td>1925</td>\n",
       "      <td>The Great Gatsby</td>\n",
       "      <td>https://images.gr-assets.com/books/1490528560m...</td>\n",
       "    </tr>\n",
       "  </tbody>\n",
       "</table>\n",
       "</div>"
      ],
      "text/plain": [
       "   book_id                      authors  original_publication_year  \\\n",
       "0        1              Suzanne Collins                       2008   \n",
       "1        2  J.K. Rowling, Mary GrandPré                       1997   \n",
       "2        3              Stephenie Meyer                       2005   \n",
       "3        4                   Harper Lee                       1960   \n",
       "4        5          F. Scott Fitzgerald                       1925   \n",
       "\n",
       "                             original_title  \\\n",
       "0                          The Hunger Games   \n",
       "1  Harry Potter and the Philosopher's Stone   \n",
       "2                                  Twilight   \n",
       "3                     To Kill a Mockingbird   \n",
       "4                          The Great Gatsby   \n",
       "\n",
       "                                           image_url  \n",
       "0  https://images.gr-assets.com/books/1447303603m...  \n",
       "1  https://images.gr-assets.com/books/1474154022m...  \n",
       "2  https://images.gr-assets.com/books/1361039443m...  \n",
       "3  https://images.gr-assets.com/books/1361975680m...  \n",
       "4  https://images.gr-assets.com/books/1490528560m...  "
      ]
     },
     "execution_count": 88,
     "metadata": {},
     "output_type": "execute_result"
    }
   ],
   "source": [
    "#initialize book data\n",
    "new_book_data = book_copy\n",
    "new_book_data.head()"
   ]
  },
  {
   "cell_type": "code",
   "execution_count": 89,
   "metadata": {},
   "outputs": [
    {
     "data": {
      "text/html": [
       "<div>\n",
       "<style scoped>\n",
       "    .dataframe tbody tr th:only-of-type {\n",
       "        vertical-align: middle;\n",
       "    }\n",
       "\n",
       "    .dataframe tbody tr th {\n",
       "        vertical-align: top;\n",
       "    }\n",
       "\n",
       "    .dataframe thead th {\n",
       "        text-align: right;\n",
       "    }\n",
       "</style>\n",
       "<table border=\"1\" class=\"dataframe\">\n",
       "  <thead>\n",
       "    <tr style=\"text-align: right;\">\n",
       "      <th></th>\n",
       "      <th>user_id</th>\n",
       "      <th>book_id</th>\n",
       "      <th>predicted_rating</th>\n",
       "    </tr>\n",
       "  </thead>\n",
       "  <tbody>\n",
       "    <tr>\n",
       "      <th>470</th>\n",
       "      <td>2</td>\n",
       "      <td>507</td>\n",
       "      <td>5.000000</td>\n",
       "    </tr>\n",
       "    <tr>\n",
       "      <th>66</th>\n",
       "      <td>2</td>\n",
       "      <td>85</td>\n",
       "      <td>5.000000</td>\n",
       "    </tr>\n",
       "    <tr>\n",
       "      <th>385</th>\n",
       "      <td>2</td>\n",
       "      <td>422</td>\n",
       "      <td>5.000000</td>\n",
       "    </tr>\n",
       "    <tr>\n",
       "      <th>453</th>\n",
       "      <td>2</td>\n",
       "      <td>490</td>\n",
       "      <td>4.973167</td>\n",
       "    </tr>\n",
       "    <tr>\n",
       "      <th>2</th>\n",
       "      <td>2</td>\n",
       "      <td>4</td>\n",
       "      <td>4.961822</td>\n",
       "    </tr>\n",
       "  </tbody>\n",
       "</table>\n",
       "</div>"
      ],
      "text/plain": [
       "     user_id  book_id  predicted_rating\n",
       "470        2      507          5.000000\n",
       "66         2       85          5.000000\n",
       "385        2      422          5.000000\n",
       "453        2      490          4.973167\n",
       "2          2        4          4.961822"
      ]
     },
     "execution_count": 89,
     "metadata": {},
     "output_type": "execute_result"
    }
   ],
   "source": [
    "#top k biggest rating\n",
    "k = 5\n",
    "top_book = predicted_unrated_book.head(k).copy()\n",
    "top_book"
   ]
  },
  {
   "cell_type": "code",
   "execution_count": 90,
   "metadata": {},
   "outputs": [
    {
     "data": {
      "text/html": [
       "<div>\n",
       "<style scoped>\n",
       "    .dataframe tbody tr th:only-of-type {\n",
       "        vertical-align: middle;\n",
       "    }\n",
       "\n",
       "    .dataframe tbody tr th {\n",
       "        vertical-align: top;\n",
       "    }\n",
       "\n",
       "    .dataframe thead th {\n",
       "        text-align: right;\n",
       "    }\n",
       "</style>\n",
       "<table border=\"1\" class=\"dataframe\">\n",
       "  <thead>\n",
       "    <tr style=\"text-align: right;\">\n",
       "      <th></th>\n",
       "      <th>user_id</th>\n",
       "      <th>book_id</th>\n",
       "      <th>predicted_rating</th>\n",
       "      <th>authors</th>\n",
       "      <th>original_publication_year</th>\n",
       "      <th>original_title</th>\n",
       "      <th>image_url</th>\n",
       "    </tr>\n",
       "  </thead>\n",
       "  <tbody>\n",
       "    <tr>\n",
       "      <th>470</th>\n",
       "      <td>2</td>\n",
       "      <td>507</td>\n",
       "      <td>5.000000</td>\n",
       "      <td>Barbara Ehrenreich</td>\n",
       "      <td>2001</td>\n",
       "      <td>Nickel and Dimed: On (Not) Getting By in America</td>\n",
       "      <td>https://s.gr-assets.com/assets/nophoto/book/11...</td>\n",
       "    </tr>\n",
       "    <tr>\n",
       "      <th>66</th>\n",
       "      <td>2</td>\n",
       "      <td>85</td>\n",
       "      <td>5.000000</td>\n",
       "      <td>John Grisham</td>\n",
       "      <td>1989</td>\n",
       "      <td>A Time to Kill</td>\n",
       "      <td>https://s.gr-assets.com/assets/nophoto/book/11...</td>\n",
       "    </tr>\n",
       "    <tr>\n",
       "      <th>385</th>\n",
       "      <td>2</td>\n",
       "      <td>422</td>\n",
       "      <td>5.000000</td>\n",
       "      <td>Kiera Cass</td>\n",
       "      <td>2013</td>\n",
       "      <td>The Elite</td>\n",
       "      <td>https://images.gr-assets.com/books/1391454595m...</td>\n",
       "    </tr>\n",
       "    <tr>\n",
       "      <th>453</th>\n",
       "      <td>2</td>\n",
       "      <td>490</td>\n",
       "      <td>4.973167</td>\n",
       "      <td>P.C. Cast, Kristin Cast</td>\n",
       "      <td>2008</td>\n",
       "      <td>Untamed: A House of Night Novel</td>\n",
       "      <td>https://images.gr-assets.com/books/1438037020m...</td>\n",
       "    </tr>\n",
       "    <tr>\n",
       "      <th>2</th>\n",
       "      <td>2</td>\n",
       "      <td>4</td>\n",
       "      <td>4.961822</td>\n",
       "      <td>F. Scott Fitzgerald</td>\n",
       "      <td>1925</td>\n",
       "      <td>The Great Gatsby</td>\n",
       "      <td>https://images.gr-assets.com/books/1490528560m...</td>\n",
       "    </tr>\n",
       "  </tbody>\n",
       "</table>\n",
       "</div>"
      ],
      "text/plain": [
       "     user_id  book_id  predicted_rating                  authors  \\\n",
       "470        2      507          5.000000       Barbara Ehrenreich   \n",
       "66         2       85          5.000000             John Grisham   \n",
       "385        2      422          5.000000               Kiera Cass   \n",
       "453        2      490          4.973167  P.C. Cast, Kristin Cast   \n",
       "2          2        4          4.961822      F. Scott Fitzgerald   \n",
       "\n",
       "     original_publication_year  \\\n",
       "470                       2001   \n",
       "66                        1989   \n",
       "385                       2013   \n",
       "453                       2008   \n",
       "2                         1925   \n",
       "\n",
       "                                       original_title  \\\n",
       "470  Nickel and Dimed: On (Not) Getting By in America   \n",
       "66                                     A Time to Kill   \n",
       "385                                         The Elite   \n",
       "453                   Untamed: A House of Night Novel   \n",
       "2                                    The Great Gatsby   \n",
       "\n",
       "                                             image_url  \n",
       "470  https://s.gr-assets.com/assets/nophoto/book/11...  \n",
       "66   https://s.gr-assets.com/assets/nophoto/book/11...  \n",
       "385  https://images.gr-assets.com/books/1391454595m...  \n",
       "453  https://images.gr-assets.com/books/1438037020m...  \n",
       "2    https://images.gr-assets.com/books/1490528560m...  "
      ]
     },
     "execution_count": 90,
     "metadata": {},
     "output_type": "execute_result"
    }
   ],
   "source": [
    "#add detail\n",
    "top_book['authors'] = new_book_data.loc[top_book['book_id'], 'authors'].values\n",
    "top_book['original_publication_year'] = new_book_data.loc[top_book['book_id'], 'original_publication_year'].values\n",
    "top_book['original_title'] = new_book_data.loc[top_book['book_id'], 'original_title'].values\n",
    "top_book['image_url'] = new_book_data.loc[top_book['book_id'], 'image_url'].values\n",
    "\n",
    "top_book"
   ]
  },
  {
   "cell_type": "code",
   "execution_count": 91,
   "metadata": {},
   "outputs": [],
   "source": [
    "def get_top_predicted_books(model, k, user_id, rating_data, book_data):\n",
    "    \"\"\"\n",
    "    Gets the top predicted books for a given user based on a collaborative filtering model.\n",
    "\n",
    "    Parameters\n",
    "    ----------\n",
    "    model : object\n",
    "        The collaborative filtering model used for predictions\n",
    "    k : int\n",
    "        The number of top predicted books to retrieve\n",
    "    user_id : int\n",
    "        The ID of the user for whom to get top predicted books\n",
    "    rating_data : DataFrame\n",
    "        The DataFrame containing the rating data\n",
    "    book_data : DataFrame\n",
    "        The DataFrame containing the book details\n",
    "\n",
    "    Returns\n",
    "    -------\n",
    "    top_books_df : DataFrame\n",
    "        A DataFrame containing the top predicted books along with their details\n",
    "    \"\"\"\n",
    "\n",
    "    # Get unrated book IDs for the user\n",
    "    unrated_book_ids = get_unrated_book_ids(rating_data, user_id)\n",
    "\n",
    "    # Predict and sort unrated books\n",
    "    predicted_books_df = predict_and_sort_ratings(model, user_id, unrated_book_ids)\n",
    "\n",
    "    # Get the top k predicted books\n",
    "    top_predicted_books = predicted_books_df.head(k).copy()\n",
    "\n",
    "    # Add book details to the top predicted books\n",
    "    top_predicted_books['authors'] = book_data.loc[top_predicted_books['book_id'], 'authors'].values\n",
    "    top_predicted_books['original_publication_year'] = book_data.loc[top_predicted_books['book_id'], 'original_publication_year'].values\n",
    "    top_predicted_books['original_title'] = book_data.loc[top_predicted_books['book_id'], 'original_title'].values\n",
    "    top_predicted_books['image_url'] = book_data.loc[top_predicted_books['book_id'], 'image_url'].values\n",
    "\n",
    "    return top_predicted_books"
   ]
  },
  {
   "cell_type": "code",
   "execution_count": 92,
   "metadata": {},
   "outputs": [
    {
     "data": {
      "text/html": [
       "<div>\n",
       "<style scoped>\n",
       "    .dataframe tbody tr th:only-of-type {\n",
       "        vertical-align: middle;\n",
       "    }\n",
       "\n",
       "    .dataframe tbody tr th {\n",
       "        vertical-align: top;\n",
       "    }\n",
       "\n",
       "    .dataframe thead th {\n",
       "        text-align: right;\n",
       "    }\n",
       "</style>\n",
       "<table border=\"1\" class=\"dataframe\">\n",
       "  <thead>\n",
       "    <tr style=\"text-align: right;\">\n",
       "      <th></th>\n",
       "      <th>user_id</th>\n",
       "      <th>book_id</th>\n",
       "      <th>predicted_rating</th>\n",
       "      <th>authors</th>\n",
       "      <th>original_publication_year</th>\n",
       "      <th>original_title</th>\n",
       "      <th>image_url</th>\n",
       "    </tr>\n",
       "  </thead>\n",
       "  <tbody>\n",
       "    <tr>\n",
       "      <th>470</th>\n",
       "      <td>2</td>\n",
       "      <td>507</td>\n",
       "      <td>5.000000</td>\n",
       "      <td>Barbara Ehrenreich</td>\n",
       "      <td>2001</td>\n",
       "      <td>Nickel and Dimed: On (Not) Getting By in America</td>\n",
       "      <td>https://s.gr-assets.com/assets/nophoto/book/11...</td>\n",
       "    </tr>\n",
       "    <tr>\n",
       "      <th>66</th>\n",
       "      <td>2</td>\n",
       "      <td>85</td>\n",
       "      <td>5.000000</td>\n",
       "      <td>John Grisham</td>\n",
       "      <td>1989</td>\n",
       "      <td>A Time to Kill</td>\n",
       "      <td>https://s.gr-assets.com/assets/nophoto/book/11...</td>\n",
       "    </tr>\n",
       "    <tr>\n",
       "      <th>385</th>\n",
       "      <td>2</td>\n",
       "      <td>422</td>\n",
       "      <td>5.000000</td>\n",
       "      <td>Kiera Cass</td>\n",
       "      <td>2013</td>\n",
       "      <td>The Elite</td>\n",
       "      <td>https://images.gr-assets.com/books/1391454595m...</td>\n",
       "    </tr>\n",
       "    <tr>\n",
       "      <th>453</th>\n",
       "      <td>2</td>\n",
       "      <td>490</td>\n",
       "      <td>4.973167</td>\n",
       "      <td>P.C. Cast, Kristin Cast</td>\n",
       "      <td>2008</td>\n",
       "      <td>Untamed: A House of Night Novel</td>\n",
       "      <td>https://images.gr-assets.com/books/1438037020m...</td>\n",
       "    </tr>\n",
       "    <tr>\n",
       "      <th>2</th>\n",
       "      <td>2</td>\n",
       "      <td>4</td>\n",
       "      <td>4.961822</td>\n",
       "      <td>F. Scott Fitzgerald</td>\n",
       "      <td>1925</td>\n",
       "      <td>The Great Gatsby</td>\n",
       "      <td>https://images.gr-assets.com/books/1490528560m...</td>\n",
       "    </tr>\n",
       "  </tbody>\n",
       "</table>\n",
       "</div>"
      ],
      "text/plain": [
       "     user_id  book_id  predicted_rating                  authors  \\\n",
       "470        2      507          5.000000       Barbara Ehrenreich   \n",
       "66         2       85          5.000000             John Grisham   \n",
       "385        2      422          5.000000               Kiera Cass   \n",
       "453        2      490          4.973167  P.C. Cast, Kristin Cast   \n",
       "2          2        4          4.961822      F. Scott Fitzgerald   \n",
       "\n",
       "     original_publication_year  \\\n",
       "470                       2001   \n",
       "66                        1989   \n",
       "385                       2013   \n",
       "453                       2008   \n",
       "2                         1925   \n",
       "\n",
       "                                       original_title  \\\n",
       "470  Nickel and Dimed: On (Not) Getting By in America   \n",
       "66                                     A Time to Kill   \n",
       "385                                         The Elite   \n",
       "453                   Untamed: A House of Night Novel   \n",
       "2                                    The Great Gatsby   \n",
       "\n",
       "                                             image_url  \n",
       "470  https://s.gr-assets.com/assets/nophoto/book/11...  \n",
       "66   https://s.gr-assets.com/assets/nophoto/book/11...  \n",
       "385  https://images.gr-assets.com/books/1391454595m...  \n",
       "453  https://images.gr-assets.com/books/1438037020m...  \n",
       "2    https://images.gr-assets.com/books/1490528560m...  "
      ]
     },
     "execution_count": 92,
     "metadata": {},
     "output_type": "execute_result"
    }
   ],
   "source": [
    "# Example usage\n",
    "predicted_books = get_top_predicted_books(model_best, 9, 2, rating_data, new_book_data)\n",
    "predicted_books"
   ]
  },
  {
   "cell_type": "code",
   "execution_count": 111,
   "metadata": {},
   "outputs": [],
   "source": [
    "pickle.dump(model_best,open('model_best.pkl','wb'))\n",
    "pickle.dump(book_data_small,open('books.pkl','wb'))\n",
    "pickle.dump(rating_data_small,open('rating.pkl','wb'))\n",
    "pickle.dump(predicted_books,open('predicted_books.pkl','wb'))"
   ]
  },
  {
   "cell_type": "code",
   "execution_count": null,
   "metadata": {},
   "outputs": [],
   "source": []
  }
 ],
 "metadata": {
  "kernelspec": {
   "display_name": "saturn (Python 3)",
   "language": "python",
   "name": "python3"
  },
  "language_info": {
   "codemirror_mode": {
    "name": "ipython",
    "version": 3
   },
   "file_extension": ".py",
   "mimetype": "text/x-python",
   "name": "python",
   "nbconvert_exporter": "python",
   "pygments_lexer": "ipython3",
   "version": "3.9.15"
  }
 },
 "nbformat": 4,
 "nbformat_minor": 4
}
